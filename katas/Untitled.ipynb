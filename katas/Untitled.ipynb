{
 "cells": [
  {
   "cell_type": "code",
   "execution_count": 7,
   "id": "a388df5d",
   "metadata": {},
   "outputs": [],
   "source": [
    "sentence =\"Should return 0 for emty string\"\n",
    "def get_count(sentence):\n",
    "    num_vowels = 0\n",
    "    for letter in sentence:\n",
    "        if (letter == \"a\" or\n",
    "            letter == \"e\" or\n",
    "            letter == \"i\" or\n",
    "            letter == \"o\"or\n",
    "            letter == \"u\"):\n",
    "            num_vowels +=1\n",
    "    print=(num_vowels)\n",
    "    \n",
    "    retunr=(num_vowels)\n",
    "    \n",
    "        "
   ]
  },
  {
   "cell_type": "code",
   "execution_count": null,
   "id": "7a1e3195",
   "metadata": {},
   "outputs": [],
   "source": []
  }
 ],
 "metadata": {
  "kernelspec": {
   "display_name": "Python 3 (ipykernel)",
   "language": "python",
   "name": "python3"
  },
  "language_info": {
   "codemirror_mode": {
    "name": "ipython",
    "version": 3
   },
   "file_extension": ".py",
   "mimetype": "text/x-python",
   "name": "python",
   "nbconvert_exporter": "python",
   "pygments_lexer": "ipython3",
   "version": "3.9.19"
  }
 },
 "nbformat": 4,
 "nbformat_minor": 5
}
