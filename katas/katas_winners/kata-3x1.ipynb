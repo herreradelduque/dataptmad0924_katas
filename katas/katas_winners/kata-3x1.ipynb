{
 "cells": [
  {
   "cell_type": "markdown",
   "id": "a447b8b5-f16b-451f-b45c-47746f721e1e",
   "metadata": {},
   "source": [
    "# Kata:"
   ]
  },
  {
   "cell_type": "markdown",
   "id": "c7379b61-1f04-4fa2-8865-bf3e2c83b39e",
   "metadata": {},
   "source": [
    "https://www.codewars.com/kata/5811597e9d278beb04000038/train/sql"
   ]
  },
  {
   "cell_type": "markdown",
   "id": "6276f1a4-9c0b-41cb-992a-51fc4e35c197",
   "metadata": {},
   "source": [
    "https://www.codewars.com/kata/5e5f09dc0a17be0023920f6f/train/sql"
   ]
  },
  {
   "cell_type": "markdown",
   "id": "6db7d72d-5621-480e-ae3e-80564523b843",
   "metadata": {},
   "source": [
    "https://www.codewars.com/kata/582cba7d3be8ce3a8300007c/train/sql"
   ]
  },
  {
   "cell_type": "markdown",
   "id": "5e2a4659-1d95-44fb-b92c-4646b4da4e6f",
   "metadata": {},
   "source": [
    "## Your name or team members:"
   ]
  },
  {
   "cell_type": "code",
   "execution_count": null,
   "id": "29ead553-d8b4-41aa-937f-7fd045595855",
   "metadata": {},
   "outputs": [],
   "source": [
    "Paul Correa"
   ]
  },
  {
   "cell_type": "markdown",
   "id": "f04997cc-966d-4e06-8eb0-64ab376728f8",
   "metadata": {},
   "source": [
    "## Use the following cells to test your solution:"
   ]
  },
  {
   "cell_type": "code",
   "execution_count": null,
   "id": "4202edc5-f719-4068-96bd-55703a8a6c27",
   "metadata": {},
   "outputs": [],
   "source": [
    "SELECT CAST (created_at AS DATE) AS day, description, COUNT (DISTINCT id) AS count\n",
    "FROM events\n",
    "WHERE name = 'trained'\n",
    "GROUP BY day, description\n",
    "ORDER BY day ASC "
   ]
  },
  {
   "cell_type": "code",
   "execution_count": null,
   "id": "1c1f6098-25a1-4805-a249-b833ca4a66a0",
   "metadata": {},
   "outputs": [],
   "source": [
    "SELECT CAST (created_at AS DATE) AS day, description, COUNT (DISTINCT id) AS count\n",
    "FROM events\n",
    "WHERE name = 'trained'\n",
    "GROUP BY day, description\n",
    "ORDER BY day ASC "
   ]
  },
  {
   "cell_type": "code",
   "execution_count": null,
   "id": "d46e4c3b-a3cf-416d-9da0-ce5fc9fbfadd",
   "metadata": {},
   "outputs": [],
   "source": [
    "SELECT \n",
    "  CAST(s.transaction_date AS DATE) as day,\n",
    "  d.name as department,\n",
    "  COUNT(DISTINCT s.id) as sale_count\n",
    "  FROM department AS d\n",
    "    INNER JOIN sale AS s on d.id = s.department_id\n",
    "  group by day, department"
   ]
  },
  {
   "cell_type": "markdown",
   "id": "5e5948ae-bfb0-4aa7-8cc0-83970accb44a",
   "metadata": {},
   "source": [
    "## Copy your submited solution here:"
   ]
  },
  {
   "cell_type": "markdown",
   "id": "029c3be7",
   "metadata": {},
   "source": [
    "### Solution Challenge 1:"
   ]
  },
  {
   "cell_type": "code",
   "execution_count": null,
   "id": "f05789df",
   "metadata": {},
   "outputs": [],
   "source": [
    "SELECT CAST (created_at AS DATE) AS day, description, COUNT (DISTINCT id) AS count\n",
    "FROM events\n",
    "WHERE name = 'trained'\n",
    "GROUP BY day, description\n",
    "ORDER BY day ASC "
   ]
  },
  {
   "cell_type": "markdown",
   "id": "16b4aa3b",
   "metadata": {},
   "source": [
    "### Solution Challenge 2:"
   ]
  },
  {
   "cell_type": "code",
   "execution_count": null,
   "id": "e7176ced",
   "metadata": {},
   "outputs": [],
   "source": [
    "SELECT CAST (created_at AS DATE) AS day, description, COUNT (DISTINCT id) AS count\n",
    "FROM events\n",
    "WHERE name = 'trained'\n",
    "GROUP BY day, description\n",
    "ORDER BY day ASC "
   ]
  },
  {
   "cell_type": "markdown",
   "id": "ee7f92e2",
   "metadata": {},
   "source": [
    "### Solution Challenge 3"
   ]
  },
  {
   "cell_type": "code",
   "execution_count": null,
   "id": "fa0fdd3f",
   "metadata": {},
   "outputs": [],
   "source": [
    "SELECT \n",
    "  CAST(s.transaction_date AS DATE) as day,\n",
    "  d.name as department,\n",
    "  COUNT(DISTINCT s.id) as sale_count\n",
    "  FROM department AS d\n",
    "    INNER JOIN sale AS s on d.id = s.department_id\n",
    "  group by day, department"
   ]
  }
 ],
 "metadata": {
  "kernelspec": {
   "display_name": "Python 3 (ipykernel)",
   "language": "python",
   "name": "python3"
  },
  "language_info": {
   "codemirror_mode": {
    "name": "ipython",
    "version": 3
   },
   "file_extension": ".py",
   "mimetype": "text/x-python",
   "name": "python",
   "nbconvert_exporter": "python",
   "pygments_lexer": "ipython3",
   "version": "3.12.5"
  }
 },
 "nbformat": 4,
 "nbformat_minor": 5
}
