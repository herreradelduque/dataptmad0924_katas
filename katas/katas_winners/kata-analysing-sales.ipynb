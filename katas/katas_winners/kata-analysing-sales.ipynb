{
 "cells": [
  {
   "cell_type": "markdown",
   "id": "a447b8b5-f16b-451f-b45c-47746f721e1e",
   "metadata": {},
   "source": [
    "# Kata:"
   ]
  },
  {
   "cell_type": "markdown",
   "id": "c7379b61-1f04-4fa2-8865-bf3e2c83b39e",
   "metadata": {},
   "source": [
    "https://www.codewars.com/kata/5dac87a0abe9f1001f39e36d/train/sql"
   ]
  },
  {
   "cell_type": "markdown",
   "id": "5e2a4659-1d95-44fb-b92c-4646b4da4e6f",
   "metadata": {},
   "source": [
    "## Your name or team members:"
   ]
  },
  {
   "cell_type": "code",
   "execution_count": null,
   "id": "29ead553-d8b4-41aa-937f-7fd045595855",
   "metadata": {},
   "outputs": [],
   "source": [
    "Blanca"
   ]
  },
  {
   "cell_type": "markdown",
   "id": "f04997cc-966d-4e06-8eb0-64ab376728f8",
   "metadata": {},
   "source": [
    "## Use the following cells to test your solution:"
   ]
  },
  {
   "cell_type": "code",
   "execution_count": null,
   "id": "9437e677",
   "metadata": {},
   "outputs": [],
   "source": [
    "# product name\n",
    "products.name AS product_name"
   ]
  },
  {
   "cell_type": "code",
   "execution_count": null,
   "id": "4202edc5-f719-4068-96bd-55703a8a6c27",
   "metadata": {},
   "outputs": [],
   "source": [
    "#Para sacar la info de fechas\n",
    "\n",
    "SELECT \n",
    "EXTRACT(YEAR FROM sales.date) AS year,\n",
    "EXTRACT(MONTH FROM sales.date) AS month,\n",
    "EXTRACT(DAY FROM sales.date) AS day\n",
    "\n",
    "FROM sales\n",
    "\n",
    "LIMIT 10;"
   ]
  },
  {
   "cell_type": "code",
   "execution_count": null,
   "id": "1c1f6098-25a1-4805-a249-b833ca4a66a0",
   "metadata": {},
   "outputs": [],
   "source": [
    "#total \n",
    "SUM(products.price * sales_details.count) as total"
   ]
  },
  {
   "cell_type": "code",
   "execution_count": null,
   "id": "17b114e5",
   "metadata": {},
   "outputs": [],
   "source": [
    "#join \n",
    "\n",
    "SELECT *\n",
    "FROM sales\n",
    "JOIN sales_details ON sales.id = sales_details.sale_id\n",
    "JOIN products ON sales_details.product_id = products.id\n",
    "LIMIT 10;"
   ]
  },
  {
   "cell_type": "code",
   "execution_count": null,
   "id": "fc0e8901",
   "metadata": {},
   "outputs": [],
   "source": [
    "#USAR ROLLUP"
   ]
  },
  {
   "cell_type": "markdown",
   "id": "5e5948ae-bfb0-4aa7-8cc0-83970accb44a",
   "metadata": {},
   "source": [
    "## Copy your submited solution here:"
   ]
  },
  {
   "cell_type": "code",
   "execution_count": null,
   "id": "de8f88a1-897b-4b92-8c9f-e04d16cec21a",
   "metadata": {},
   "outputs": [],
   "source": [
    "SELECT \n",
    "\n",
    "products.name AS product_name,\n",
    "EXTRACT(YEAR FROM sales.date) AS year,\n",
    "EXTRACT(MONTH FROM sales.date) AS month,\n",
    "EXTRACT(DAY FROM sales.date) AS day,\n",
    "SUM(products.price * sales_details.count) as total\n",
    "    \n",
    "FROM sales\n",
    "JOIN sales_details ON sales.id = sales_details.id\n",
    "JOIN products ON sales.id = products.id\n",
    "\n",
    "GROUP BY\n",
    "product_name,\n",
    "year,\n",
    "month,\n",
    "day\n",
    "\n",
    "ORDER BY\n",
    "product_name,\n",
    "year,\n",
    "month,\n",
    "day;"
   ]
  }
 ],
 "metadata": {
  "kernelspec": {
   "display_name": "Python 3 (ipykernel)",
   "language": "python",
   "name": "python3"
  },
  "language_info": {
   "codemirror_mode": {
    "name": "ipython",
    "version": 3
   },
   "file_extension": ".py",
   "mimetype": "text/x-python",
   "name": "python",
   "nbconvert_exporter": "python",
   "pygments_lexer": "ipython3",
   "version": "3.9.20"
  }
 },
 "nbformat": 4,
 "nbformat_minor": 5
}
