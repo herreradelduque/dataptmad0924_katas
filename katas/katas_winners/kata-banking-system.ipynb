{
 "cells": [
  {
   "cell_type": "markdown",
   "id": "a447b8b5-f16b-451f-b45c-47746f721e1e",
   "metadata": {},
   "source": [
    "# Kata:"
   ]
  },
  {
   "cell_type": "markdown",
   "id": "c7379b61-1f04-4fa2-8865-bf3e2c83b39e",
   "metadata": {},
   "source": [
    "https://www.codewars.com/kata/5a03af9606d5b65ff7000009/train/python"
   ]
  },
  {
   "cell_type": "markdown",
   "id": "5e2a4659-1d95-44fb-b92c-4646b4da4e6f",
   "metadata": {},
   "source": [
    "## Your name or team members:"
   ]
  },
  {
   "cell_type": "code",
   "execution_count": 1,
   "id": "29ead553-d8b4-41aa-937f-7fd045595855",
   "metadata": {},
   "outputs": [
    {
     "data": {
      "text/plain": [
       "'Blanca'"
      ]
     },
     "execution_count": 1,
     "metadata": {},
     "output_type": "execute_result"
    }
   ],
   "source": [
    "\"Blanca\""
   ]
  },
  {
   "cell_type": "markdown",
   "id": "f04997cc-966d-4e06-8eb0-64ab376728f8",
   "metadata": {},
   "source": [
    "## Use the following cells to test your solution:"
   ]
  },
  {
   "cell_type": "code",
   "execution_count": 2,
   "id": "4202edc5-f719-4068-96bd-55703a8a6c27",
   "metadata": {},
   "outputs": [
    {
     "data": {
      "text/plain": [
       "\"Jeff = User('Jeff', 70, True)\\nJoe = User('Joe', 70, False)\""
      ]
     },
     "execution_count": 2,
     "metadata": {},
     "output_type": "execute_result"
    }
   ],
   "source": [
    "\"\"\"Jeff = User('Jeff', 70, True)\n",
    "Joe = User('Joe', 70, False)\"\"\""
   ]
  },
  {
   "cell_type": "code",
   "execution_count": 10,
   "id": "1c1f6098-25a1-4805-a249-b833ca4a66a0",
   "metadata": {},
   "outputs": [],
   "source": [
    "class User(object):\n",
    "    def __init__(self, name, balance, checking_account):\n",
    "        self.name = name\n",
    "        self.balance = balance\n",
    "        self.checking_account = checking_account\n",
    "        \n",
    "        \n",
    "    def withdraw(self, amount):\n",
    "        new_balance = self.balance - amount\n",
    "        self.balance = new_balance\n",
    "        \n",
    "        if amount>self.balance:\n",
    "            raise ValueError (\"You don´t have enough money ;)\")\n",
    "            \n",
    "        return f'{self.name} has {new_balance}'\n",
    "    \n",
    "    def add_cash(self, amount):\n",
    "        new_balance = self.balance + amount\n",
    "        self.balance = new_balance\n",
    "        \n",
    "        return f'{self.name} has {new_balance}'\n",
    "    \n",
    "    def check_method(self, other_user, money_added):\n",
    "        if other_user == other_user.name:\n",
    "            raise ValueError (\"Can't transfer the money.\")\n",
    "        if other_user.balance < money_added:\n",
    "            raise ValueError (\"Can't transfer the money.\")\n",
    "        if other_user.checking_account != True:\n",
    "            raise ValueError (\"Can't transfer the money.\")\n",
    "        self.balance = (self.balance + money_added)\n",
    "        other_user.balance = (other_user.balance - money_added)\n",
    "        return f\"{self.name} has {self.balance} and {other_user.name} has {other_user.balance}.\""
   ]
  },
  {
   "cell_type": "code",
   "execution_count": 9,
   "id": "c0acf083",
   "metadata": {},
   "outputs": [],
   "source": [
    "Jeff = User(name=\"Jeff\", balance = 70, checking_account = True)\n",
    "Joe = User(name=\"Joe\", balance = 70, checking_account = False)"
   ]
  },
  {
   "cell_type": "code",
   "execution_count": 11,
   "id": "26b4024f",
   "metadata": {},
   "outputs": [
    {
     "data": {
      "text/plain": [
       "'Jeff has 20 and Jeff has 70'"
      ]
     },
     "execution_count": 11,
     "metadata": {},
     "output_type": "execute_result"
    }
   ],
   "source": [
    "Jeff.check_method(\"Joe\",50)"
   ]
  },
  {
   "cell_type": "code",
   "execution_count": 12,
   "id": "5fa6cbd9",
   "metadata": {},
   "outputs": [
    {
     "data": {
      "text/plain": [
       "'Jeff has 68'"
      ]
     },
     "execution_count": 12,
     "metadata": {},
     "output_type": "execute_result"
    }
   ],
   "source": [
    "Jeff.withdraw(2)"
   ]
  },
  {
   "cell_type": "code",
   "execution_count": 13,
   "id": "b33d0313",
   "metadata": {},
   "outputs": [
    {
     "data": {
      "text/plain": [
       "'Jeff has 72'"
      ]
     },
     "execution_count": 13,
     "metadata": {},
     "output_type": "execute_result"
    }
   ],
   "source": [
    "Jeff.add_cash(4)"
   ]
  },
  {
   "cell_type": "markdown",
   "id": "5e5948ae-bfb0-4aa7-8cc0-83970accb44a",
   "metadata": {},
   "source": [
    "## Copy your submited solution here:"
   ]
  },
  {
   "cell_type": "code",
   "execution_count": 8,
   "id": "de8f88a1-897b-4b92-8c9f-e04d16cec21a",
   "metadata": {},
   "outputs": [],
   "source": [
    "class User(object):\n",
    "    \n",
    "    def __init__(self, name, balance, checking_account):\n",
    "        self.name = name\n",
    "        self.balance = balance\n",
    "        self.checking_account = checking_account\n",
    "        \n",
    "    def withdraw(self, amount):\n",
    "        new_balance = self.balance - amount\n",
    "        self.balance = new_balance\n",
    "        if amount>self.balance:\n",
    "            raise ValueError (\"You don´t have enough money ;)\")\n",
    "        return f'{self.name} has {new_balance}'\n",
    "    def add_cash(self, amount):\n",
    "        new_balance = self.balance + amount\n",
    "        self.balance = new_balance\n",
    "        return f'{self.name} has {new_balance}'\n",
    "    def check_method(self, name, amount):\n",
    "        new_balance_1 = self.balance - amount\n",
    "        self.balance = new_balance_1\n",
    "        new_balance_2 = self.balance + amount\n",
    "        self.balance = new_balance_2\n",
    "        return f'{self.name} has {new_balance_1} and {self.name} has {new_balance_2}'"
   ]
  }
 ],
 "metadata": {
  "kernelspec": {
   "display_name": "Python 3 (ipykernel)",
   "language": "python",
   "name": "python3"
  },
  "language_info": {
   "codemirror_mode": {
    "name": "ipython",
    "version": 3
   },
   "file_extension": ".py",
   "mimetype": "text/x-python",
   "name": "python",
   "nbconvert_exporter": "python",
   "pygments_lexer": "ipython3",
   "version": "3.9.19"
  }
 },
 "nbformat": 4,
 "nbformat_minor": 5
}
