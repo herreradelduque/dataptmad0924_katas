{
 "cells": [
  {
   "cell_type": "markdown",
   "id": "a447b8b5-f16b-451f-b45c-47746f721e1e",
   "metadata": {},
   "source": [
    "# Kata:"
   ]
  },
  {
   "cell_type": "markdown",
   "id": "c7379b61-1f04-4fa2-8865-bf3e2c83b39e",
   "metadata": {},
   "source": [
    "https://www.codewars.com/kata/5a03af9606d5b65ff7000009/train/python"
   ]
  },
  {
   "cell_type": "markdown",
   "id": "5e2a4659-1d95-44fb-b92c-4646b4da4e6f",
   "metadata": {},
   "source": [
    "## Your name or team members:"
   ]
  },
  {
   "cell_type": "code",
   "execution_count": null,
   "id": "29ead553-d8b4-41aa-937f-7fd045595855",
   "metadata": {},
   "outputs": [],
   "source": [
    "jose luis gonzalez"
   ]
  },
  {
   "cell_type": "markdown",
   "id": "f04997cc-966d-4e06-8eb0-64ab376728f8",
   "metadata": {},
   "source": [
    "## Use the following cells to test your solution:"
   ]
  },
  {
   "cell_type": "code",
   "execution_count": null,
   "id": "4202edc5-f719-4068-96bd-55703a8a6c27",
   "metadata": {},
   "outputs": [],
   "source": [
    "class User(object):\n",
    "    def __init__(self, name, balance, checking_account):\n",
    "        self.name = name\n",
    "        self.balance = balance\n",
    "        self.checking_account = checking_account\n",
    "    def withdraw(self, amount):\n",
    "        new_balance = self.balance - amount\n",
    "        self.balance = new_balance\n",
    "        if amount>self.balance:\n",
    "            raise ValueError (\"You don´t have enough money ;)\")\n",
    "        return f'{self.name} has {new_balance}'\n",
    "    def add_cash(self, amount):\n",
    "        new_balance = self.balance + amount\n",
    "        self.balance = new_balance\n",
    "        return f'{self.name} has {new_balance}'\n",
    "    def check_method(self, name, amount):\n",
    "        new_balance_1 = self.balance - amount\n",
    "        self.balance = new_balance_1\n",
    "        new_balance_2 = self.balance + amount\n",
    "        self.balance = new_balance_2\n",
    "        return f'{self.name} has {new_balance_1} and {self.name} has {new_balance_2}'"
   ]
  },
  {
   "cell_type": "code",
   "execution_count": null,
   "id": "1c1f6098-25a1-4805-a249-b833ca4a66a0",
   "metadata": {},
   "outputs": [],
   "source": []
  },
  {
   "cell_type": "markdown",
   "id": "5e5948ae-bfb0-4aa7-8cc0-83970accb44a",
   "metadata": {},
   "source": [
    "## Copy your submited solution here:"
   ]
  },
  {
   "cell_type": "code",
   "execution_count": null,
   "id": "de8f88a1-897b-4b92-8c9f-e04d16cec21a",
   "metadata": {},
   "outputs": [],
   "source": [
    "class User(object):\n",
    "    def __init__(self, name, balance, checking_account):\n",
    "        self.name = name\n",
    "        self.balance = balance\n",
    "        self.checking_account = checking_account\n",
    "    \n",
    "    def withdraw(self, money_to_withdraw):\n",
    "        if money_to_withdraw <= self.balance:\n",
    "            self.balance -= money_to_withdraw\n",
    "        else:\n",
    "            raise ValueError (\"Not enough money.\")\n",
    "        return f\"{self.name} has {self.balance}.\"\n",
    "\n",
    "    def check(self, other_user, money_to_add):\n",
    "        if other_user == other_user.name:\n",
    "            raise ValueError (\"Can't transfer money from this account.\")\n",
    "        if other_user.balance < money_to_add:\n",
    "            raise ValueError (\"Can't transfer money from this account.\")\n",
    "        if other_user.checking_account != True:\n",
    "            raise ValueError (\"Can't transfer money from this account.\")\n",
    "        self.balance = (self.balance + money_to_add)\n",
    "        other_user.balance = (other_user.balance - money_to_add)\n",
    "        return f\"{self.name} has {self.balance} and {other_user.name} has {other_user.balance}.\"\n",
    "\n",
    "    def add_cash(self, money_to_add):\n",
    "        self.balance = self.balance + money_to_add\n",
    "        return f\"{self.name} has {self.balance}.\""
   ]
  }
 ],
 "metadata": {
  "kernelspec": {
   "display_name": "Python 3 (ipykernel)",
   "language": "python",
   "name": "python3"
  },
  "language_info": {
   "codemirror_mode": {
    "name": "ipython",
    "version": 3
   },
   "file_extension": ".py",
   "mimetype": "text/x-python",
   "name": "python",
   "nbconvert_exporter": "python",
   "pygments_lexer": "ipython3",
   "version": "3.9.19"
  }
 },
 "nbformat": 4,
 "nbformat_minor": 5
}
