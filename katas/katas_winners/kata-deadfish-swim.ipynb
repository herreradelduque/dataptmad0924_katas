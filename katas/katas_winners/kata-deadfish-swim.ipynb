{
 "cells": [
  {
   "cell_type": "markdown",
   "id": "a447b8b5-f16b-451f-b45c-47746f721e1e",
   "metadata": {},
   "source": [
    "# Kata:"
   ]
  },
  {
   "cell_type": "markdown",
   "id": "c7379b61-1f04-4fa2-8865-bf3e2c83b39e",
   "metadata": {},
   "source": [
    "https://www.codewars.com/kata/51e0007c1f9378fa810002a9/train/python"
   ]
  },
  {
   "cell_type": "markdown",
   "id": "5e2a4659-1d95-44fb-b92c-4646b4da4e6f",
   "metadata": {},
   "source": [
    "## Your name or team members:"
   ]
  },
  {
   "cell_type": "markdown",
   "id": "9ec6c67e-a0e1-4b33-87ff-1ad184426efa",
   "metadata": {},
   "source": [
    "## Martin Gonzalez"
   ]
  },
  {
   "cell_type": "markdown",
   "id": "f04997cc-966d-4e06-8eb0-64ab376728f8",
   "metadata": {},
   "source": [
    "## Use the following cells to test your solution:"
   ]
  },
  {
   "cell_type": "code",
   "execution_count": 14,
   "id": "4202edc5-f719-4068-96bd-55703a8a6c27",
   "metadata": {},
   "outputs": [
    {
     "name": "stdout",
     "output_type": "stream",
     "text": [
      "c\n",
      "0\n",
      "o\n",
      "0\n",
      "d\n",
      "-1\n",
      "e\n",
      "-1\n",
      "w\n",
      "-1\n",
      "a\n",
      "-1\n",
      "r\n",
      "-1\n",
      "s\n",
      "1\n",
      "[0]\n"
     ]
    }
   ],
   "source": [
    "string_interpreted = \"codewars\"\n",
    "value = 0\n",
    "values = []\n",
    "for x in string_interpreted:\n",
    "    print(x)\n",
    "    if x == \"i\":\n",
    "        print(\"Hola\")\n",
    "        value += 1\n",
    "    if x == \"o\":\n",
    "        values.append(value)\n",
    "          \n",
    "    if x == \"d\":\n",
    "        value -= 1\n",
    "    if x == \"s\":\n",
    "        value *= value\n",
    "    \n",
    "    print(value)\n",
    "   \n",
    "\n",
    "print(values)\n",
    "    "
   ]
  },
  {
   "cell_type": "code",
   "execution_count": null,
   "id": "1c1f6098-25a1-4805-a249-b833ca4a66a0",
   "metadata": {},
   "outputs": [],
   "source": []
  },
  {
   "cell_type": "markdown",
   "id": "5e5948ae-bfb0-4aa7-8cc0-83970accb44a",
   "metadata": {},
   "source": [
    "## Copy your submited solution here:"
   ]
  },
  {
   "cell_type": "code",
   "execution_count": 16,
   "id": "de8f88a1-897b-4b92-8c9f-e04d16cec21a",
   "metadata": {},
   "outputs": [],
   "source": [
    "def parse(data):\n",
    "    value = 0\n",
    "    values = []\n",
    "    for x in data:\n",
    "        print(x)\n",
    "        if x == \"i\":\n",
    "            print(\"Hola\")\n",
    "            value += 1\n",
    "        if x == \"o\":\n",
    "            values.append(value)\n",
    "\n",
    "        if x == \"d\":\n",
    "            value -= 1\n",
    "        if x == \"s\":\n",
    "            value *= value\n",
    "    return values"
   ]
  },
  {
   "cell_type": "code",
   "execution_count": 18,
   "id": "d8dc254e-6b23-463b-b3a3-ac19e3a08366",
   "metadata": {},
   "outputs": [
    {
     "name": "stdout",
     "output_type": "stream",
     "text": [
      "i\n",
      "Hola\n",
      "o\n",
      "i\n",
      "Hola\n",
      "o\n",
      "i\n",
      "Hola\n",
      "o\n"
     ]
    },
    {
     "data": {
      "text/plain": [
       "[1, 2, 3]"
      ]
     },
     "execution_count": 18,
     "metadata": {},
     "output_type": "execute_result"
    }
   ],
   "source": [
    "parse(\"ioioio\")"
   ]
  },
  {
   "cell_type": "code",
   "execution_count": 19,
   "id": "9ec85572-f23a-4f13-9ee5-8a38ddb557d8",
   "metadata": {},
   "outputs": [
    {
     "name": "stdout",
     "output_type": "stream",
     "text": [
      "i\n",
      "Hola\n",
      "d\n",
      "o\n",
      "i\n",
      "Hola\n",
      "i\n",
      "Hola\n",
      "d\n",
      "o\n"
     ]
    },
    {
     "data": {
      "text/plain": [
       "[0, 1]"
      ]
     },
     "execution_count": 19,
     "metadata": {},
     "output_type": "execute_result"
    }
   ],
   "source": [
    "parse(\"idoiido\")"
   ]
  },
  {
   "cell_type": "code",
   "execution_count": 20,
   "id": "93e22152-4341-402f-a1d8-0b5bb4ae8804",
   "metadata": {},
   "outputs": [
    {
     "name": "stdout",
     "output_type": "stream",
     "text": [
      "i\n",
      "Hola\n",
      "s\n",
      "o\n",
      "i\n",
      "Hola\n",
      "s\n",
      "o\n",
      "i\n",
      "Hola\n",
      "s\n",
      "o\n"
     ]
    },
    {
     "data": {
      "text/plain": [
       "[1, 4, 25]"
      ]
     },
     "execution_count": 20,
     "metadata": {},
     "output_type": "execute_result"
    }
   ],
   "source": [
    "parse(\"isoisoiso\")"
   ]
  },
  {
   "cell_type": "code",
   "execution_count": null,
   "id": "dc6e6a8d-5c06-4bb0-a41e-05f7935a53c4",
   "metadata": {},
   "outputs": [],
   "source": []
  }
 ],
 "metadata": {
  "kernelspec": {
   "display_name": "Python 3 (ipykernel)",
   "language": "python",
   "name": "python3"
  },
  "language_info": {
   "codemirror_mode": {
    "name": "ipython",
    "version": 3
   },
   "file_extension": ".py",
   "mimetype": "text/x-python",
   "name": "python",
   "nbconvert_exporter": "python",
   "pygments_lexer": "ipython3",
   "version": "3.10.14"
  }
 },
 "nbformat": 4,
 "nbformat_minor": 5
}
