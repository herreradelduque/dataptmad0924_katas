{
 "cells": [
  {
   "cell_type": "markdown",
   "id": "a447b8b5-f16b-451f-b45c-47746f721e1e",
   "metadata": {},
   "source": [
    "# Kata:"
   ]
  },
  {
   "cell_type": "markdown",
   "id": "c7379b61-1f04-4fa2-8865-bf3e2c83b39e",
   "metadata": {},
   "source": [
    "https://www.codewars.com/kata/51e0007c1f9378fa810002a9/train/python"
   ]
  },
  {
   "cell_type": "markdown",
   "id": "5e2a4659-1d95-44fb-b92c-4646b4da4e6f",
   "metadata": {},
   "source": [
    "## Your name or team members:"
   ]
  },
  {
   "cell_type": "code",
   "execution_count": null,
   "id": "29ead553-d8b4-41aa-937f-7fd045595855",
   "metadata": {},
   "outputs": [],
   "source": [
    "jose luis "
   ]
  },
  {
   "cell_type": "markdown",
   "id": "f04997cc-966d-4e06-8eb0-64ab376728f8",
   "metadata": {},
   "source": [
    "## Use the following cells to test your solution:"
   ]
  },
  {
   "cell_type": "code",
   "execution_count": null,
   "id": "4202edc5-f719-4068-96bd-55703a8a6c27",
   "metadata": {},
   "outputs": [],
   "source": [
    "#reate a parser to interpret and execute the Deadfish language.\n",
    "\n",
    "#Deadfish operates on a single value in memory, which is initially set to 0.\n",
    "\n",
    "#It uses four single-character commands:\n",
    "\n",
    "#i: Increment the value\n",
    "#d: Decrement the value\n",
    "#s: Square the value\n",
    "#o: Output the value to a result array\n",
    "#All other instructions are no-ops and have no effect.\n",
    "\n",
    "#Examples\n",
    "#Program \"iiisdoso\" should return numbers [8, 64].\n",
    "#Program \"iiisdosodddddiso\" should return numbers [8, 64, 3600]."
   ]
  },
  {
   "cell_type": "code",
   "execution_count": null,
   "id": "1c1f6098-25a1-4805-a249-b833ca4a66a0",
   "metadata": {},
   "outputs": [],
   "source": [
    "# vamos parsear un srting tenemos que vonvertirlo en ula lista de elementos para poder trabjarcon ellos. vemos que tenemos 4 acciones primero tenemos que iterar por cada elemnto de la lista"
   ]
  },
  {
   "cell_type": "code",
   "execution_count": 8,
   "id": "4e3c8b5c",
   "metadata": {
    "scrolled": false
   },
   "outputs": [
    {
     "ename": "NameError",
     "evalue": "name 'program' is not defined",
     "output_type": "error",
     "traceback": [
      "\u001b[1;31m---------------------------------------------------------------------------\u001b[0m",
      "\u001b[1;31mNameError\u001b[0m                                 Traceback (most recent call last)",
      "Cell \u001b[1;32mIn[8], line 4\u001b[0m\n\u001b[0;32m      2\u001b[0m result \u001b[38;5;241m=\u001b[39m [] \u001b[38;5;66;03m#iniciamos la lista \u001b[39;00m\n\u001b[0;32m      3\u001b[0m \u001b[38;5;66;03m#y declaramos que para cada elemento en program :\u001b[39;00m\n\u001b[1;32m----> 4\u001b[0m \u001b[38;5;28;01mfor\u001b[39;00m element \u001b[38;5;129;01min\u001b[39;00m \u001b[43mprogram\u001b[49m:\n\u001b[0;32m      5\u001b[0m     \u001b[38;5;28;01mif\u001b[39;00m element \u001b[38;5;241m==\u001b[39m \u001b[38;5;124m'\u001b[39m\u001b[38;5;124mi\u001b[39m\u001b[38;5;124m'\u001b[39m: \u001b[38;5;66;03m# primera condicion suma uno\u001b[39;00m\n\u001b[0;32m      6\u001b[0m         value \u001b[38;5;241m+\u001b[39m\u001b[38;5;241m=\u001b[39m \u001b[38;5;241m1\u001b[39m \n",
      "\u001b[1;31mNameError\u001b[0m: name 'program' is not defined"
     ]
    }
   ],
   "source": [
    "value = 0 #iniciamos value con un valor 0 que sera el resultado que se agregue a lista\n",
    "result = [] #iniciamos la lista \n",
    "               #y declaramos que para cada elemento en program :\n",
    "for element in data:\n",
    "    if element == 'i': # primera condicion suma uno\n",
    "        value += 1 \n",
    "    elif element == 'd':# segunda resta uno \n",
    "           value -= 1  \n",
    "    elif element == 's':# tercera eleva al cuadrado\n",
    "            value **= 2 \n",
    "    elif element == 'o':#cuarta condicion : donde el resultado se agrega a lista\n",
    "            result.append(value)\n",
    "return result "
   ]
  },
  {
   "cell_type": "markdown",
   "id": "5e5948ae-bfb0-4aa7-8cc0-83970accb44a",
   "metadata": {},
   "source": [
    "## Copy your submited solution here:"
   ]
  },
  {
   "cell_type": "code",
   "execution_count": 54,
   "id": "de8f88a1-897b-4b92-8c9f-e04d16cec21a",
   "metadata": {},
   "outputs": [],
   "source": [
    "def parse(data):\n",
    "    value = 0\n",
    "    result = []\n",
    "    for element in data:\n",
    "        if element == 'i':\n",
    "            value += 1 \n",
    "        elif element == 'd':\n",
    "            value -= 1  \n",
    "        elif element == 's':\n",
    "            value **= 2 \n",
    "        elif element == 'o':\n",
    "            result.append(value)\n",
    "    return result\n",
    "\n"
   ]
  },
  {
   "cell_type": "code",
   "execution_count": 53,
   "id": "2a902817",
   "metadata": {},
   "outputs": [
    {
     "data": {
      "text/plain": [
       "[1, 2, 3]"
      ]
     },
     "execution_count": 53,
     "metadata": {},
     "output_type": "execute_result"
    }
   ],
   "source": [
    "parser(\"ioioio\")"
   ]
  },
  {
   "cell_type": "code",
   "execution_count": 48,
   "id": "74367b6f",
   "metadata": {},
   "outputs": [
    {
     "data": {
      "text/plain": [
       "[8]"
      ]
     },
     "execution_count": 48,
     "metadata": {},
     "output_type": "execute_result"
    }
   ],
   "source": [
    "parser(\"iiisdosg\")"
   ]
  },
  {
   "cell_type": "code",
   "execution_count": 49,
   "id": "bfdd691e",
   "metadata": {},
   "outputs": [
    {
     "data": {
      "text/plain": [
       "[1, 4, 25]"
      ]
     },
     "execution_count": 49,
     "metadata": {},
     "output_type": "execute_result"
    }
   ],
   "source": [
    "parser(\"isoisoiso\")"
   ]
  },
  {
   "cell_type": "code",
   "execution_count": 51,
   "id": "3ab69783",
   "metadata": {},
   "outputs": [
    {
     "data": {
      "text/plain": [
       "[0, 0, 0]"
      ]
     },
     "execution_count": 51,
     "metadata": {},
     "output_type": "execute_result"
    }
   ],
   "source": [
    "parser(\"ooo\")"
   ]
  }
 ],
 "metadata": {
  "kernelspec": {
   "display_name": "Python 3 (ipykernel)",
   "language": "python",
   "name": "python3"
  },
  "language_info": {
   "codemirror_mode": {
    "name": "ipython",
    "version": 3
   },
   "file_extension": ".py",
   "mimetype": "text/x-python",
   "name": "python",
   "nbconvert_exporter": "python",
   "pygments_lexer": "ipython3",
   "version": "3.9.19"
  }
 },
 "nbformat": 4,
 "nbformat_minor": 5
}
