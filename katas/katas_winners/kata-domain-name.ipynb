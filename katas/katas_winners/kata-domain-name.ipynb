{
 "cells": [
  {
   "cell_type": "markdown",
   "id": "a447b8b5-f16b-451f-b45c-47746f721e1e",
   "metadata": {},
   "source": [
    "# Kata:"
   ]
  },
  {
   "cell_type": "markdown",
   "id": "c7379b61-1f04-4fa2-8865-bf3e2c83b39e",
   "metadata": {},
   "source": [
    "https://www.codewars.com/kata/514a024011ea4fb54200004b/train/python"
   ]
  },
  {
   "cell_type": "markdown",
   "id": "5e2a4659-1d95-44fb-b92c-4646b4da4e6f",
   "metadata": {},
   "source": [
    "## Your name or team members:"
   ]
  },
  {
   "cell_type": "code",
   "execution_count": 34,
   "id": "29ead553-d8b4-41aa-937f-7fd045595855",
   "metadata": {},
   "outputs": [
    {
     "data": {
      "text/plain": [
       "'Blanca'"
      ]
     },
     "execution_count": 34,
     "metadata": {},
     "output_type": "execute_result"
    }
   ],
   "source": [
    "\"Blanca\""
   ]
  },
  {
   "cell_type": "markdown",
   "id": "f04997cc-966d-4e06-8eb0-64ab376728f8",
   "metadata": {},
   "source": [
    "## Use the following cells to test your solution:"
   ]
  },
  {
   "cell_type": "code",
   "execution_count": 35,
   "id": "4202edc5-f719-4068-96bd-55703a8a6c27",
   "metadata": {},
   "outputs": [],
   "source": [
    "def domain_name(url):\n",
    "    pass"
   ]
  },
  {
   "cell_type": "code",
   "execution_count": 36,
   "id": "1c1f6098-25a1-4805-a249-b833ca4a66a0",
   "metadata": {},
   "outputs": [],
   "source": [
    "url = \"http://www.zombie-bites.com\" "
   ]
  },
  {
   "cell_type": "code",
   "execution_count": 37,
   "id": "61b0418e",
   "metadata": {},
   "outputs": [
    {
     "ename": "TypeError",
     "evalue": "replace expected at least 2 arguments, got 1",
     "output_type": "error",
     "traceback": [
      "\u001b[1;31m---------------------------------------------------------------------------\u001b[0m",
      "\u001b[1;31mTypeError\u001b[0m                                 Traceback (most recent call last)",
      "Cell \u001b[1;32mIn[37], line 1\u001b[0m\n\u001b[1;32m----> 1\u001b[0m url \u001b[38;5;241m=\u001b[39m \u001b[43murl\u001b[49m\u001b[38;5;241;43m.\u001b[39;49m\u001b[43mreplace\u001b[49m\u001b[43m(\u001b[49m\u001b[38;5;124;43m\"\u001b[39;49m\u001b[38;5;124;43mhttp://\u001b[39;49m\u001b[38;5;124;43m\"\u001b[39;49m\u001b[43m)\u001b[49m\n",
      "\u001b[1;31mTypeError\u001b[0m: replace expected at least 2 arguments, got 1"
     ]
    }
   ],
   "source": [
    "url = url.replace(\"http://\")"
   ]
  },
  {
   "cell_type": "code",
   "execution_count": 38,
   "id": "3a7f3ffa",
   "metadata": {},
   "outputs": [
    {
     "name": "stdout",
     "output_type": "stream",
     "text": [
      "www.zombie-bites.com\n"
     ]
    }
   ],
   "source": [
    "url = \"http://www.zombie-bites.com\" \n",
    "url = url.replace(\"http://\",\"\")\n",
    "print(url)"
   ]
  },
  {
   "cell_type": "code",
   "execution_count": 39,
   "id": "26e3c398",
   "metadata": {},
   "outputs": [
    {
     "name": "stdout",
     "output_type": "stream",
     "text": [
      "zombie-bites.com\n"
     ]
    }
   ],
   "source": [
    "url = url.replace(\"www.\",\"\")\n",
    "print(url)"
   ]
  },
  {
   "cell_type": "code",
   "execution_count": 40,
   "id": "1cb03dd5",
   "metadata": {},
   "outputs": [
    {
     "name": "stdout",
     "output_type": "stream",
     "text": [
      "zombie-bites.com\n"
     ]
    }
   ],
   "source": [
    "url = \"http://www.zombie-bites.com\" \n",
    "url = url.replace(\"http://\",\"\").replace(\"www.\",\"\")\n",
    "print(url)"
   ]
  },
  {
   "cell_type": "code",
   "execution_count": 55,
   "id": "a7c60139",
   "metadata": {},
   "outputs": [],
   "source": [
    "url = \"https://www.cnet.com\"\n",
    "url2 = \"http://www.zombie-bites.com\" \n",
    "url3 = \"https://www.cnet.com\"  "
   ]
  },
  {
   "cell_type": "code",
   "execution_count": 56,
   "id": "b7842883",
   "metadata": {},
   "outputs": [
    {
     "name": "stdout",
     "output_type": "stream",
     "text": [
      "cnet\n",
      "zombie-bites\n",
      "cnet\n"
     ]
    }
   ],
   "source": [
    "def domain_name(url):\n",
    "    url = url.replace(\"http://\",\"\").replace(\"www.\",\"\").replace(\"https://\",\"\")\n",
    "    domain = url.split('/')[0]\n",
    "    return domain.split('.')[0]\n",
    "\n",
    "print(domain_name(url))\n",
    "print(domain_name(url2))\n",
    "print(domain_name(url3))"
   ]
  },
  {
   "cell_type": "code",
   "execution_count": 51,
   "id": "176d129c",
   "metadata": {},
   "outputs": [],
   "source": [
    "#Enfoque: Eliminar los trozos de la url que no me sirven mediante replace y una vez tenemos el string que nos sirve utulizar el metodo split"
   ]
  },
  {
   "cell_type": "markdown",
   "id": "5e5948ae-bfb0-4aa7-8cc0-83970accb44a",
   "metadata": {},
   "source": [
    "## Copy your submited solution here:"
   ]
  },
  {
   "cell_type": "code",
   "execution_count": 57,
   "id": "de8f88a1-897b-4b92-8c9f-e04d16cec21a",
   "metadata": {},
   "outputs": [],
   "source": [
    "def domain_name(url):\n",
    "    url = url.replace(\"http://\",\"\").replace(\"www.\",\"\").replace(\"https://\",\"\")\n",
    "    domain = url.split('/')[0]\n",
    "    return domain.split('.')[0]"
   ]
  },
  {
   "cell_type": "code",
   "execution_count": null,
   "id": "a5bb2a12",
   "metadata": {},
   "outputs": [],
   "source": []
  }
 ],
 "metadata": {
  "kernelspec": {
   "display_name": "Python 3 (ipykernel)",
   "language": "python",
   "name": "python3"
  },
  "language_info": {
   "codemirror_mode": {
    "name": "ipython",
    "version": 3
   },
   "file_extension": ".py",
   "mimetype": "text/x-python",
   "name": "python",
   "nbconvert_exporter": "python",
   "pygments_lexer": "ipython3",
   "version": "3.9.19"
  }
 },
 "nbformat": 4,
 "nbformat_minor": 5
}
