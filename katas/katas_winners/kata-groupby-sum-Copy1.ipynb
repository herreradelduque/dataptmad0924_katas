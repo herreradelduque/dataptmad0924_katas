{
 "cells": [
  {
   "cell_type": "markdown",
   "id": "a447b8b5-f16b-451f-b45c-47746f721e1e",
   "metadata": {},
   "source": [
    "# Kata:"
   ]
  },
  {
   "cell_type": "markdown",
   "id": "c7379b61-1f04-4fa2-8865-bf3e2c83b39e",
   "metadata": {},
   "source": [
    "https://www.codewars.com/kata/5ed056c9263d2f001738b791/train/python"
   ]
  },
  {
   "cell_type": "markdown",
   "id": "5e2a4659-1d95-44fb-b92c-4646b4da4e6f",
   "metadata": {},
   "source": [
    "## Your name or team members:"
   ]
  },
  {
   "cell_type": "code",
   "execution_count": null,
   "id": "29ead553-d8b4-41aa-937f-7fd045595855",
   "metadata": {},
   "outputs": [],
   "source": [
    "Paul Correa"
   ]
  },
  {
   "cell_type": "markdown",
   "id": "f04997cc-966d-4e06-8eb0-64ab376728f8",
   "metadata": {},
   "source": [
    "## Use the following cells to test your solution:"
   ]
  },
  {
   "cell_type": "code",
   "execution_count": null,
   "id": "4202edc5-f719-4068-96bd-55703a8a6c27",
   "metadata": {},
   "outputs": [],
   "source": [
    "arr = [\n",
    "  [1, 6, 2, 10],\n",
    "  [8, 9, 4, 11],\n",
    "  [9, 8, 7, 12],\n",
    "  [1, 6, 3, 20],]"
   ]
  },
  {
   "cell_type": "code",
   "execution_count": null,
   "id": "1c1f6098-25a1-4805-a249-b833ca4a66a0",
   "metadata": {},
   "outputs": [],
   "source": [
    "idx = [0,1]\n",
    "row=arr[0]"
   ]
  },
  {
   "cell_type": "code",
   "execution_count": null,
   "id": "4c1977d8-c752-41dc-a6b5-37d8cf2cd7ca",
   "metadata": {},
   "outputs": [],
   "source": [
    "def group(arr, idx):\n",
    "    groups=[]\n",
    "    for row in arr:\n",
    "        my_list=[]\n",
    "        for i in idx:\n",
    "            my_list.append(row[i])\n",
    "        groups.append(tuple(my_list))\n",
    "    values_sum=[]\n",
    "    for row in arr:\n",
    "        list_values=[]\n",
    "        for i in range(len(arr[0])):\n",
    "            if i in idx:\n",
    "                pass\n",
    "            else:\n",
    "                list_values.append(row[i])\n",
    "        values_sum.append(list_values)    \n",
    "    dictionary={}\n",
    "    for i, key in enumerate(groups):\n",
    "        if key in dictionary:\n",
    "            dictionary[key]=[dictionary[key][j] + values_sum[i][j] for j in range(len(values_sum[i]))]\n",
    "        else:\n",
    "            dictionary[key]=values_sum[i]\n",
    "    return dictionary        \n",
    "            "
   ]
  },
  {
   "cell_type": "markdown",
   "id": "5e5948ae-bfb0-4aa7-8cc0-83970accb44a",
   "metadata": {},
   "source": [
    "## Copy your submited solution here:"
   ]
  },
  {
   "cell_type": "code",
   "execution_count": null,
   "id": "de8f88a1-897b-4b92-8c9f-e04d16cec21a",
   "metadata": {},
   "outputs": [],
   "source": [
    "def group(arr, idx):\n",
    "    groups=[]\n",
    "    for row in arr:\n",
    "        my_list=[]\n",
    "        for i in idx:\n",
    "            my_list.append(row[i])\n",
    "        groups.append(tuple(my_list))\n",
    "    values_sum=[]\n",
    "    for row in arr:\n",
    "        list_values=[]\n",
    "        for i in range(len(arr[0])):\n",
    "            if i in idx:\n",
    "                pass\n",
    "            else:\n",
    "                list_values.append(row[i])\n",
    "        values_sum.append(list_values)    \n",
    "    dictionary={}\n",
    "    for i, key in enumerate(groups):\n",
    "        if key in dictionary:\n",
    "            dictionary[key]=[dictionary[key][j] + values_sum[i][j] for j in range(len(values_sum[i]))]\n",
    "        else:\n",
    "            dictionary[key]=values_sum[i]\n",
    "    return dictionary        \n",
    "            "
   ]
  }
 ],
 "metadata": {
  "kernelspec": {
   "display_name": "Python 3 (ipykernel)",
   "language": "python",
   "name": "python3"
  },
  "language_info": {
   "codemirror_mode": {
    "name": "ipython",
    "version": 3
   },
   "file_extension": ".py",
   "mimetype": "text/x-python",
   "name": "python",
   "nbconvert_exporter": "python",
   "pygments_lexer": "ipython3",
   "version": "3.12.5"
  }
 },
 "nbformat": 4,
 "nbformat_minor": 5
}
