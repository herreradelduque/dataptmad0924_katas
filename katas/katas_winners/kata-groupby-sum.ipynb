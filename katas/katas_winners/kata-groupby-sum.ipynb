{
 "cells": [
  {
   "cell_type": "markdown",
   "id": "a447b8b5-f16b-451f-b45c-47746f721e1e",
   "metadata": {},
   "source": [
    "# Kata:"
   ]
  },
  {
   "cell_type": "markdown",
   "id": "c7379b61-1f04-4fa2-8865-bf3e2c83b39e",
   "metadata": {},
   "source": [
    "https://www.codewars.com/kata/5ed056c9263d2f001738b791/train/python"
   ]
  },
  {
   "cell_type": "markdown",
   "id": "5e2a4659-1d95-44fb-b92c-4646b4da4e6f",
   "metadata": {},
   "source": [
    "## Your name or team members:"
   ]
  },
  {
   "cell_type": "code",
   "execution_count": null,
   "id": "29ead553-d8b4-41aa-937f-7fd045595855",
   "metadata": {},
   "outputs": [],
   "source": [
    "\"Blanca\""
   ]
  },
  {
   "cell_type": "markdown",
   "id": "f04997cc-966d-4e06-8eb0-64ab376728f8",
   "metadata": {},
   "source": [
    "## Use the following cells to test your solution:"
   ]
  },
  {
   "cell_type": "code",
   "execution_count": 1,
   "id": "b5803f9e",
   "metadata": {},
   "outputs": [
    {
     "ename": "SyntaxError",
     "evalue": "invalid syntax (442516982.py, line 3)",
     "output_type": "error",
     "traceback": [
      "\u001b[1;36m  Cell \u001b[1;32mIn[1], line 3\u001b[1;36m\u001b[0m\n\u001b[1;33m    result=\u001b[0m\n\u001b[1;37m           ^\u001b[0m\n\u001b[1;31mSyntaxError\u001b[0m\u001b[1;31m:\u001b[0m invalid syntax\n"
     ]
    }
   ],
   "source": [
    "def group(arr, idx):"
   ]
  },
  {
   "cell_type": "code",
   "execution_count": 8,
   "id": "a64a59ef",
   "metadata": {},
   "outputs": [
    {
     "name": "stdout",
     "output_type": "stream",
     "text": [
      "[[1, 6, 2, 10], [8, 9, 4, 11], [9, 8, 7, 12], [1, 6, 3, 20]]\n"
     ]
    }
   ],
   "source": [
    "print(arr)"
   ]
  },
  {
   "cell_type": "code",
   "execution_count": 10,
   "id": "cce24b98",
   "metadata": {},
   "outputs": [
    {
     "name": "stdout",
     "output_type": "stream",
     "text": [
      "[0, 1]\n"
     ]
    }
   ],
   "source": [
    "print(idx)"
   ]
  },
  {
   "cell_type": "code",
   "execution_count": 7,
   "id": "4bb756a8",
   "metadata": {},
   "outputs": [
    {
     "name": "stdout",
     "output_type": "stream",
     "text": [
      "(1, 6)\n",
      "(8, 9)\n",
      "(9, 8)\n",
      "(1, 6)\n"
     ]
    }
   ],
   "source": [
    "result={}       #diccionario vacio para intro del resultado\n",
    "    \n",
    "for row in arr:\n",
    "        \n",
    "    # Crear key por el que se agrupara - the groups as a tuple\n",
    "    key = tuple(row[i] for i in idx)\n",
    "    \n",
    "    print(key)\n",
    "    type(key)"
   ]
  },
  {
   "cell_type": "code",
   "execution_count": 18,
   "id": "d0649c3f",
   "metadata": {},
   "outputs": [],
   "source": [
    " #Acceder a los valores q no están en idx - para obtener the aggregated sums\n",
    "    \n",
    "valores_suma = []\n",
    "\n",
    "for i in range(len(row)):\n",
    "    if i not in idx:\n",
    "        valores_suma.append(row[i])"
   ]
  },
  {
   "cell_type": "code",
   "execution_count": 19,
   "id": "2ac7662f",
   "metadata": {},
   "outputs": [
    {
     "data": {
      "text/plain": [
       "[3, 20]"
      ]
     },
     "execution_count": 19,
     "metadata": {},
     "output_type": "execute_result"
    }
   ],
   "source": [
    "valores_suma"
   ]
  },
  {
   "cell_type": "code",
   "execution_count": null,
   "id": "6cc2f8b9",
   "metadata": {},
   "outputs": [],
   "source": [
    " #Sumar los valores_suma\n",
    "    for "
   ]
  },
  {
   "cell_type": "code",
   "execution_count": 2,
   "id": "1e6393c6",
   "metadata": {},
   "outputs": [
    {
     "ename": "NameError",
     "evalue": "name 'group' is not defined",
     "output_type": "error",
     "traceback": [
      "\u001b[1;31m---------------------------------------------------------------------------\u001b[0m",
      "\u001b[1;31mNameError\u001b[0m                                 Traceback (most recent call last)",
      "Cell \u001b[1;32mIn[2], line 10\u001b[0m\n\u001b[0;32m      1\u001b[0m arr \u001b[38;5;241m=\u001b[39m [\n\u001b[0;32m      2\u001b[0m   [\u001b[38;5;241m1\u001b[39m, \u001b[38;5;241m6\u001b[39m, \u001b[38;5;241m2\u001b[39m, \u001b[38;5;241m10\u001b[39m],\n\u001b[0;32m      3\u001b[0m   [\u001b[38;5;241m8\u001b[39m, \u001b[38;5;241m9\u001b[39m, \u001b[38;5;241m4\u001b[39m, \u001b[38;5;241m11\u001b[39m],\n\u001b[0;32m      4\u001b[0m   [\u001b[38;5;241m9\u001b[39m, \u001b[38;5;241m8\u001b[39m, \u001b[38;5;241m7\u001b[39m, \u001b[38;5;241m12\u001b[39m],\n\u001b[0;32m      5\u001b[0m   [\u001b[38;5;241m1\u001b[39m, \u001b[38;5;241m6\u001b[39m, \u001b[38;5;241m3\u001b[39m, \u001b[38;5;241m20\u001b[39m],\n\u001b[0;32m      6\u001b[0m ]\n\u001b[0;32m      8\u001b[0m idx \u001b[38;5;241m=\u001b[39m [\u001b[38;5;241m0\u001b[39m, \u001b[38;5;241m1\u001b[39m]\n\u001b[1;32m---> 10\u001b[0m \u001b[43mgroup\u001b[49m(arr, idx) \u001b[38;5;241m==\u001b[39m {\n\u001b[0;32m     11\u001b[0m   (\u001b[38;5;241m1\u001b[39m, \u001b[38;5;241m6\u001b[39m): [\u001b[38;5;241m5\u001b[39m, \u001b[38;5;241m30\u001b[39m],      \u001b[38;5;66;03m# [2 + 3, 10 + 20]\u001b[39;00m\n\u001b[0;32m     12\u001b[0m   (\u001b[38;5;241m8\u001b[39m, \u001b[38;5;241m9\u001b[39m): [\u001b[38;5;241m4\u001b[39m, \u001b[38;5;241m11\u001b[39m],\n\u001b[0;32m     13\u001b[0m   (\u001b[38;5;241m9\u001b[39m, \u001b[38;5;241m8\u001b[39m): [\u001b[38;5;241m7\u001b[39m, \u001b[38;5;241m12\u001b[39m]\n\u001b[0;32m     14\u001b[0m }\n",
      "\u001b[1;31mNameError\u001b[0m: name 'group' is not defined"
     ]
    }
   ],
   "source": [
    "arr = [\n",
    "  [1, 6, 2, 10],\n",
    "  [8, 9, 4, 11],\n",
    "  [9, 8, 7, 12],\n",
    "  [1, 6, 3, 20],\n",
    "]\n",
    "\n",
    "idx = [0, 1]\n",
    "\n",
    "group(arr, idx) == {\n",
    "  (1, 6): [5, 30],      # [2 + 3, 10 + 20]\n",
    "  (8, 9): [4, 11],\n",
    "  (9, 8): [7, 12]\n",
    "}"
   ]
  },
  {
   "cell_type": "code",
   "execution_count": null,
   "id": "e0581480",
   "metadata": {},
   "outputs": [],
   "source": [
    "group([[1,2,3],[1,5,6],[1,8,9]],[0]), {(1,): [15, 18]})\n",
    "[1,2,3]\n",
    "[1,5,6]\n",
    "[1,8,9]"
   ]
  },
  {
   "cell_type": "code",
   "execution_count": null,
   "id": "eb2391c0",
   "metadata": {},
   "outputs": [],
   "source": [
    "group([[1,1,1],[1,2,1],[1,3,1]],[0,2]), {(1, 1): [6]})\n",
    "[1,1,1]\n",
    "[1,2,1]\n",
    "[1,3,1]"
   ]
  },
  {
   "cell_type": "code",
   "execution_count": null,
   "id": "22c37b62",
   "metadata": {},
   "outputs": [],
   "source": [
    "group([[1,2,3],[4,5,6],[6,7,8]],[0,1,2]), {(1, 2, 3): [], (4, 5, 6): [], (6, 7, 8): []})\n",
    "[1,2,3]\n",
    "[4,5,6]\n",
    "[6,7,8]"
   ]
  },
  {
   "cell_type": "markdown",
   "id": "c77b360e",
   "metadata": {},
   "source": [
    "## Copy your submited solution here:"
   ]
  },
  {
   "cell_type": "markdown",
   "id": "b345be90",
   "metadata": {},
   "source": []
  }
 ],
 "metadata": {
  "kernelspec": {
   "display_name": "Python [conda env:m1]",
   "language": "python",
   "name": "conda-env-m1-py"
  },
  "language_info": {
   "codemirror_mode": {
    "name": "ipython",
    "version": 3
   },
   "file_extension": ".py",
   "mimetype": "text/x-python",
   "name": "python",
   "nbconvert_exporter": "python",
   "pygments_lexer": "ipython3",
   "version": "3.10.14"
  }
 },
 "nbformat": 4,
 "nbformat_minor": 5
}
