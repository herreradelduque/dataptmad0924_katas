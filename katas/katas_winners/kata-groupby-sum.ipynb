{
 "cells": [
  {
   "cell_type": "markdown",
   "id": "a447b8b5-f16b-451f-b45c-47746f721e1e",
   "metadata": {},
   "source": [
    "# Kata:"
   ]
  },
  {
   "cell_type": "markdown",
   "id": "c7379b61-1f04-4fa2-8865-bf3e2c83b39e",
   "metadata": {},
   "source": [
    "https://www.codewars.com/kata/5ed056c9263d2f001738b791/train/python"
   ]
  },
  {
   "cell_type": "markdown",
   "id": "5e2a4659-1d95-44fb-b92c-4646b4da4e6f",
   "metadata": {},
   "source": [
    "## Your name or team members:"
   ]
  },
  {
   "cell_type": "code",
   "execution_count": null,
   "id": "29ead553-d8b4-41aa-937f-7fd045595855",
   "metadata": {},
   "outputs": [],
   "source": []
  },
  {
   "cell_type": "markdown",
   "id": "f04997cc-966d-4e06-8eb0-64ab376728f8",
   "metadata": {},
   "source": [
    "## Use the following cells to test your solution:"
   ]
  },
  {
   "cell_type": "code",
   "execution_count": 38,
   "id": "cb0b100d",
   "metadata": {},
   "outputs": [],
   "source": [
    "import pandas as pd"
   ]
  },
  {
   "cell_type": "code",
   "execution_count": null,
   "id": "e921a132",
   "metadata": {},
   "outputs": [],
   "source": []
  },
  {
   "cell_type": "code",
   "execution_count": 27,
   "id": "b5803f9e",
   "metadata": {},
   "outputs": [
    {
     "ename": "SyntaxError",
     "evalue": "incomplete input (579585836.py, line 10)",
     "output_type": "error",
     "traceback": [
      "\u001b[1;36m  Cell \u001b[1;32mIn[27], line 10\u001b[1;36m\u001b[0m\n\u001b[1;33m    \u001b[0m\n\u001b[1;37m    ^\u001b[0m\n\u001b[1;31mSyntaxError\u001b[0m\u001b[1;31m:\u001b[0m incomplete input\n"
     ]
    }
   ],
   "source": [
    "arry = [\n",
    "  [1, 6, 2, 10],\n",
    "  [8, 9, 4, 11],\n",
    "  [9, 8, 7, 12],\n",
    "  [1, 6, 3, 20],\n",
    "]\n",
    "\n",
    "\n",
    "def group(arr, idx):\n",
    "    "
   ]
  },
  {
   "cell_type": "code",
   "execution_count": 37,
   "id": "120f3b8c",
   "metadata": {
    "scrolled": true
   },
   "outputs": [
    {
     "name": "stdout",
     "output_type": "stream",
     "text": [
      "(1, 6)\n",
      "(8, 9)\n",
      "(9, 8)\n",
      "(1, 6)\n"
     ]
    }
   ],
   "source": [
    "idx = [0, 1]\n",
    "     \n",
    "new_arry ={}\n",
    "for row in arry:\n",
    "    key = tuple(row[i] for i in idx)\n",
    "    print(key)\n",
    "    if key \n",
    "        \n",
    "\n",
    "     \n",
    "       "
   ]
  },
  {
   "cell_type": "code",
   "execution_count": null,
   "id": "22c37b62",
   "metadata": {},
   "outputs": [],
   "source": [
    "people1 = [('John', 36, 'M'), ('Rachel', 24, 'F'), ('Deardrie', 78, 'F'), ('Ahmed', 17, 'M'), ('Sienna', 14, 'F')] #aqui vemos como podemos buscar si un elemento esta la columna especificada\n",
    "\n",
    "def xyz(people, name):\n",
    "    found={}\n",
    "    for _name,_age,_gender in people:\n",
    "        if _name==name:                                                                                             \n",
    "            found[\"Age\"]=_age\n",
    "            found[\"Gender\"]=_gender\n",
    "            return found\n",
    "    return None"
   ]
  },
  {
   "cell_type": "code",
   "execution_count": 31,
   "id": "01d29a2e",
   "metadata": {},
   "outputs": [
    {
     "ename": "SyntaxError",
     "evalue": "invalid syntax (3191366976.py, line 16)",
     "output_type": "error",
     "traceback": [
      "\u001b[1;36m  Cell \u001b[1;32mIn[31], line 16\u001b[1;36m\u001b[0m\n\u001b[1;33m    Columns 0 and 1 are used for grouping, so columns 2 and 3 will be aggregated\u001b[0m\n\u001b[1;37m            ^\u001b[0m\n\u001b[1;31mSyntaxError\u001b[0m\u001b[1;31m:\u001b[0m invalid syntax\n"
     ]
    }
   ],
   "source": [
    "arr = [\n",
    "  [1, 6, 2, 10],\n",
    "  [8, 9, 4, 11],\n",
    "  [9, 8, 7, 12],\n",
    "  [1, 6, 3, 20],\n",
    "]\n",
    "\n",
    "idx = [0, 1]\n",
    "\n",
    "group(arr, idx) == {\n",
    "  (1, 6): [5, 30],      # [2 + 3, 10 + 20]\n",
    "  (8, 9): [4, 11],\n",
    "  (9, 8): [7, 12]\n",
    "}\n",
    "#Explanation\n",
    "#Columns 0 and 1 are used for grouping, so columns 2 and 3 will be aggregated\n",
    "#Rows 0 and 3 are grouped together because they have the same values in columns idx, so the columns which are not a part of idx are aggregated\n",
    "#Row 1 and 2 have different values in columns idx, so they are not grouped, and the aggregated results will simply be their own values in the columns which are not a part of idx\n",
    "#Notes"
   ]
  },
  {
   "cell_type": "markdown",
   "id": "c77b360e",
   "metadata": {},
   "source": [
    "## Copy your submited solution here:"
   ]
  },
  {
   "cell_type": "code",
   "execution_count": null,
   "id": "b6c67f55",
   "metadata": {},
   "outputs": [],
   "source": [
    "def group(arr, idx):\n",
    "    result = {}                   #vemos que a la funcion le van entrar dos parametros  \n",
    "                                    #una lista de lista y una losta de indices para crear las claves dosnde agrupar\n",
    "    for row in arr:                     #iniciamos un diccionario vacio donde se almacenaran los resultados            \n",
    "                                         #se itera sobre cada fila en la lista arr que seria una sublista que tiene varios elemementos\n",
    "        key = tuple(row[i] for i in idx) #se crea la clave usando los elementos de la fila que corresponde a los indices como es 0 1 serian la 2 primera posiciones\n",
    "                                          #al usar tupla se eliminan los elementos duplicados\n",
    "        if key not in result:               #vemos que si la hey no esta en result \n",
    "        \n",
    "            result[key] = [0] * (len(row) - len(idx))  #ahora indicamos que haga una lista vacia con el largo de la lista adecuado qie seria el largo de la fila - el largo de la clave 4 -2 asi qu el largo de la lista es de dos elementos \n",
    "\n",
    "    \n",
    "        for element in range(len(row)):                #indicamos que para el elemento(indice) en el rango de la fila actual\n",
    "            if element not in idx:                        #si no esta el indice lo crea y hace la siguiente operacion \n",
    "                result[key][element - len(idx)] += row[element] #accede a la clave en result y calcula donde se debe sumar y suma el valor en el lugar correspondiente\n",
    "\n",
    "    return result\n"
   ]
  },
  {
   "cell_type": "code",
   "execution_count": null,
   "id": "3b5682c3",
   "metadata": {},
   "outputs": [],
   "source": []
  },
  {
   "cell_type": "markdown",
   "id": "b345be90",
   "metadata": {},
   "source": []
  }
 ],
 "metadata": {
  "kernelspec": {
   "display_name": "Python [conda env:.conda-m1]",
   "language": "python",
   "name": "conda-env-.conda-m1-py"
  },
  "language_info": {
   "codemirror_mode": {
    "name": "ipython",
    "version": 3
   },
   "file_extension": ".py",
   "mimetype": "text/x-python",
   "name": "python",
   "nbconvert_exporter": "python",
   "pygments_lexer": "ipython3",
   "version": "3.10.14"
  }
 },
 "nbformat": 4,
 "nbformat_minor": 5
}
