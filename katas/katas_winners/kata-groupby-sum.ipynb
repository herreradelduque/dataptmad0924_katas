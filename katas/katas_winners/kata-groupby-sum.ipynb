{
 "cells": [
  {
   "cell_type": "markdown",
   "id": "a447b8b5-f16b-451f-b45c-47746f721e1e",
   "metadata": {},
   "source": [
    "# Kata:"
   ]
  },
  {
   "cell_type": "markdown",
   "id": "c7379b61-1f04-4fa2-8865-bf3e2c83b39e",
   "metadata": {},
   "source": [
    "https://www.codewars.com/kata/5ed056c9263d2f001738b791/train/python"
   ]
  },
  {
   "cell_type": "markdown",
   "id": "5e2a4659-1d95-44fb-b92c-4646b4da4e6f",
   "metadata": {},
   "source": [
    "## Your name or team members:"
   ]
  },
  {
   "cell_type": "code",
   "execution_count": null,
   "id": "29ead553-d8b4-41aa-937f-7fd045595855",
   "metadata": {},
   "outputs": [],
   "source": [
    "Kristina"
   ]
  },
  {
   "cell_type": "markdown",
   "id": "f04997cc-966d-4e06-8eb0-64ab376728f8",
   "metadata": {},
   "source": [
    "## Use the following cells to test your solution:"
   ]
  },
  {
   "cell_type": "code",
   "execution_count": 1,
   "id": "b5803f9e",
   "metadata": {},
   "outputs": [
    {
     "data": {
      "text/plain": [
       "[['apple', 116], ['banana', 15], ['orange', 9]]"
      ]
     },
     "execution_count": 1,
     "metadata": {},
     "output_type": "execute_result"
    }
   ],
   "source": [
    "my_list=[[\"apple\",5],[\"banana\",6],[\"orange\",6],[\"banana\",9],[\"orange\",3],[\"apple\",111]]\n",
    "my_dict1 = {}\n",
    "\n",
    "for d in my_list:\n",
    "   if d[0] in my_dict1.keys():\n",
    "      my_dict1[d[0]] += d[1]\n",
    "   else:\n",
    "      my_dict1[d[0]] = d[1]\n",
    "\n",
    "my_list2 = [[k,v] for (k,v) in my_dict1.items()]\n",
    "my_list2"
   ]
  },
  {
   "cell_type": "code",
   "execution_count": 2,
   "id": "22c37b62",
   "metadata": {},
   "outputs": [],
   "source": [
    "arr = [\n",
    "  [1, 6, 2, 10],\n",
    "  [8, 9, 4, 11],\n",
    "  [9, 8, 7, 12],\n",
    "  [1, 6, 3, 20],\n",
    "]\n",
    "\n",
    "idx = [0, 1]"
   ]
  },
  {
   "cell_type": "code",
   "execution_count": 65,
   "id": "597f8fbf",
   "metadata": {},
   "outputs": [
    {
     "name": "stdout",
     "output_type": "stream",
     "text": [
      "[1, 6, 2, 10]\n"
     ]
    }
   ],
   "source": [
    "row=arr[0]\n",
    "print(row)"
   ]
  },
  {
   "cell_type": "code",
   "execution_count": 59,
   "id": "dbdafc10",
   "metadata": {},
   "outputs": [
    {
     "data": {
      "text/plain": [
       "[1, 6]"
      ]
     },
     "execution_count": 59,
     "metadata": {},
     "output_type": "execute_result"
    }
   ],
   "source": [
    "list=[]\n",
    "for i in idx:\n",
    "    row[i]\n",
    "    list.append(row[i])\n",
    "list"
   ]
  },
  {
   "cell_type": "code",
   "execution_count": null,
   "id": "641b7499",
   "metadata": {},
   "outputs": [],
   "source": [
    "for row in range (len)"
   ]
  },
  {
   "cell_type": "code",
   "execution_count": 56,
   "id": "a0fe2685",
   "metadata": {},
   "outputs": [
    {
     "name": "stdout",
     "output_type": "stream",
     "text": [
      "my position is 1\n",
      "my list is [1]\n",
      "my tupple is (1,)\n",
      "my position is 6\n",
      "my list is [1, 6]\n",
      "my tupple is (1, 6)\n",
      "my position is 8\n",
      "my list is [1, 6, 8]\n",
      "my tupple is (1, 6, 8)\n",
      "my position is 9\n",
      "my list is [1, 6, 8, 9]\n",
      "my tupple is (1, 6, 8, 9)\n",
      "my position is 9\n",
      "my list is [1, 6, 8, 9, 9]\n",
      "my tupple is (1, 6, 8, 9, 9)\n",
      "my position is 8\n",
      "my list is [1, 6, 8, 9, 9, 8]\n",
      "my tupple is (1, 6, 8, 9, 9, 8)\n",
      "my position is 1\n",
      "my list is [1, 6, 8, 9, 9, 8, 1]\n",
      "my tupple is (1, 6, 8, 9, 9, 8, 1)\n",
      "my position is 6\n",
      "my list is [1, 6, 8, 9, 9, 8, 1, 6]\n",
      "my tupple is (1, 6, 8, 9, 9, 8, 1, 6)\n",
      "[(1,), (1, 6), (1, 6, 8), (1, 6, 8, 9), (1, 6, 8, 9, 9), (1, 6, 8, 9, 9, 8), (1, 6, 8, 9, 9, 8, 1), (1, 6, 8, 9, 9, 8, 1, 6)]\n"
     ]
    }
   ],
   "source": [
    "my_list=[]\n",
    "my_list_of_tuples=[]\n",
    "for row in range(rr:\n",
    "    for i in idx:\n",
    "        idx_position=row[i]\n",
    "        print(f'my position is {idx_position}')\n",
    "        my_list.append(idx_position)\n",
    "        print(f'my list is {my_list}')\n",
    "        tup=tuple(my_list)\n",
    "        print(f'my tupple is {tup}')\n",
    "        my_list_of_tuples.append(tup)\n",
    "print(my_list_of_tuples)"
   ]
  },
  {
   "cell_type": "code",
   "execution_count": null,
   "id": "59ede80b",
   "metadata": {},
   "outputs": [],
   "source": []
  },
  {
   "cell_type": "markdown",
   "id": "c77b360e",
   "metadata": {},
   "source": [
    "## Copy your submited solution here:"
   ]
  },
  {
   "cell_type": "markdown",
   "id": "b345be90",
   "metadata": {},
   "source": []
  }
 ],
 "metadata": {
  "kernelspec": {
   "display_name": "Python [conda env:m1]",
   "language": "python",
   "name": "conda-env-m1-py"
  },
  "language_info": {
   "codemirror_mode": {
    "name": "ipython",
    "version": 3
   },
   "file_extension": ".py",
   "mimetype": "text/x-python",
   "name": "python",
   "nbconvert_exporter": "python",
   "pygments_lexer": "ipython3",
   "version": "3.10.14"
  }
 },
 "nbformat": 4,
 "nbformat_minor": 5
}
