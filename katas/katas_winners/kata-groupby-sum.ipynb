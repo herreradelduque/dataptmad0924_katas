{
 "cells": [
  {
   "cell_type": "markdown",
   "id": "a447b8b5-f16b-451f-b45c-47746f721e1e",
   "metadata": {},
   "source": [
    "# Kata:"
   ]
  },
  {
   "cell_type": "markdown",
   "id": "c7379b61-1f04-4fa2-8865-bf3e2c83b39e",
   "metadata": {},
   "source": [
    "https://www.codewars.com/kata/5ed056c9263d2f001738b791/train/python"
   ]
  },
  {
   "cell_type": "markdown",
   "id": "5e2a4659-1d95-44fb-b92c-4646b4da4e6f",
   "metadata": {},
   "source": [
    "## Your name or team members:"
   ]
  },
  {
   "cell_type": "code",
   "execution_count": null,
   "id": "29ead553-d8b4-41aa-937f-7fd045595855",
   "metadata": {},
   "outputs": [],
   "source": [
    "Kristina"
   ]
  },
  {
   "cell_type": "markdown",
   "id": "f04997cc-966d-4e06-8eb0-64ab376728f8",
   "metadata": {},
   "source": [
    "## Use the following cells to test your solution:"
   ]
  },
  {
   "cell_type": "code",
   "execution_count": null,
   "id": "22c37b62",
   "metadata": {},
   "outputs": [],
   "source": [
    "arr = [\n",
    "  [1, 6, 2, 10],\n",
    "  [8, 9, 4, 11],\n",
    "  [9, 8, 7, 12],\n",
    "  [1, 6, 3, 20],\n",
    "]\n",
    "\n",
    "idx = [0, 1]"
   ]
  },
  {
   "cell_type": "code",
   "execution_count": null,
   "id": "29571722",
   "metadata": {},
   "outputs": [],
   "source": [
    "len(idx)"
   ]
  },
  {
   "cell_type": "code",
   "execution_count": null,
   "id": "597f8fbf",
   "metadata": {},
   "outputs": [],
   "source": [
    "row=arr[0]\n",
    "print(row)"
   ]
  },
  {
   "cell_type": "code",
   "execution_count": null,
   "id": "a4205e33",
   "metadata": {},
   "outputs": [],
   "source": [
    "len(row)"
   ]
  },
  {
   "cell_type": "code",
   "execution_count": null,
   "id": "dbdafc10",
   "metadata": {},
   "outputs": [],
   "source": [
    "my_list=[]\n",
    "for i in idx:\n",
    "    row[i]\n",
    "    my_list.append(row[i])\n",
    "my_list"
   ]
  },
  {
   "cell_type": "code",
   "execution_count": null,
   "id": "a0fe2685",
   "metadata": {},
   "outputs": [],
   "source": [
    "my_list_of_tuples=[]\n",
    "for row in arr:\n",
    "    my_list=[] # Definimos la lista para cada fila para que los pasos siguientes nos devuelvan un tupla por fila\n",
    "    for i in idx:\n",
    "        idx_position=row[i]\n",
    "        my_list.append(idx_position)\n",
    "        tup=tuple(my_list)\n",
    "    my_list_of_tuples.append(tup)\n",
    "print(my_list_of_tuples)"
   ]
  },
  {
   "cell_type": "code",
   "execution_count": null,
   "id": "59ede80b",
   "metadata": {},
   "outputs": [],
   "source": [
    "# Limpiamos el código:\n",
    "groups=[]\n",
    "for row in arr:\n",
    "    my_list=[]\n",
    "    for i in idx:\n",
    "        my_list.append(row[i])\n",
    "    groups.append(tuple(my_list))\n",
    "print(groups)"
   ]
  },
  {
   "cell_type": "code",
   "execution_count": null,
   "id": "34f26f84",
   "metadata": {},
   "outputs": [],
   "source": [
    "len(groups)"
   ]
  },
  {
   "cell_type": "code",
   "execution_count": null,
   "id": "e88963e9",
   "metadata": {},
   "outputs": [],
   "source": [
    "# Podemos hacer algo similar para los valores que hay que sumar:\n",
    "values_4sum=[]\n",
    "for row in arr:\n",
    "    list_values=[]\n",
    "    for i in range(len(idx),len(arr[0])): # ahora tenemos que quedarnos con los valores que están fuera del index\n",
    "        list_values.append(row[i])\n",
    "    values_4sum.append(list_values)\n",
    "print(values_4sum)"
   ]
  },
  {
   "cell_type": "code",
   "execution_count": null,
   "id": "0635bc7e",
   "metadata": {},
   "outputs": [],
   "source": [
    "len(values_4sum)"
   ]
  },
  {
   "cell_type": "code",
   "execution_count": null,
   "id": "90afd6de",
   "metadata": {},
   "outputs": [],
   "source": [
    "# Ahora tenemos que montar un diccionario con las dos partes:\n",
    "dictionary={}\n",
    "for i, key in enumerate(groups):\n",
    "    if key in dictionary:\n",
    "        dictionary[key]=[dictionary[key][j] + values_4sum[i][j] for j in range(len(values_4sum[i]))]\n",
    "    else:\n",
    "        dictionary[key]=values_4sum[i]\n",
    "dictionary"
   ]
  },
  {
   "cell_type": "code",
   "execution_count": null,
   "id": "87426f96",
   "metadata": {},
   "outputs": [],
   "source": [
    "# Ahora tenemos que ensablar todo y definir la función:\n",
    "def group(arr, idx):\n",
    "    groups=[]\n",
    "    for row in arr:\n",
    "        my_list=[]\n",
    "        for i in idx:\n",
    "            my_list.append(row[i])\n",
    "        groups.append(tuple(my_list))\n",
    "    values_4sum=[]\n",
    "    for row in arr:\n",
    "        list_values=[]\n",
    "        for i in range(len(idx),len(arr[0])):\n",
    "            list_values.append(row[i])\n",
    "        values_4sum.append(list_values)\n",
    "    dictionary={}\n",
    "    for i, key in enumerate(groups):\n",
    "        if key in dictionary:\n",
    "            dictionary[key]=[dictionary[key][j] + values_4sum[i][j] for j in range(len(values_4sum[i]))]\n",
    "        else:\n",
    "            dictionary[key]=values_4sum[i]\n",
    "    return dictionary        "
   ]
  },
  {
   "cell_type": "code",
   "execution_count": null,
   "id": "0e4a1df2",
   "metadata": {},
   "outputs": [],
   "source": [
    "arr = [\n",
    "  [1, 6, 2, 10],\n",
    "  [8, 9, 4, 11],\n",
    "  [9, 8, 7, 12],\n",
    "  [1, 6, 3, 20],\n",
    "]\n",
    "\n",
    "idx = [0, 1]\n",
    "group(arr, idx)"
   ]
  },
  {
   "cell_type": "code",
   "execution_count": 1,
   "id": "2aefdbf2",
   "metadata": {},
   "outputs": [
    {
     "ename": "NameError",
     "evalue": "name 'group' is not defined",
     "output_type": "error",
     "traceback": [
      "\u001b[1;31m---------------------------------------------------------------------------\u001b[0m",
      "\u001b[1;31mNameError\u001b[0m                                 Traceback (most recent call last)",
      "Cell \u001b[1;32mIn[1], line 4\u001b[0m\n\u001b[0;32m      2\u001b[0m arr1\u001b[38;5;241m=\u001b[39m[[\u001b[38;5;241m1\u001b[39m,\u001b[38;5;241m1\u001b[39m,\u001b[38;5;241m1\u001b[39m],[\u001b[38;5;241m1\u001b[39m,\u001b[38;5;241m2\u001b[39m,\u001b[38;5;241m1\u001b[39m],[\u001b[38;5;241m1\u001b[39m,\u001b[38;5;241m3\u001b[39m,\u001b[38;5;241m1\u001b[39m]]\n\u001b[0;32m      3\u001b[0m idx1\u001b[38;5;241m=\u001b[39m[\u001b[38;5;241m0\u001b[39m,\u001b[38;5;241m2\u001b[39m]\n\u001b[1;32m----> 4\u001b[0m \u001b[43mgroup\u001b[49m(arr1, idx1)\n",
      "\u001b[1;31mNameError\u001b[0m: name 'group' is not defined"
     ]
    }
   ],
   "source": [
    "# Después de correr el test, me da error con este ejemplo\n",
    "arr1=[[1,1,1],[1,2,1],[1,3,1]]\n",
    "idx1=[0,2]\n",
    "group(arr1, idx1)"
   ]
  },
  {
   "cell_type": "code",
   "execution_count": 2,
   "id": "5c009db7",
   "metadata": {},
   "outputs": [
    {
     "name": "stdout",
     "output_type": "stream",
     "text": [
      "[(1, 1), (1, 1), (1, 1)]\n"
     ]
    }
   ],
   "source": [
    "# El primer paso funciona bien\n",
    "groups=[]\n",
    "for row in arr1:\n",
    "    my_list=[]\n",
    "    for i in idx1:\n",
    "        my_list.append(row[i])\n",
    "    groups.append(tuple(my_list))\n",
    "print(groups)"
   ]
  },
  {
   "cell_type": "code",
   "execution_count": null,
   "id": "1acc2272",
   "metadata": {},
   "outputs": [],
   "source": [
    "values_4sum=[]\n",
    "for row in arr1:\n",
    "    list_values=[]\n",
    "    for i in range(len(idx1),len(arr1[0])): # ahora tenemos que quedarnos con los valores que están fuera del index\n",
    "        list_values.append(row[i])\n",
    "    values_4sum.append(list_values)\n",
    "print(values_4sum)"
   ]
  },
  {
   "cell_type": "code",
   "execution_count": 8,
   "id": "bf6e0105",
   "metadata": {},
   "outputs": [
    {
     "name": "stdout",
     "output_type": "stream",
     "text": [
      "range(2, 3)\n"
     ]
    }
   ],
   "source": [
    "# El segundo paso no es correcto, hay que corregir esta parte de aquí:\n",
    "print(range(len(idx1),len(arr1[0])))"
   ]
  },
  {
   "cell_type": "code",
   "execution_count": 10,
   "id": "79b6ef7e",
   "metadata": {},
   "outputs": [
    {
     "name": "stdout",
     "output_type": "stream",
     "text": [
      "[[1], [2], [3]]\n"
     ]
    }
   ],
   "source": [
    "# Esta parte funciona ahora\n",
    "values_4sum=[]\n",
    "for row in arr1:\n",
    "    list_values=[]\n",
    "    for i in range(len(arr1[0])):\n",
    "        if i in idx1:\n",
    "            pass\n",
    "        else: # ahora tenemos que quedarnos con los valores que no están están en el index\n",
    "            list_values.append(row[i])\n",
    "    values_4sum.append(list_values)\n",
    "print(values_4sum)"
   ]
  },
  {
   "cell_type": "code",
   "execution_count": 21,
   "id": "0de2fc6c",
   "metadata": {},
   "outputs": [],
   "source": [
    "# Volvemos a escribir la función:\n",
    "def group(arr, idx):\n",
    "    groups=[]\n",
    "    for row in arr:\n",
    "        my_list=[]\n",
    "        for i in idx:\n",
    "            my_list.append(row[i])\n",
    "        groups.append(tuple(my_list))\n",
    "    values_4sum=[]\n",
    "    for row in arr:\n",
    "        list_values=[]\n",
    "        for i in range(len(arr[0])):\n",
    "            if i in idx:\n",
    "                pass\n",
    "            else:\n",
    "                list_values.append(row[i])\n",
    "        values_4sum.append(list_values)    \n",
    "    dictionary={}\n",
    "    for i, key in enumerate(groups):\n",
    "        if key in dictionary:\n",
    "            dictionary[key]=[dictionary[key][j] + values_4sum[i][j] for j in range(len(values_4sum[i]))]\n",
    "        else:\n",
    "            dictionary[key]=values_4sum[i]\n",
    "    return dictionary        "
   ]
  },
  {
   "cell_type": "code",
   "execution_count": 22,
   "id": "00834742",
   "metadata": {},
   "outputs": [
    {
     "data": {
      "text/plain": [
       "{(1, 6): [5, 30], (8, 9): [4, 11], (9, 8): [7, 12]}"
      ]
     },
     "execution_count": 22,
     "metadata": {},
     "output_type": "execute_result"
    }
   ],
   "source": [
    "arr = [\n",
    "  [1, 6, 2, 10],\n",
    "  [8, 9, 4, 11],\n",
    "  [9, 8, 7, 12],\n",
    "  [1, 6, 3, 20],\n",
    "]\n",
    "\n",
    "idx = [0, 1]\n",
    "group(arr, idx)"
   ]
  },
  {
   "cell_type": "markdown",
   "id": "c77b360e",
   "metadata": {},
   "source": [
    "## Copy your submited solution here:"
   ]
  },
  {
   "cell_type": "markdown",
   "id": "b345be90",
   "metadata": {},
   "source": []
  },
  {
   "cell_type": "code",
   "execution_count": null,
   "id": "c18d0372",
   "metadata": {},
   "outputs": [],
   "source": [
    "def group(arr, idx):\n",
    "    groups=[]\n",
    "    for row in arr:\n",
    "        my_list=[]\n",
    "        for i in idx:\n",
    "            my_list.append(row[i])\n",
    "        groups.append(tuple(my_list))\n",
    "    values_4sum=[]\n",
    "    for row in arr:\n",
    "        list_values=[]\n",
    "        for i in range(len(arr[0])):\n",
    "            if i in idx:\n",
    "                pass\n",
    "            else:\n",
    "                list_values.append(row[i])\n",
    "        values_4sum.append(list_values)    \n",
    "    dictionary={}\n",
    "    for i, key in enumerate(groups):\n",
    "        if key in dictionary:\n",
    "            dictionary[key]=[dictionary[key][j] + values_4sum[i][j] for j in range(len(values_4sum[i]))]\n",
    "        else:\n",
    "            dictionary[key]=values_4sum[i]\n",
    "    return dictionary        "
   ]
  },
  {
   "cell_type": "code",
   "execution_count": null,
   "id": "8604d26f",
   "metadata": {},
   "outputs": [],
   "source": []
  }
 ],
 "metadata": {
  "kernelspec": {
   "display_name": "Python [conda env:m1]",
   "language": "python",
   "name": "conda-env-m1-py"
  },
  "language_info": {
   "codemirror_mode": {
    "name": "ipython",
    "version": 3
   },
   "file_extension": ".py",
   "mimetype": "text/x-python",
   "name": "python",
   "nbconvert_exporter": "python",
   "pygments_lexer": "ipython3",
   "version": "3.10.14"
  }
 },
 "nbformat": 4,
 "nbformat_minor": 5
}
