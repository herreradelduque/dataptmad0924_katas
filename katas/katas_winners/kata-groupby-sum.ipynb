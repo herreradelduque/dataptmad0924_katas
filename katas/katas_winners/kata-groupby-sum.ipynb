{
 "cells": [
  {
   "cell_type": "markdown",
   "id": "a447b8b5-f16b-451f-b45c-47746f721e1e",
   "metadata": {},
   "source": [
    "# Kata:"
   ]
  },
  {
   "cell_type": "markdown",
   "id": "c7379b61-1f04-4fa2-8865-bf3e2c83b39e",
   "metadata": {},
   "source": [
    "https://www.codewars.com/kata/5ed056c9263d2f001738b791/train/python"
   ]
  },
  {
   "cell_type": "markdown",
   "id": "5e2a4659-1d95-44fb-b92c-4646b4da4e6f",
   "metadata": {},
   "source": [
    "## Your name or team members:"
   ]
  },
  {
   "cell_type": "code",
   "execution_count": null,
   "id": "29ead553-d8b4-41aa-937f-7fd045595855",
   "metadata": {},
   "outputs": [],
   "source": [
    "Martín González"
   ]
  },
  {
   "cell_type": "markdown",
   "id": "f04997cc-966d-4e06-8eb0-64ab376728f8",
   "metadata": {},
   "source": [
    "## Use the following cells to test your solution:"
   ]
  },
  {
   "cell_type": "code",
   "execution_count": null,
   "id": "b5803f9e",
   "metadata": {},
   "outputs": [],
   "source": [
    "#Parameters: arr, idx; idx-> the number of column where you have to group\n",
    "#Return: dictionary group as tuples"
   ]
  },
  {
   "cell_type": "code",
   "execution_count": 26,
   "id": "22c37b62",
   "metadata": {},
   "outputs": [],
   "source": [
    "def group(arr, idx):\n",
    "    dict = {}\n",
    "    for x in len(arr):\n",
    "        print(arr[x])\n",
    "        print(arr[idx[0]][0])\n",
    "    \n",
    "    return dict "
   ]
  },
  {
   "cell_type": "code",
   "execution_count": 92,
   "id": "d640547d-43cd-465d-8e99-2b3d23d22fa0",
   "metadata": {},
   "outputs": [
    {
     "name": "stdout",
     "output_type": "stream",
     "text": [
      "Column 0---> \n",
      "1\n",
      "1\n",
      "1\n",
      "Column 1---> \n",
      "2\n",
      "5\n",
      "8\n",
      "Column 2---> \n",
      "3\n",
      "6\n",
      "9\n"
     ]
    }
   ],
   "source": [
    "arr = [[1,2,3],[1,5,6],[1,8,9]]\n",
    "idx = [0,1,2 ]\n",
    "dict_final = {}\n",
    "for x in range(len(arr)):\n",
    "    if x < len(idx):\n",
    "        print(\"Column \" + str(x) + \"---> \")\n",
    "        for y in range(len(arr[x])):\n",
    "            print(arr[y][idx[x]])\n",
    "        \n",
    "        \n",
    "    \n",
    "\n",
    "\n"
   ]
  },
  {
   "cell_type": "code",
   "execution_count": 76,
   "id": "773a786b-ebbf-4f34-942c-b5c10172a0dc",
   "metadata": {},
   "outputs": [
    {
     "name": "stdout",
     "output_type": "stream",
     "text": [
      "1\n",
      "2\n",
      "1\n",
      "5\n",
      "1\n",
      "8\n"
     ]
    }
   ],
   "source": [
    "for x in range(len(arr)):\n",
    "    for y in idx:\n",
    "        print(arr[x][y])"
   ]
  },
  {
   "cell_type": "code",
   "execution_count": 104,
   "id": "f7f22fc1-bf34-4e4c-a046-813545233463",
   "metadata": {},
   "outputs": [
    {
     "name": "stdout",
     "output_type": "stream",
     "text": [
      "Column 0 ---> \n",
      "1\n",
      "1\n",
      "1\n",
      "True\n",
      "Column 1 ---> \n",
      "2\n",
      "5\n",
      "8\n",
      "False\n"
     ]
    }
   ],
   "source": [
    "arr = [[1,2,3],[1,5,6],[1,8,9]]\n",
    "idx = [0,1]\n",
    "dict_final = {}\n",
    "\n",
    "for x in range(len(arr)):\n",
    "    equal = True\n",
    "    if x < len(idx):\n",
    "        print(\"Column \" + str(x) + \" ---> \")\n",
    "        for y in range(len(arr[x])):\n",
    "            print(arr[y][idx[x]])\n",
    "            if arr[y][idx[x]] != arr[y - 1][idx[x]]:\n",
    "                equal = False\n",
    "        if equal == False:\n",
    "            for z in range(len(arr[x])):\n",
    "                sum += arr[z][idx[x]]\n",
    "            \n",
    "            \n",
    "            \n",
    "\n",
    "        \n",
    "\n",
    "    \n"
   ]
  },
  {
   "cell_type": "code",
   "execution_count": 44,
   "id": "8d1e0d51-ed73-43db-ba02-20693c2a2c22",
   "metadata": {},
   "outputs": [
    {
     "name": "stdout",
     "output_type": "stream",
     "text": [
      "1\n",
      "2\n",
      "3\n",
      "1\n",
      "5\n",
      "6\n",
      "1\n",
      "8\n",
      "9\n"
     ]
    }
   ],
   "source": [
    "\n"
   ]
  },
  {
   "cell_type": "code",
   "execution_count": 50,
   "id": "9cf212da-23b9-4c6a-927c-ec1c54482b0f",
   "metadata": {},
   "outputs": [],
   "source": [
    "group = [[1,2,3],[1,2,6],[1,8,9]]\n",
    "idx = [0,2]\n",
    "my_dict = {}\n",
    "my_list_tuple = [] \n",
    "for x in idx:\n",
    "    z_sum = 0\n",
    "    my_sublist = []\n",
    "    my_sublist2 = []\n",
    "    for y in group:\n",
    "        for z in y:\n",
    "            if x == y.index(z) and z not in my_sublist:\n",
    "                my_sublist.append(z)\n",
    "            elif z not in my_sublist2:\n",
    "                z_sum += z\n",
    "        \n",
    "        my_sublist2.append(z_sum)\n",
    "            \n",
    "                \n",
    "        my_tuple = tuple(my_sublist)\n",
    "    my_dict[my_tuple] = my_sublist2\n",
    "    \n",
    "    \n",
    "        \n",
    "                \n",
    "         \n"
   ]
  },
  {
   "cell_type": "code",
   "execution_count": 51,
   "id": "224119ed-6f2e-4b78-8df7-0bf6dc1437ff",
   "metadata": {},
   "outputs": [
    {
     "data": {
      "text/plain": [
       "{(1,): [5, 14, 32], (3, 6, 9): [3, 6, 15]}"
      ]
     },
     "execution_count": 51,
     "metadata": {},
     "output_type": "execute_result"
    }
   ],
   "source": [
    "my_dict"
   ]
  },
  {
   "cell_type": "markdown",
   "id": "c77b360e",
   "metadata": {},
   "source": [
    "## Copy your submited solution here:"
   ]
  },
  {
   "cell_type": "markdown",
   "id": "b345be90",
   "metadata": {},
   "source": [
    "group = [[1,2,3],[1,2,6],[1,8,9]]\n",
    "idx = [0,2]\n",
    "my_dict = {}\n",
    "my_list_tuple = [] "
   ]
  },
  {
   "cell_type": "code",
   "execution_count": 4,
   "id": "0b5d739a-02c5-41fa-9ddc-3acd008cee8b",
   "metadata": {},
   "outputs": [],
   "source": [
    "def group(ar_bi,idx):\n",
    "    group = [[1,2,3],[1,2,6],[1,8,9]]\n",
    "    idx = [0,2]\n",
    "    _dict = {}\n",
    "    my_list_tuple = [] \n",
    "    for x in idx:\n",
    "        z_sum = 0\n",
    "        my_sublist = []\n",
    "        my_sublist2 = []\n",
    "        for y in group:\n",
    "            for z in y:\n",
    "                if x == y.index(z) and z not in my_sublist:\n",
    "                    my_sublist.append(z)\n",
    "                elif z not in my_sublist2:\n",
    "                    z_sum += z\n",
    "        \n",
    "            my_sublist2.append(z_sum)\n",
    "            \n",
    "                \n",
    "            my_tuple = tuple(my_sublist)\n",
    "        _dict[my_tuple] = my_sublist2\n",
    "        return _dict\n",
    "    "
   ]
  },
  {
   "cell_type": "code",
   "execution_count": 5,
   "id": "cadbfd64-3e92-4ebf-a691-d4c084109d05",
   "metadata": {},
   "outputs": [
    {
     "data": {
      "text/plain": [
       "{(1,): [5, 14, 32]}"
      ]
     },
     "execution_count": 5,
     "metadata": {},
     "output_type": "execute_result"
    }
   ],
   "source": [
    "my_ar_bi = [[2,4,1],[6,5,3],[2,1,4]]\n",
    "my_idx = [1,2]\n",
    "group(my_ar_bi, my_idx)"
   ]
  },
  {
   "cell_type": "code",
   "execution_count": null,
   "id": "15d7c20d-ec58-4496-beaa-7939d46146cb",
   "metadata": {},
   "outputs": [],
   "source": []
  }
 ],
 "metadata": {
  "kernelspec": {
   "display_name": "Python 3 (ipykernel)",
   "language": "python",
   "name": "python3"
  },
  "language_info": {
   "codemirror_mode": {
    "name": "ipython",
    "version": 3
   },
   "file_extension": ".py",
   "mimetype": "text/x-python",
   "name": "python",
   "nbconvert_exporter": "python",
   "pygments_lexer": "ipython3",
   "version": "3.10.14"
  }
 },
 "nbformat": 4,
 "nbformat_minor": 5
}
