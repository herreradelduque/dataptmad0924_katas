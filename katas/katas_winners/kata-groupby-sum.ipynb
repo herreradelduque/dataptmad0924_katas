{
 "cells": [
  {
   "cell_type": "markdown",
   "id": "a447b8b5-f16b-451f-b45c-47746f721e1e",
   "metadata": {},
   "source": [
    "# Kata:"
   ]
  },
  {
   "cell_type": "markdown",
   "id": "c7379b61-1f04-4fa2-8865-bf3e2c83b39e",
   "metadata": {},
   "source": [
    "https://www.codewars.com/kata/5ed056c9263d2f001738b791/train/python"
   ]
  },
  {
   "cell_type": "markdown",
   "id": "5e2a4659-1d95-44fb-b92c-4646b4da4e6f",
   "metadata": {},
   "source": [
    "## Your name or team members:"
   ]
  },
  {
   "cell_type": "code",
   "execution_count": null,
   "id": "29ead553-d8b4-41aa-937f-7fd045595855",
   "metadata": {},
   "outputs": [],
   "source": [
    "Martín González"
   ]
  },
  {
   "cell_type": "markdown",
   "id": "f04997cc-966d-4e06-8eb0-64ab376728f8",
   "metadata": {},
   "source": [
    "## Use the following cells to test your solution:"
   ]
  },
  {
   "cell_type": "code",
   "execution_count": null,
   "id": "b5803f9e",
   "metadata": {},
   "outputs": [],
   "source": [
    "#Parameters: arr, idx idx-> the number of column wher you have to group\n",
    "#Return: dictionary group as tuples"
   ]
  },
  {
   "cell_type": "code",
   "execution_count": 26,
   "id": "22c37b62",
   "metadata": {},
   "outputs": [],
   "source": [
    "def group(arr, idx):\n",
    "    dict = {}\n",
    "    for x in len(arr):\n",
    "        print(arr[x])\n",
    "        print(arr[idx[0]][0])\n",
    "    \n",
    "    return dict "
   ]
  },
  {
   "cell_type": "code",
   "execution_count": 92,
   "id": "d640547d-43cd-465d-8e99-2b3d23d22fa0",
   "metadata": {},
   "outputs": [
    {
     "name": "stdout",
     "output_type": "stream",
     "text": [
      "Column 0---> \n",
      "1\n",
      "1\n",
      "1\n",
      "Column 1---> \n",
      "2\n",
      "5\n",
      "8\n",
      "Column 2---> \n",
      "3\n",
      "6\n",
      "9\n"
     ]
    }
   ],
   "source": [
    "arr = [[1,2,3],[1,5,6],[1,8,9]]\n",
    "idx = [0,1,2 ]\n",
    "dict_final = {}\n",
    "for x in range(len(arr)):\n",
    "    if x < len(idx):\n",
    "        print(\"Column \" + str(x) + \"---> \")\n",
    "        for y in range(len(arr[x])):\n",
    "            print(arr[y][idx[x]])\n",
    "        \n",
    "    \n",
    "\n",
    "\n"
   ]
  },
  {
   "cell_type": "code",
   "execution_count": 76,
   "id": "773a786b-ebbf-4f34-942c-b5c10172a0dc",
   "metadata": {},
   "outputs": [
    {
     "name": "stdout",
     "output_type": "stream",
     "text": [
      "1\n",
      "2\n",
      "1\n",
      "5\n",
      "1\n",
      "8\n"
     ]
    }
   ],
   "source": [
    "for x in range(len(arr)):\n",
    "    for y in idx:\n",
    "        print(arr[x][y])"
   ]
  },
  {
   "cell_type": "code",
   "execution_count": 104,
   "id": "f7f22fc1-bf34-4e4c-a046-813545233463",
   "metadata": {},
   "outputs": [
    {
     "name": "stdout",
     "output_type": "stream",
     "text": [
      "Column 0 ---> \n",
      "1\n",
      "1\n",
      "1\n",
      "True\n",
      "Column 1 ---> \n",
      "2\n",
      "5\n",
      "8\n",
      "False\n"
     ]
    }
   ],
   "source": [
    "arr = [[1,2,3],[1,5,6],[1,8,9]]\n",
    "idx = [0,1]\n",
    "dict_final = {}\n",
    "\n",
    "for x in range(len(arr)):\n",
    "    equal = True\n",
    "    if x < len(idx):\n",
    "        print(\"Column \" + str(x) + \" ---> \")\n",
    "        for y in range(len(arr[x])):\n",
    "            print(arr[y][idx[x]])\n",
    "            if arr[y][idx[x]] != arr[y - 1][idx[x]]:\n",
    "                equal = False\n",
    "        if equal == False:\n",
    "            for z in range(len(arr[x])):\n",
    "                sum += arr[z][idx[x]]\n",
    "            \n",
    "            \n",
    "            \n",
    "\n",
    "        \n",
    "\n",
    "    \n"
   ]
  },
  {
   "cell_type": "code",
   "execution_count": 44,
   "id": "8d1e0d51-ed73-43db-ba02-20693c2a2c22",
   "metadata": {},
   "outputs": [
    {
     "name": "stdout",
     "output_type": "stream",
     "text": [
      "1\n",
      "2\n",
      "3\n",
      "1\n",
      "5\n",
      "6\n",
      "1\n",
      "8\n",
      "9\n"
     ]
    }
   ],
   "source": []
  },
  {
   "cell_type": "code",
   "execution_count": 27,
   "id": "9cf212da-23b9-4c6a-927c-ec1c54482b0f",
   "metadata": {},
   "outputs": [
    {
     "ename": "TypeError",
     "evalue": "'int' object is not iterable",
     "output_type": "error",
     "traceback": [
      "\u001b[1;31m---------------------------------------------------------------------------\u001b[0m",
      "\u001b[1;31mTypeError\u001b[0m                                 Traceback (most recent call last)",
      "Cell \u001b[1;32mIn[27], line 1\u001b[0m\n\u001b[1;32m----> 1\u001b[0m \u001b[43mgroup\u001b[49m\u001b[43m(\u001b[49m\u001b[43m[\u001b[49m\u001b[43m[\u001b[49m\u001b[38;5;241;43m1\u001b[39;49m\u001b[43m,\u001b[49m\u001b[38;5;241;43m2\u001b[39;49m\u001b[43m,\u001b[49m\u001b[38;5;241;43m3\u001b[39;49m\u001b[43m]\u001b[49m\u001b[43m,\u001b[49m\u001b[43m[\u001b[49m\u001b[38;5;241;43m1\u001b[39;49m\u001b[43m,\u001b[49m\u001b[38;5;241;43m5\u001b[39;49m\u001b[43m,\u001b[49m\u001b[38;5;241;43m6\u001b[39;49m\u001b[43m]\u001b[49m\u001b[43m,\u001b[49m\u001b[43m[\u001b[49m\u001b[38;5;241;43m1\u001b[39;49m\u001b[43m,\u001b[49m\u001b[38;5;241;43m8\u001b[39;49m\u001b[43m,\u001b[49m\u001b[38;5;241;43m9\u001b[39;49m\u001b[43m]\u001b[49m\u001b[43m]\u001b[49m\u001b[43m,\u001b[49m\u001b[43m[\u001b[49m\u001b[38;5;241;43m0\u001b[39;49m\u001b[43m]\u001b[49m\u001b[43m)\u001b[49m\n",
      "Cell \u001b[1;32mIn[26], line 3\u001b[0m, in \u001b[0;36mgroup\u001b[1;34m(arr, idx)\u001b[0m\n\u001b[0;32m      1\u001b[0m \u001b[38;5;28;01mdef\u001b[39;00m \u001b[38;5;21mgroup\u001b[39m(arr, idx):\n\u001b[0;32m      2\u001b[0m     \u001b[38;5;28mdict\u001b[39m \u001b[38;5;241m=\u001b[39m {}\n\u001b[1;32m----> 3\u001b[0m     \u001b[38;5;28;01mfor\u001b[39;00m x \u001b[38;5;129;01min\u001b[39;00m \u001b[38;5;28mlen\u001b[39m(arr):\n\u001b[0;32m      4\u001b[0m         \u001b[38;5;28mprint\u001b[39m(arr[x])\n\u001b[0;32m      5\u001b[0m         \u001b[38;5;28mprint\u001b[39m(arr[idx[\u001b[38;5;241m0\u001b[39m]][\u001b[38;5;241m0\u001b[39m])\n",
      "\u001b[1;31mTypeError\u001b[0m: 'int' object is not iterable"
     ]
    }
   ],
   "source": [
    "group([[1,2,3],[1,5,6],[1,8,9]],[0])"
   ]
  },
  {
   "cell_type": "markdown",
   "id": "c77b360e",
   "metadata": {},
   "source": [
    "## Copy your submited solution here:"
   ]
  },
  {
   "cell_type": "markdown",
   "id": "b345be90",
   "metadata": {},
   "source": []
  }
 ],
 "metadata": {
  "kernelspec": {
   "display_name": "Python 3 (ipykernel)",
   "language": "python",
   "name": "python3"
  },
  "language_info": {
   "codemirror_mode": {
    "name": "ipython",
    "version": 3
   },
   "file_extension": ".py",
   "mimetype": "text/x-python",
   "name": "python",
   "nbconvert_exporter": "python",
   "pygments_lexer": "ipython3",
   "version": "3.10.14"
  }
 },
 "nbformat": 4,
 "nbformat_minor": 5
}
