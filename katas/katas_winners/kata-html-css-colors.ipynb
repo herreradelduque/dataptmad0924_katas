{
 "cells": [
  {
   "cell_type": "markdown",
   "id": "a447b8b5-f16b-451f-b45c-47746f721e1e",
   "metadata": {},
   "source": [
    "# Kata:"
   ]
  },
  {
   "cell_type": "markdown",
   "id": "c7379b61-1f04-4fa2-8865-bf3e2c83b39e",
   "metadata": {},
   "source": [
    "https://www.codewars.com/kata/58b57ae2724e3c63df000006/train/python"
   ]
  },
  {
   "cell_type": "markdown",
   "id": "5e2a4659-1d95-44fb-b92c-4646b4da4e6f",
   "metadata": {},
   "source": [
    "## Your name or team members:"
   ]
  },
  {
   "cell_type": "code",
   "execution_count": null,
   "id": "29ead553-d8b4-41aa-937f-7fd045595855",
   "metadata": {},
   "outputs": [],
   "source": [
    "jose luis "
   ]
  },
  {
   "cell_type": "markdown",
   "id": "f04997cc-966d-4e06-8eb0-64ab376728f8",
   "metadata": {},
   "source": [
    "## Use the following cells to test your solution:"
   ]
  },
  {
   "cell_type": "code",
   "execution_count": 33,
   "id": "4202edc5-f719-4068-96bd-55703a8a6c27",
   "metadata": {},
   "outputs": [],
   "source": [
    "def parse_html_color(color):\n",
    "    if not color[0] == \"#\" : \n",
    "        color =  lower.color()\n",
    "    elif color[0] == \"#\":\n",
    "        color.split(\"#\")\n",
    "        d = color[0:2]\n",
    "        g = color[2:4]\n",
    "        b = color[4:6]\n"
   ]
  },
  {
   "cell_type": "code",
   "execution_count": 29,
   "id": "99748dbe",
   "metadata": {},
   "outputs": [
    {
     "data": {
      "text/plain": [
       "'jd'"
      ]
     },
     "execution_count": 29,
     "metadata": {},
     "output_type": "execute_result"
    }
   ],
   "source": [
    "color = \"#Hgjdd\" #convertir en diccionario\n",
    "r = color[0:2]\n",
    "g = color[2:4]\n",
    "b = color[4:6]\n",
    "g\n",
    "\n"
   ]
  },
  {
   "cell_type": "code",
   "execution_count": 35,
   "id": "190c5fe8",
   "metadata": {},
   "outputs": [
    {
     "data": {
      "text/plain": [
       "['Hgjdd']"
      ]
     },
     "execution_count": 35,
     "metadata": {},
     "output_type": "execute_result"
    }
   ],
   "source": [
    "color.split(\"#\")"
   ]
  },
  {
   "cell_type": "code",
   "execution_count": 8,
   "id": "1c1f6098-25a1-4805-a249-b833ca4a66a0",
   "metadata": {},
   "outputs": [],
   "source": [
    "PRESET_COLORS = {'aliceblue': '#f0f8ff', 'antiquewhite': '#faebd7', 'aqua': '#00ffff', 'aquamarine': '#7fffd4', 'azure': '#f0ffff', 'beige': '#f5f5dc', 'bisque': '#ffe4c4', 'black': '#000000', 'blanchedalmond': '#ffebcd', 'blue': '#0000ff', 'blueviolet': '#8a2be2', 'brown': '#a52a2a', 'burlywood': '#deb887', 'cadetblue': '#5f9ea0', 'chartreuse': '#7fff00', 'chocolate': '#d2691e', 'coral': '#ff7f50', 'cornflowerblue': '#6495ed', 'cornsilk': '#fff8dc', 'crimson': '#dc143c', 'cyan': '#00ffff', 'darkblue': '#00008b', 'darkcyan': '#008b8b', 'darkgoldenrod': '#b8860b', 'darkgray': '#a9a9a9', 'darkgrey': '#a9a9a9', 'darkgreen': '#006400', 'darkkhaki': '#bdb76b', 'darkmagenta': '#8b008b', 'darkolivegreen': '#556b2f', 'darkorange': '#ff8c00', 'darkorchid': '#9932cc', 'darkred': '#8b0000', 'darksalmon': '#e9967a', 'darkseagreen': '#8fbc8f', 'darkslateblue': '#483d8b', 'darkslategray': '#2f4f4f', 'darkslategrey': '#2f4f4f', 'darkturquoise': '#00ced1', 'darkviolet': '#9400d3', 'deeppink': '#ff1493', 'deepskyblue': '#00bfff', 'dimgray': '#696969', 'dimgrey': '#696969', 'dodgerblue': '#1e90ff', 'firebrick': '#b22222', 'floralwhite': '#fffaf0', 'forestgreen': '#228b22', 'fuchsia': '#ff00ff', 'gainsboro': '#dcdcdc', 'ghostwhite': '#f8f8ff', 'gold': '#ffd700', 'goldenrod': '#daa520', 'gray': '#808080', 'grey': '#808080', 'green': '#008000', 'greenyellow': '#adff2f', 'honeydew': '#f0fff0', 'hotpink': '#ff69b4', 'indianred': '#cd5c5c', 'indigo': '#4b0082', 'ivory': '#fffff0', 'khaki': '#f0e68c', 'lavender': '#e6e6fa', 'lavenderblush': '#fff0f5', 'lawngreen': '#7cfc00', 'lemonchiffon': '#fffacd', 'lightblue': '#add8e6', 'lightcoral': '#f08080', 'lightcyan': '#e0ffff', 'lightgoldenrodyellow': '#fafad2', 'lightgray': '#d3d3d3', 'lightgrey': '#d3d3d3', 'lightgreen': '#90ee90', 'lightpink': '#ffb6c1', 'lightsalmon': '#ffa07a', 'lightseagreen': '#20b2aa', 'lightskyblue': '#87cefa', 'lightslategray': '#778899', 'lightslategrey': '#778899', 'lightsteelblue': '#b0c4de', 'lightyellow': '#ffffe0', 'lime': '#00ff00', 'limegreen': '#32cd32', 'linen': '#faf0e6', 'magenta': '#ff00ff', 'maroon': '#800000', 'mediumaquamarine': '#66cdaa', 'mediumblue': '#0000cd', 'mediumorchid': '#ba55d3', 'mediumpurple': '#9370db', 'mediumseagreen': '#3cb371', 'mediumslateblue': '#7b68ee', 'mediumspringgreen': '#00fa9a', 'mediumturquoise': '#48d1cc', 'mediumvioletred': '#c71585', 'midnightblue': '#191970', 'mintcream': '#f5fffa', 'mistyrose': '#ffe4e1', 'moccasin': '#ffe4b5', 'navajowhite': '#ffdead', 'navy': '#000080', 'oldlace': '#fdf5e6', 'olive': '#808000', 'olivedrab': '#6b8e23', 'orange': '#ffa500', 'orangered': '#ff4500', 'orchid': '#da70d6', 'palegoldenrod': '#eee8aa', 'palegreen': '#98fb98', 'paleturquoise': '#afeeee', 'palevioletred': '#db7093', 'papayawhip': '#ffefd5', 'peachpuff': '#ffdab9', 'peru': '#cd853f', 'pink': '#ffc0cb', 'plum': '#dda0dd', 'powderblue': '#b0e0e6', 'purple': '#800080', 'rebeccapurple': '#663399', 'red': '#ff0000', 'rosybrown': '#bc8f8f', 'royalblue': '#4169e1', 'saddlebrown': '#8b4513', 'salmon': '#fa8072', 'sandybrown': '#f4a460', 'seagreen': '#2e8b57', 'seashell': '#fff5ee', 'sienna': '#a0522d', 'silver': '#c0c0c0', 'skyblue': '#87ceeb', 'slateblue': '#6a5acd', 'slategray': '#708090', 'slategrey': '#708090', 'snow': '#fffafa', 'springgreen': '#00ff7f', 'steelblue': '#4682b4', 'tan': '#d2b48c', 'teal': '#008080', 'thistle': '#d8bfd8', 'tomato': '#ff6347', 'turquoise': '#40e0d0', 'violet': '#ee82ee', 'wheat': '#f5deb3', 'white': '#ffffff', 'whitesmoke': '#f5f5f5', 'yellow': '#ffff00', 'yellowgreen': '#9acd32'}"
   ]
  },
  {
   "cell_type": "code",
   "execution_count": null,
   "id": "d9025694",
   "metadata": {},
   "outputs": [],
   "source": [
    "#ordenado ideas:\n",
    "#tenemos que convertir el color a minisculas para manejar los nombres de los colores cuando viene en dicho formato\n",
    "#luego tenemos que verificar los tipo de entrada que uno es de longitud 6 y el otro de longitud 3\n",
    "# tenemos 3 condiciones posibles que dependiendo de ellas tenemos que hacer diferentes cosas "
   ]
  },
  {
   "cell_type": "markdown",
   "id": "5e5948ae-bfb0-4aa7-8cc0-83970accb44a",
   "metadata": {},
   "source": [
    "## Copy your submited solution here:"
   ]
  },
  {
   "cell_type": "code",
   "execution_count": 14,
   "id": "de8f88a1-897b-4b92-8c9f-e04d16cec21a",
   "metadata": {},
   "outputs": [],
   "source": [
    "def parse_html_color(color):\n",
    "\n",
    "    color = color.lower() #covertimos a minuscula para evitar problemas al buscar en PRESET_COLORS\n",
    "    if color.startswith(\"#\"):\n",
    "        if len(color) == 7: #teniedo encuenta que seguimos teniendo el numeral y solo pedimos que si empieza con # haga esta comprobacion \n",
    "            r = int(color[1:3], 16) #se indica la posicion que debe tomar y se convierte a formato hexadecimal  \n",
    "            g = int(color[3:5], 16)\n",
    "            b = int(color[5:7], 16)\n",
    "            return {'r': r, 'g': g, 'b': b} #pedimos que nos devuelva el dicionario con sus respectivos valores\n",
    "        \n",
    "        elif len(color) == 4:   #ahora con la segunda condicion vemos si el len es 4: y de la misma manera que arriba definimos\n",
    "            r = int(color[1] * 2, 16)               #los valores de las key al ser de 3 lo convertimos en en 6 multiplicando por 2\n",
    "            g = int(color[2] * 2, 16)               #y volvemos a aplicar el formato hexadecimal\n",
    "            b = int(color[3] * 2, 16)            #posicion 2 por 2 daria el a y asi sucecivamente \n",
    "            return {'r': r, 'g': g, 'b': b}\n",
    "    elif color in PRESET_COLORS:\n",
    "        hex_color = PRESET_COLORS[color] #ultima condicion que venga con nombre y lo tengamos que buscar en preset_color\n",
    "        r = int(hex_color[1:3], 16)         #al ya tenerlo en minusculas decimos que si el color esta en preset colors:\n",
    "        g = int(hex_color[3:5], 16)           # definimos que hex_color esun slicin de lo que haya en esa key  \n",
    "        b = int(hex_color[5:7], 16)           #al ya tener el formato como los demas volvemos ahora hacer el mismo proceso \n",
    "        return {'r': r, 'g': g, 'b': b} #OJO CON LA IDENTACION DEBIDO A QUE SI EL ULTIMO CASO NO LO SACAS HASTA EL NIVEL DONDE ESTE PRESET COLOR Y DONDE ESTE YA EN MINUSCULAS NO TE LO TOMARA ENNCUENTA \n",
    "        \n"
   ]
  },
  {
   "cell_type": "code",
   "execution_count": null,
   "id": "61f264ba",
   "metadata": {},
   "outputs": [],
   "source": []
  },
  {
   "cell_type": "code",
   "execution_count": null,
   "id": "0c455236",
   "metadata": {},
   "outputs": [],
   "source": []
  }
 ],
 "metadata": {
  "kernelspec": {
   "display_name": "Python [conda env:.conda-m1]",
   "language": "python",
   "name": "conda-env-.conda-m1-py"
  },
  "language_info": {
   "codemirror_mode": {
    "name": "ipython",
    "version": 3
   },
   "file_extension": ".py",
   "mimetype": "text/x-python",
   "name": "python",
   "nbconvert_exporter": "python",
   "pygments_lexer": "ipython3",
   "version": "3.10.14"
  }
 },
 "nbformat": 4,
 "nbformat_minor": 5
}
