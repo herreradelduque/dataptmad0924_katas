{
 "cells": [
  {
   "cell_type": "markdown",
   "id": "a447b8b5-f16b-451f-b45c-47746f721e1e",
   "metadata": {},
   "source": [
    "# Kata:"
   ]
  },
  {
   "cell_type": "markdown",
   "id": "c7379b61-1f04-4fa2-8865-bf3e2c83b39e",
   "metadata": {},
   "source": [
    "https://www.codewars.com/kata/58b57ae2724e3c63df000006/train/python"
   ]
  },
  {
   "cell_type": "markdown",
   "id": "5e2a4659-1d95-44fb-b92c-4646b4da4e6f",
   "metadata": {},
   "source": [
    "## Your name or team members:"
   ]
  },
  {
   "cell_type": "code",
   "execution_count": 1,
   "id": "29ead553-d8b4-41aa-937f-7fd045595855",
   "metadata": {},
   "outputs": [
    {
     "ename": "SyntaxError",
     "evalue": "invalid syntax (458256314.py, line 1)",
     "output_type": "error",
     "traceback": [
      "\u001b[1;36m  Cell \u001b[1;32mIn[1], line 1\u001b[1;36m\u001b[0m\n\u001b[1;33m    Paul Correa\u001b[0m\n\u001b[1;37m         ^\u001b[0m\n\u001b[1;31mSyntaxError\u001b[0m\u001b[1;31m:\u001b[0m invalid syntax\n"
     ]
    }
   ],
   "source": [
    "Paul Correa"
   ]
  },
  {
   "cell_type": "markdown",
   "id": "f04997cc-966d-4e06-8eb0-64ab376728f8",
   "metadata": {},
   "source": [
    "## Use the following cells to test your solution:"
   ]
  },
  {
   "cell_type": "code",
   "execution_count": 3,
   "id": "4202edc5-f719-4068-96bd-55703a8a6c27",
   "metadata": {},
   "outputs": [
    {
     "name": "stdout",
     "output_type": "stream",
     "text": [
      "Collecting webcolors\n",
      "  Using cached webcolors-24.8.0-py3-none-any.whl.metadata (2.6 kB)\n",
      "Using cached webcolors-24.8.0-py3-none-any.whl (15 kB)\n",
      "Installing collected packages: webcolors\n",
      "Successfully installed webcolors-24.8.0\n",
      "Note: you may need to restart the kernel to use updated packages.\n"
     ]
    }
   ],
   "source": [
    "pip install webcolors\n"
   ]
  },
  {
   "cell_type": "code",
   "execution_count": 9,
   "id": "8b634da9-bccf-4cc1-81d7-06df69231e9b",
   "metadata": {},
   "outputs": [],
   "source": [
    "color = \"#fa3\"\n",
    "PRESET_COLORS = {'aliceblue': '#f0f8ff', 'antiquewhite': '#faebd7', 'aqua': '#00ffff', 'aquamarine': '#7fffd4', 'azure': '#f0ffff', 'beige': '#f5f5dc', 'bisque': '#ffe4c4', 'black': '#000000', 'blanchedalmond': '#ffebcd', 'blue': '#0000ff', 'blueviolet': '#8a2be2', 'brown': '#a52a2a', 'burlywood': '#deb887', 'cadetblue': '#5f9ea0', 'chartreuse': '#7fff00', 'chocolate': '#d2691e', 'coral': '#ff7f50', 'cornflowerblue': '#6495ed', 'cornsilk': '#fff8dc', 'crimson': '#dc143c', 'cyan': '#00ffff', 'darkblue': '#00008b', 'darkcyan': '#008b8b', 'darkgoldenrod': '#b8860b', 'darkgray': '#a9a9a9', 'darkgrey': '#a9a9a9', 'darkgreen': '#006400', 'darkkhaki': '#bdb76b', 'darkmagenta': '#8b008b', 'darkolivegreen': '#556b2f', 'darkorange': '#ff8c00', 'darkorchid': '#9932cc', 'darkred': '#8b0000', 'darksalmon': '#e9967a', 'darkseagreen': '#8fbc8f', 'darkslateblue': '#483d8b', 'darkslategray': '#2f4f4f', 'darkslategrey': '#2f4f4f', 'darkturquoise': '#00ced1', 'darkviolet': '#9400d3', 'deeppink': '#ff1493', 'deepskyblue': '#00bfff', 'dimgray': '#696969', 'dimgrey': '#696969', 'dodgerblue': '#1e90ff', 'firebrick': '#b22222', 'floralwhite': '#fffaf0', 'forestgreen': '#228b22', 'fuchsia': '#ff00ff', 'gainsboro': '#dcdcdc', 'ghostwhite': '#f8f8ff', 'gold': '#ffd700', 'goldenrod': '#daa520', 'gray': '#808080', 'grey': '#808080', 'green': '#008000', 'greenyellow': '#adff2f', 'honeydew': '#f0fff0', 'hotpink': '#ff69b4', 'indianred': '#cd5c5c', 'indigo': '#4b0082', 'ivory': '#fffff0', 'khaki': '#f0e68c', 'lavender': '#e6e6fa', 'lavenderblush': '#fff0f5', 'lawngreen': '#7cfc00', 'lemonchiffon': '#fffacd', 'lightblue': '#add8e6', 'lightcoral': '#f08080', 'lightcyan': '#e0ffff', 'lightgoldenrodyellow': '#fafad2', 'lightgray': '#d3d3d3', 'lightgrey': '#d3d3d3', 'lightgreen': '#90ee90', 'lightpink': '#ffb6c1', 'lightsalmon': '#ffa07a', 'lightseagreen': '#20b2aa', 'lightskyblue': '#87cefa', 'lightslategray': '#778899', 'lightslategrey': '#778899', 'lightsteelblue': '#b0c4de', 'lightyellow': '#ffffe0', 'lime': '#00ff00', 'limegreen': '#32cd32', 'linen': '#faf0e6', 'magenta': '#ff00ff', 'maroon': '#800000', 'mediumaquamarine': '#66cdaa', 'mediumblue': '#0000cd', 'mediumorchid': '#ba55d3', 'mediumpurple': '#9370db', 'mediumseagreen': '#3cb371', 'mediumslateblue': '#7b68ee', 'mediumspringgreen': '#00fa9a', 'mediumturquoise': '#48d1cc', 'mediumvioletred': '#c71585', 'midnightblue': '#191970', 'mintcream': '#f5fffa', 'mistyrose': '#ffe4e1', 'moccasin': '#ffe4b5', 'navajowhite': '#ffdead', 'navy': '#000080', 'oldlace': '#fdf5e6', 'olive': '#808000', 'olivedrab': '#6b8e23', 'orange': '#ffa500', 'orangered': '#ff4500', 'orchid': '#da70d6', 'palegoldenrod': '#eee8aa', 'palegreen': '#98fb98', 'paleturquoise': '#afeeee', 'palevioletred': '#db7093', 'papayawhip': '#ffefd5', 'peachpuff': '#ffdab9', 'peru': '#cd853f', 'pink': '#ffc0cb', 'plum': '#dda0dd', 'powderblue': '#b0e0e6', 'purple': '#800080', 'rebeccapurple': '#663399', 'red': '#ff0000', 'rosybrown': '#bc8f8f', 'royalblue': '#4169e1', 'saddlebrown': '#8b4513', 'salmon': '#fa8072', 'sandybrown': '#f4a460', 'seagreen': '#2e8b57', 'seashell': '#fff5ee', 'sienna': '#a0522d', 'silver': '#c0c0c0', 'skyblue': '#87ceeb', 'slateblue': '#6a5acd', 'slategray': '#708090', 'slategrey': '#708090', 'snow': '#fffafa', 'springgreen': '#00ff7f', 'steelblue': '#4682b4', 'tan': '#d2b48c', 'teal': '#008080', 'thistle': '#d8bfd8', 'tomato': '#ff6347', 'turquoise': '#40e0d0', 'violet': '#ee82ee', 'wheat': '#f5deb3', 'white': '#ffffff', 'whitesmoke': '#f5f5f5', 'yellow': '#ffff00', 'yellowgreen': '#9acd32'}\n",
    "\n",
    "r = []\n",
    "g = []\n",
    "b = []"
   ]
  },
  {
   "cell_type": "code",
   "execution_count": 32,
   "id": "22a366d4-9356-4a60-9a0d-ad5b831c5841",
   "metadata": {},
   "outputs": [
    {
     "data": {
      "text/plain": [
       "'yellowgreen'"
      ]
     },
     "execution_count": 32,
     "metadata": {},
     "output_type": "execute_result"
    }
   ],
   "source": [
    "def parse_html_color(color):\n",
    "    print(PRESET_COLORS)\n",
    "my_color=\"limeGreen\"\n",
    "my_color=my_color.lower()\n",
    "my_color\n",
    "for key in list(PRESET_COLORS.keys()):\n",
    "    new_key = key.lstrip('#')  # Eliminar dígitos de la izquierda\n",
    "new_key"
   ]
  },
  {
   "cell_type": "code",
   "execution_count": 10,
   "id": "28684147-9807-47d3-97ed-7083fabe15bf",
   "metadata": {},
   "outputs": [
    {
     "name": "stdout",
     "output_type": "stream",
     "text": [
      "fa3\n",
      "Es un color\n",
      "['f', 'a', '3']\n",
      "['ff', 'aa', '33']\n"
     ]
    }
   ],
   "source": [
    "if '#' not in color:\n",
    "    color = color.lower()\n",
    "    if color in PRESET_COLORS:\n",
    "        print(\"Es un color\")\n",
    "        color = PRESET_COLORS[color]\n",
    "        if color.startswith(\"#\"):\n",
    "            color = color.replace('#','')\n",
    "        print(color)\n",
    "        for x in range(len(color)):\n",
    "            if x < 2:\n",
    "                r.append(color[x])\n",
    "            if x >= 2 and x < 4:\n",
    "                g.append(color[x])\n",
    "            if x >= 4:\n",
    "                b.append(color[x])\n",
    "\n",
    "if color.startswith(\"#\"):\n",
    "    color = color.replace('#','')\n",
    "    \n",
    "print(color)\n",
    "\n",
    "\n",
    "if len(color) == 6:\n",
    "    print(\"Es un color\")\n",
    "    if color.startswith(\"#\"):\n",
    "        color = color.replace('#','')\n",
    "    for x in range(len(color)):\n",
    "        if x < 2:\n",
    "            r.append(color[x])\n",
    "        if x >= 2 and x < 4:\n",
    "            g.append(color[x])\n",
    "        if x >= 4:\n",
    "            b.append(color[x])\n",
    "if len(color) == 3:\n",
    "    print(\"Es un color\")\n",
    "    color = list(color)\n",
    "    print(color)\n",
    "    \n",
    "    for x in range(len(color)):\n",
    "        color[x] *= 2\n",
    "    print(color)\n",
    "    for x in range(len(color)):\n",
    "        if x == 0:\n",
    "            r.append(color[x])\n",
    "        if x == 1:\n",
    "            g.append(color[x])\n",
    "        if x == 2:\n",
    "            b.append(color[x])\n",
    "    "
   ]
  },
  {
   "cell_type": "code",
   "execution_count": 3,
   "id": "98135b26-2072-425c-8be0-bf00867edb02",
   "metadata": {},
   "outputs": [
    {
     "name": "stdout",
     "output_type": "stream",
     "text": [
      "['ff']\n",
      "['aa']\n",
      "['33']\n"
     ]
    }
   ],
   "source": [
    "print(r)\n",
    "print(g)\n",
    "print(b)\n",
    "red_string = ''.join(x for x in r)\n",
    "green_string = ''.join(x for x in g) \n",
    "blue_string = ''.join(x for x in b)"
   ]
  },
  {
   "cell_type": "code",
   "execution_count": 4,
   "id": "485c2fd7-7e19-4a50-ac31-f1480d71c440",
   "metadata": {},
   "outputs": [
    {
     "data": {
      "text/plain": [
       "{'red': 255, 'green': 170, 'blue': 51}"
      ]
     },
     "execution_count": 4,
     "metadata": {},
     "output_type": "execute_result"
    }
   ],
   "source": [
    "red_string = ''\n",
    "for x in r:\n",
    "    red_string += x\n",
    "red_decimal = int(red_string, 16)\n",
    "green_decimal = int(green_string, 16)\n",
    "blue_decimal = int(blue_string, 16)\n",
    "dict_colors = {\"red\":red_decimal, \"green\":green_decimal, \"blue\":blue_decimal}\n",
    "dict_colors"
   ]
  },
  {
   "cell_type": "markdown",
   "id": "5e5948ae-bfb0-4aa7-8cc0-83970accb44a",
   "metadata": {},
   "source": [
    "## Copy your submited solution here:"
   ]
  },
  {
   "cell_type": "code",
   "execution_count": null,
   "id": "de8f88a1-897b-4b92-8c9f-e04d16cec21a",
   "metadata": {},
   "outputs": [],
   "source": [
    "def parse_html_color(color):\n",
    "\n",
    "    PRESET_COLORS = {'aliceblue': '#f0f8ff', 'antiquewhite': '#faebd7', 'aqua': '#00ffff', 'aquamarine': '#7fffd4', 'azure': '#f0ffff', 'beige': '#f5f5dc', 'bisque': '#ffe4c4', 'black': '#000000', 'blanchedalmond': '#ffebcd', 'blue': '#0000ff', 'blueviolet': '#8a2be2', 'brown': '#a52a2a', 'burlywood': '#deb887', 'cadetblue': '#5f9ea0', 'chartreuse': '#7fff00', 'chocolate': '#d2691e', 'coral': '#ff7f50', 'cornflowerblue': '#6495ed', 'cornsilk': '#fff8dc', 'crimson': '#dc143c', 'cyan': '#00ffff', 'darkblue': '#00008b', 'darkcyan': '#008b8b', 'darkgoldenrod': '#b8860b', 'darkgray': '#a9a9a9', 'darkgrey': '#a9a9a9', 'darkgreen': '#006400', 'darkkhaki': '#bdb76b', 'darkmagenta': '#8b008b', 'darkolivegreen': '#556b2f', 'darkorange': '#ff8c00', 'darkorchid': '#9932cc', 'darkred': '#8b0000', 'darksalmon': '#e9967a', 'darkseagreen': '#8fbc8f', 'darkslateblue': '#483d8b', 'darkslategray': '#2f4f4f', 'darkslategrey': '#2f4f4f', 'darkturquoise': '#00ced1', 'darkviolet': '#9400d3', 'deeppink': '#ff1493', 'deepskyblue': '#00bfff', 'dimgray': '#696969', 'dimgrey': '#696969', 'dodgerblue': '#1e90ff', 'firebrick': '#b22222', 'floralwhite': '#fffaf0', 'forestgreen': '#228b22', 'fuchsia': '#ff00ff', 'gainsboro': '#dcdcdc', 'ghostwhite': '#f8f8ff', 'gold': '#ffd700', 'goldenrod': '#daa520', 'gray': '#808080', 'grey': '#808080', 'green': '#008000', 'greenyellow': '#adff2f', 'honeydew': '#f0fff0', 'hotpink': '#ff69b4', 'indianred': '#cd5c5c', 'indigo': '#4b0082', 'ivory': '#fffff0', 'khaki': '#f0e68c', 'lavender': '#e6e6fa', 'lavenderblush': '#fff0f5', 'lawngreen': '#7cfc00', 'lemonchiffon': '#fffacd', 'lightblue': '#add8e6', 'lightcoral': '#f08080', 'lightcyan': '#e0ffff', 'lightgoldenrodyellow': '#fafad2', 'lightgray': '#d3d3d3', 'lightgrey': '#d3d3d3', 'lightgreen': '#90ee90', 'lightpink': '#ffb6c1', 'lightsalmon': '#ffa07a', 'lightseagreen': '#20b2aa', 'lightskyblue': '#87cefa', 'lightslategray': '#778899', 'lightslategrey': '#778899', 'lightsteelblue': '#b0c4de', 'lightyellow': '#ffffe0', 'lime': '#00ff00', 'limegreen': '#32cd32', 'linen': '#faf0e6', 'magenta': '#ff00ff', 'maroon': '#800000', 'mediumaquamarine': '#66cdaa', 'mediumblue': '#0000cd', 'mediumorchid': '#ba55d3', 'mediumpurple': '#9370db', 'mediumseagreen': '#3cb371', 'mediumslateblue': '#7b68ee', 'mediumspringgreen': '#00fa9a', 'mediumturquoise': '#48d1cc', 'mediumvioletred': '#c71585', 'midnightblue': '#191970', 'mintcream': '#f5fffa', 'mistyrose': '#ffe4e1', 'moccasin': '#ffe4b5', 'navajowhite': '#ffdead', 'navy': '#000080', 'oldlace': '#fdf5e6', 'olive': '#808000', 'olivedrab': '#6b8e23', 'orange': '#ffa500', 'orangered': '#ff4500', 'orchid': '#da70d6', 'palegoldenrod': '#eee8aa', 'palegreen': '#98fb98', 'paleturquoise': '#afeeee', 'palevioletred': '#db7093', 'papayawhip': '#ffefd5', 'peachpuff': '#ffdab9', 'peru': '#cd853f', 'pink': '#ffc0cb', 'plum': '#dda0dd', 'powderblue': '#b0e0e6', 'purple': '#800080', 'rebeccapurple': '#663399', 'red': '#ff0000', 'rosybrown': '#bc8f8f', 'royalblue': '#4169e1', 'saddlebrown': '#8b4513', 'salmon': '#fa8072', 'sandybrown': '#f4a460', 'seagreen': '#2e8b57', 'seashell': '#fff5ee', 'sienna': '#a0522d', 'silver': '#c0c0c0', 'skyblue': '#87ceeb', 'slateblue': '#6a5acd', 'slategray': '#708090', 'slategrey': '#708090', 'snow': '#fffafa', 'springgreen': '#00ff7f', 'steelblue': '#4682b4', 'tan': '#d2b48c', 'teal': '#008080', 'thistle': '#d8bfd8', 'tomato': '#ff6347', 'turquoise': '#40e0d0', 'violet': '#ee82ee', 'wheat': '#f5deb3', 'white': '#ffffff', 'whitesmoke': '#f5f5f5', 'yellow': '#ffff00', 'yellowgreen': '#9acd32'}\n",
    "    \n",
    "    r = []\n",
    "    g = []\n",
    "    b = []\n",
    "\n",
    "    # In this case, the argument is contained in PRESET_COLORS\n",
    "    if '#' not in color:\n",
    "        color = color.lower()\n",
    "        if color in PRESET_COLORS:\n",
    "            print(\"Es un color\")\n",
    "            color = PRESET_COLORS[color]\n",
    "            if color.startswith(\"#\"):\n",
    "                color = color.replace('#','')\n",
    "            print(color)\n",
    "            for x in range(len(color)):\n",
    "                if x < 2:\n",
    "                    r.append(color[x])\n",
    "                if x >= 2 and x < 4:\n",
    "                    g.append(color[x])\n",
    "                if x >= 4:\n",
    "                    b.append(color[x])\n",
    "\n",
    "    \n",
    "    # In this case, the color is in hex\n",
    "    else:\n",
    "        if color.startswith(\"#\"):\n",
    "            color = color.replace('#','')\n",
    "        print(color)\n",
    "    \n",
    "\n",
    "        if len(color) == 6:\n",
    "            print(\"Es un color\")\n",
    "            if color.startswith(\"#\"):\n",
    "                color = color.replace('#','')\n",
    "            for x in range(len(color)):# Here we transform the html color code in three list of two elements each one, each list for each rgb color\n",
    "                if x < 2:\n",
    "                    r.append(color[x])\n",
    "                if x >= 2 and x < 4:\n",
    "                    g.append(color[x])\n",
    "                if x >= 4:\n",
    "                    b.append(color[x])\n",
    "\n",
    "        if len(color) == 3:\n",
    "            print(\"Es un color\")\n",
    "            color = list(color)\n",
    "            print(color)\n",
    "        \n",
    "            for x in range(len(color)):# We have to duplicate each digit because we need 6 digits and we have 3\n",
    "                color[x] *= 2\n",
    "            print(color)\n",
    "            for x in range(len(color)):\n",
    "                if x == 0:\n",
    "                    r.append(color[x])\n",
    "                if x == 1:\n",
    "                    g.append(color[x])\n",
    "                if x == 2:\n",
    "                    b.append(color[x])\n",
    "        \n",
    "\n",
    "    \n",
    "    \n",
    "\n",
    "    print(r)\n",
    "    print(g)\n",
    "    print(b)\n",
    "    \n",
    "      \n",
    "        \n",
    "    #Here we transform the two elements of each list into one string\n",
    "    red_string = ''.join(x for x in r) \n",
    "    green_string = ''.join(x for x in g) \n",
    "    blue_string = ''.join(x for x in b)\n",
    "\n",
    "    # Here we transform the strings in integers with 16 base\n",
    "    red_decimal = int(red_string, 16)\n",
    "    green_decimal = int(green_string, 16)\n",
    "    blue_decimal = int(blue_string, 16)\n",
    "\n",
    "    dict_colors = {\"r\":red_decimal, \"g\":green_decimal, \"b\":blue_decimal}\n",
    "\n",
    "    \n",
    "    return dict_colors"
   ]
  },
  {
   "cell_type": "code",
   "execution_count": null,
   "id": "0b262a03-a54f-4717-af0c-79072c3ddb17",
   "metadata": {},
   "outputs": [],
   "source": []
  }
 ],
 "metadata": {
  "kernelspec": {
   "display_name": "Python (m1)",
   "language": "python",
   "name": "m1"
  },
  "language_info": {
   "codemirror_mode": {
    "name": "ipython",
    "version": 3
   },
   "file_extension": ".py",
   "mimetype": "text/x-python",
   "name": "python",
   "nbconvert_exporter": "python",
   "pygments_lexer": "ipython3",
   "version": "3.12.5"
  }
 },
 "nbformat": 4,
 "nbformat_minor": 5
}
