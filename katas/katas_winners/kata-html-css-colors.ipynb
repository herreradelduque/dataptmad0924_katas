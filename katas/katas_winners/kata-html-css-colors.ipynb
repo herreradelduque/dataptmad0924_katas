{
 "cells": [
  {
   "cell_type": "markdown",
   "id": "a447b8b5-f16b-451f-b45c-47746f721e1e",
   "metadata": {},
   "source": [
    "# Kata:"
   ]
  },
  {
   "cell_type": "markdown",
   "id": "c7379b61-1f04-4fa2-8865-bf3e2c83b39e",
   "metadata": {},
   "source": [
    "https://www.codewars.com/kata/58b57ae2724e3c63df000006/train/python"
   ]
  },
  {
   "cell_type": "markdown",
   "id": "5e2a4659-1d95-44fb-b92c-4646b4da4e6f",
   "metadata": {},
   "source": [
    "## Your name or team members:"
   ]
  },
  {
   "cell_type": "code",
   "execution_count": null,
   "id": "29ead553-d8b4-41aa-937f-7fd045595855",
   "metadata": {},
   "outputs": [],
   "source": [
    "Blanca"
   ]
  },
  {
   "cell_type": "markdown",
   "id": "f04997cc-966d-4e06-8eb0-64ab376728f8",
   "metadata": {},
   "source": [
    "## Use the following cells to test your solution:"
   ]
  },
  {
   "cell_type": "code",
   "execution_count": null,
   "id": "cf1aa6c2",
   "metadata": {},
   "outputs": [],
   "source": [
    "#PARA PODER USAR EL PRESET_COLOR necesito Matplotlib\n",
    "import matplotlib.pyplot as plt"
   ]
  },
  {
   "cell_type": "code",
   "execution_count": 13,
   "id": "1ccf3523",
   "metadata": {},
   "outputs": [],
   "source": [
    "#Tambien podemos crear el diccionario a raiz de la información de CodeWars\n",
    "PRESET_COLORS = {'aliceblue': '#f0f8ff', 'antiquewhite': '#faebd7', 'aqua': '#00ffff', 'aquamarine': '#7fffd4', 'azure': '#f0ffff', 'beige': '#f5f5dc', 'bisque': '#ffe4c4', 'black': '#000000', 'blanchedalmond': '#ffebcd', 'blue': '#0000ff', 'blueviolet': '#8a2be2', 'brown': '#a52a2a', 'burlywood': '#deb887', 'cadetblue': '#5f9ea0', 'chartreuse': '#7fff00', 'chocolate': '#d2691e', 'coral': '#ff7f50', 'cornflowerblue': '#6495ed', 'cornsilk': '#fff8dc', 'crimson': '#dc143c', 'cyan': '#00ffff', 'darkblue': '#00008b', 'darkcyan': '#008b8b', 'darkgoldenrod': '#b8860b', 'darkgray': '#a9a9a9', 'darkgrey': '#a9a9a9', 'darkgreen': '#006400', 'darkkhaki': '#bdb76b', 'darkmagenta': '#8b008b', 'darkolivegreen': '#556b2f', 'darkorange': '#ff8c00', 'darkorchid': '#9932cc', 'darkred': '#8b0000', 'darksalmon': '#e9967a', 'darkseagreen': '#8fbc8f', 'darkslateblue': '#483d8b', 'darkslategray': '#2f4f4f', 'darkslategrey': '#2f4f4f', 'darkturquoise': '#00ced1', 'darkviolet': '#9400d3', 'deeppink': '#ff1493', 'deepskyblue': '#00bfff', 'dimgray': '#696969', 'dimgrey': '#696969', 'dodgerblue': '#1e90ff', 'firebrick': '#b22222', 'floralwhite': '#fffaf0', 'forestgreen': '#228b22', 'fuchsia': '#ff00ff', 'gainsboro': '#dcdcdc', 'ghostwhite': '#f8f8ff', 'gold': '#ffd700', 'goldenrod': '#daa520', 'gray': '#808080', 'grey': '#808080', 'green': '#008000', 'greenyellow': '#adff2f', 'honeydew': '#f0fff0', 'hotpink': '#ff69b4', 'indianred': '#cd5c5c', 'indigo': '#4b0082', 'ivory': '#fffff0', 'khaki': '#f0e68c', 'lavender': '#e6e6fa', 'lavenderblush': '#fff0f5', 'lawngreen': '#7cfc00', 'lemonchiffon': '#fffacd', 'lightblue': '#add8e6', 'lightcoral': '#f08080', 'lightcyan': '#e0ffff', 'lightgoldenrodyellow': '#fafad2', 'lightgray': '#d3d3d3', 'lightgrey': '#d3d3d3', 'lightgreen': '#90ee90', 'lightpink': '#ffb6c1', 'lightsalmon': '#ffa07a', 'lightseagreen': '#20b2aa', 'lightskyblue': '#87cefa', 'lightslategray': '#778899', 'lightslategrey': '#778899', 'lightsteelblue': '#b0c4de', 'lightyellow': '#ffffe0', 'lime': '#00ff00', 'limegreen': '#32cd32', 'linen': '#faf0e6', 'magenta': '#ff00ff', 'maroon': '#800000', 'mediumaquamarine': '#66cdaa', 'mediumblue': '#0000cd', 'mediumorchid': '#ba55d3', 'mediumpurple': '#9370db', 'mediumseagreen': '#3cb371', 'mediumslateblue': '#7b68ee', 'mediumspringgreen': '#00fa9a', 'mediumturquoise': '#48d1cc', 'mediumvioletred': '#c71585', 'midnightblue': '#191970', 'mintcream': '#f5fffa', 'mistyrose': '#ffe4e1', 'moccasin': '#ffe4b5', 'navajowhite': '#ffdead', 'navy': '#000080', 'oldlace': '#fdf5e6', 'olive': '#808000', 'olivedrab': '#6b8e23', 'orange': '#ffa500', 'orangered': '#ff4500', 'orchid': '#da70d6', 'palegoldenrod': '#eee8aa', 'palegreen': '#98fb98', 'paleturquoise': '#afeeee', 'palevioletred': '#db7093', 'papayawhip': '#ffefd5', 'peachpuff': '#ffdab9', 'peru': '#cd853f', 'pink': '#ffc0cb', 'plum': '#dda0dd', 'powderblue': '#b0e0e6', 'purple': '#800080', 'rebeccapurple': '#663399', 'red': '#ff0000', 'rosybrown': '#bc8f8f', 'royalblue': '#4169e1', 'saddlebrown': '#8b4513', 'salmon': '#fa8072', 'sandybrown': '#f4a460', 'seagreen': '#2e8b57', 'seashell': '#fff5ee', 'sienna': '#a0522d', 'silver': '#c0c0c0', 'skyblue': '#87ceeb', 'slateblue': '#6a5acd', 'slategray': '#708090', 'slategrey': '#708090', 'snow': '#fffafa', 'springgreen': '#00ff7f', 'steelblue': '#4682b4', 'tan': '#d2b48c', 'teal': '#008080', 'thistle': '#d8bfd8', 'tomato': '#ff6347', 'turquoise': '#40e0d0', 'violet': '#ee82ee', 'wheat': '#f5deb3', 'white': '#ffffff', 'whitesmoke': '#f5f5f5', 'yellow': '#ffff00', 'yellowgreen': '#9acd32'}"
   ]
  },
  {
   "cell_type": "code",
   "execution_count": 39,
   "id": "0f3021f8",
   "metadata": {},
   "outputs": [],
   "source": [
    "#Vamos a diferenciar si empieza por #\n",
    "\n",
    "def search_value_color(color):\n",
    "    \n",
    "    #Primer diferencio entre el tipo de input, en este caso van a ser varibales hexadecimals\n",
    "    if color.startswith(\"#\"):\n",
    "        \n",
    "        #Al confirmar el tipo de variable me quedo únicamente con los números\n",
    "        color = color[1:]\n",
    "        \n",
    "        #Ahora necesito comprobar el length del input para saber el numero de digitos \n",
    "        if len(color) == 6:\n",
    "            r = int(color[0:2], 16)\n",
    "            g = int(color[2:4], 16)\n",
    "            b = int(color[4:6], 16)\n",
    "            \n",
    "        elif len(color) == 3:\n",
    "            #tengo que multiplicar por dos el digito al convertirlo en un int\n",
    "            r = int(color[0]*2, 16)\n",
    "            g = int(color[1]*2, 16)\n",
    "            b = int(color[2]*2, 16)\n",
    "    \n",
    "    else:\n",
    "       #The keys are the names of preset colors in lower-case, por lo que convertimos el string que entra en lower case\n",
    "        color = color.lower()\n",
    "    \n",
    "        #Acceder al value a traves del key en el diccionario\n",
    "        if color in PRESET_COLORS:\n",
    "            color = PRESET_COLORS[color]\n",
    "            color = color[1:] \n",
    "            r = int(color[0:2], 16)\n",
    "            g = int(color[2:4], 16)\n",
    "            b = int(color[4:6], 16)\n",
    "                \n",
    "    return {'r': r, 'g': g, 'b': b}\n",
    "        "
   ]
  },
  {
   "cell_type": "code",
   "execution_count": 32,
   "id": "525e472d",
   "metadata": {},
   "outputs": [
    {
     "data": {
      "text/plain": [
       "128"
      ]
     },
     "execution_count": 32,
     "metadata": {},
     "output_type": "execute_result"
    }
   ],
   "source": [
    "color = '80FFA0'\n",
    "\n",
    "color2= color[0:2]\n",
    "color2\n",
    "\n",
    "r = int(color[0:2], 16)\n",
    "r"
   ]
  },
  {
   "cell_type": "code",
   "execution_count": 36,
   "id": "de7482c0",
   "metadata": {},
   "outputs": [
    {
     "data": {
      "text/plain": [
       "102"
      ]
     },
     "execution_count": 36,
     "metadata": {},
     "output_type": "execute_result"
    }
   ],
   "source": [
    "color = '678'\n",
    "\n",
    "r = int(color[0]*2, 16)\n",
    "r"
   ]
  },
  {
   "cell_type": "code",
   "execution_count": null,
   "id": "f7c56665",
   "metadata": {},
   "outputs": [],
   "source": []
  },
  {
   "cell_type": "code",
   "execution_count": 19,
   "id": "c860beef",
   "metadata": {},
   "outputs": [
    {
     "data": {
      "text/plain": [
       "{'r': '8', 'g': '4', 'b': '7'}"
      ]
     },
     "execution_count": 19,
     "metadata": {},
     "output_type": "execute_result"
    }
   ],
   "source": [
    "search_value_color(\"#847\")"
   ]
  },
  {
   "cell_type": "code",
   "execution_count": 4,
   "id": "1de26e38",
   "metadata": {},
   "outputs": [
    {
     "ename": "KeyError",
     "evalue": "'LimeGreen'",
     "output_type": "error",
     "traceback": [
      "\u001b[1;31m---------------------------------------------------------------------------\u001b[0m",
      "\u001b[1;31mKeyError\u001b[0m                                  Traceback (most recent call last)",
      "Cell \u001b[1;32mIn[4], line 1\u001b[0m\n\u001b[1;32m----> 1\u001b[0m \u001b[43mPRESET_COLORS\u001b[49m\u001b[43m[\u001b[49m\u001b[38;5;124;43m\"\u001b[39;49m\u001b[38;5;124;43mLimeGreen\u001b[39;49m\u001b[38;5;124;43m\"\u001b[39;49m\u001b[43m]\u001b[49m\n",
      "\u001b[1;31mKeyError\u001b[0m: 'LimeGreen'"
     ]
    }
   ],
   "source": [
    "PRESET_COLORS[\"LimeGreen\"]"
   ]
  },
  {
   "cell_type": "code",
   "execution_count": 5,
   "id": "9dae6234",
   "metadata": {},
   "outputs": [
    {
     "data": {
      "text/plain": [
       "'748GHDG'"
      ]
     },
     "execution_count": 5,
     "metadata": {},
     "output_type": "execute_result"
    }
   ],
   "source": [
    "data = \"#748GHDG\"\n",
    "data = data[1:]\n",
    "data"
   ]
  },
  {
   "cell_type": "code",
   "execution_count": 42,
   "id": "21f981ac",
   "metadata": {},
   "outputs": [
    {
     "data": {
      "text/plain": [
       "{'r': 128, 'g': 255, 'b': 160}"
      ]
     },
     "execution_count": 42,
     "metadata": {},
     "output_type": "execute_result"
    }
   ],
   "source": [
    "color = '#80FFA0'\n",
    "search_value_color(color)"
   ]
  },
  {
   "cell_type": "code",
   "execution_count": 43,
   "id": "37e2379e",
   "metadata": {},
   "outputs": [
    {
     "data": {
      "text/plain": [
       "{'r': 51, 'g': 187, 'b': 119}"
      ]
     },
     "execution_count": 43,
     "metadata": {},
     "output_type": "execute_result"
    }
   ],
   "source": [
    "color = '#3B7'\n",
    "search_value_color(color)"
   ]
  },
  {
   "cell_type": "code",
   "execution_count": 44,
   "id": "1c1f6098-25a1-4805-a249-b833ca4a66a0",
   "metadata": {},
   "outputs": [
    {
     "data": {
      "text/plain": [
       "{'r': 50, 'g': 205, 'b': 50}"
      ]
     },
     "execution_count": 44,
     "metadata": {},
     "output_type": "execute_result"
    }
   ],
   "source": [
    "color = 'LimeGreen'\n",
    "search_value_color(color)"
   ]
  },
  {
   "cell_type": "markdown",
   "id": "5e5948ae-bfb0-4aa7-8cc0-83970accb44a",
   "metadata": {},
   "source": [
    "## Copy your submited solution here:"
   ]
  },
  {
   "cell_type": "code",
   "execution_count": 45,
   "id": "de8f88a1-897b-4b92-8c9f-e04d16cec21a",
   "metadata": {},
   "outputs": [],
   "source": [
    "def search_value_color(color):\n",
    "    \n",
    "    #Primer diferencio entre el tipo de input, en este caso van a ser varibales hexadecimals\n",
    "    if color.startswith(\"#\"):\n",
    "        \n",
    "        #Al confirmar el tipo de variable me quedo únicamente con los números\n",
    "        color = color[1:]\n",
    "        \n",
    "        #Ahora necesito comprobar el length del input para saber el numero de digitos \n",
    "        if len(color) == 6:\n",
    "            r = int(color[0:2], 16)\n",
    "            g = int(color[2:4], 16)\n",
    "            b = int(color[4:6], 16)\n",
    "            \n",
    "        elif len(color) == 3:\n",
    "            #tengo que multiplicar por dos el digito al convertirlo en un int\n",
    "            r = int(color[0]*2, 16)\n",
    "            g = int(color[1]*2, 16)\n",
    "            b = int(color[2]*2, 16)\n",
    "    \n",
    "    else:\n",
    "       #The keys are the names of preset colors in lower-case, por lo que convertimos el string que entra en lower case\n",
    "        color = color.lower()\n",
    "    \n",
    "        #Acceder al value a traves del key en el diccionario\n",
    "        if color in PRESET_COLORS:\n",
    "            color = PRESET_COLORS[color]\n",
    "            color = color[1:] \n",
    "            r = int(color[0:2], 16)\n",
    "            g = int(color[2:4], 16)\n",
    "            b = int(color[4:6], 16)\n",
    "                \n",
    "    return {'r': r, 'g': g, 'b': b}"
   ]
  }
 ],
 "metadata": {
  "kernelspec": {
   "display_name": "Python [conda env:m1]",
   "language": "python",
   "name": "conda-env-m1-py"
  },
  "language_info": {
   "codemirror_mode": {
    "name": "ipython",
    "version": 3
   },
   "file_extension": ".py",
   "mimetype": "text/x-python",
   "name": "python",
   "nbconvert_exporter": "python",
   "pygments_lexer": "ipython3",
   "version": "3.10.14"
  }
 },
 "nbformat": 4,
 "nbformat_minor": 5
}
