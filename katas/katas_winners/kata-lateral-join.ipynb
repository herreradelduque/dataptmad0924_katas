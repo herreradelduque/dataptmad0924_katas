{
 "cells": [
  {
   "cell_type": "markdown",
   "id": "a447b8b5-f16b-451f-b45c-47746f721e1e",
   "metadata": {},
   "source": [
    "# Kata:"
   ]
  },
  {
   "cell_type": "markdown",
   "id": "c7379b61-1f04-4fa2-8865-bf3e2c83b39e",
   "metadata": {},
   "source": [
    "https://www.codewars.com/kata/5820176255c3d23f360000a9/train/sql"
   ]
  },
  {
   "cell_type": "markdown",
   "id": "5e2a4659-1d95-44fb-b92c-4646b4da4e6f",
   "metadata": {},
   "source": [
    "## Your name or team members:"
   ]
  },
  {
   "cell_type": "code",
   "execution_count": null,
   "id": "29ead553-d8b4-41aa-937f-7fd045595855",
   "metadata": {},
   "outputs": [],
   "source": [
    "jose luis gonzalez"
   ]
  },
  {
   "cell_type": "markdown",
   "id": "f04997cc-966d-4e06-8eb0-64ab376728f8",
   "metadata": {},
   "source": [
    "## Use the following cells to test your solution:"
   ]
  },
  {
   "cell_type": "code",
   "execution_count": null,
   "id": "4202edc5-f719-4068-96bd-55703a8a6c27",
   "metadata": {},
   "outputs": [],
   "source": [
    "#seleccionamos columnas :\n",
    "#c.id es el ID de la categoría, c.category es el nombre de la categoría, \n",
    "#p.title es el título de la publicación, p.views es el número de vistas de la publicación y \n",
    "#p.id es el ID de la publicación.\n",
    "SELECT                    \n",
    "    c.id AS category_id,    \n",
    "    c.category,\n",
    "    p.title,\n",
    "    p.views,\n",
    "    p.id AS post_id"
   ]
  },
  {
   "cell_type": "code",
   "execution_count": null,
   "id": "1c1f6098-25a1-4805-a249-b833ca4a66a0",
   "metadata": {},
   "outputs": [],
   "source": [
    "# hacemos el left join Aquí estamos uniendo la tabla categories con una subconsulta lateral \n",
    "#que selecciona las publicaciones de la tabla posts. La subconsulta lateral \n",
    "#se ejecuta para cada fila de la tabla categories\n",
    "\n",
    "FROM\n",
    "    categories c\n",
    "LEFT JOIN LATERAL (\n",
    "    SELECT             #seleccionamos de la tabla post el título, el número de vistas y el ID de las publicaciones\n",
    "        p.title,\n",
    "        p.views,\n",
    "        p.id\n",
    "    FROM\n",
    "        posts p\n",
    "    WHERE              #La condición WHERE p.category_id = c.id asegura que solo se seleccionen las publicaciones que pertenecen a la categoría actual (c.id)\n",
    "        p.category_id = c.id\n",
    "    ORDER BY           # Luego, ordenamos las publicaciones por el número de vistas en orden descendente (p.views DESC) y por el ID de la publicación en orden ascendente (p.id ASC). El LIMIT 2 asegura que solo se seleccionen las dos publicaciones más vistas.\n",
    "        p.views DESC,\n",
    "        p.id ASC\n",
    "    LIMIT 2\n",
    ") p ON true\n"
   ]
  },
  {
   "cell_type": "code",
   "execution_count": null,
   "id": "161390d6",
   "metadata": {},
   "outputs": [],
   "source": []
  },
  {
   "cell_type": "code",
   "execution_count": null,
   "id": "61e49352",
   "metadata": {},
   "outputs": [],
   "source": [
    "p ON true           #El LEFT JOIN LATERAL une la tabla categories con la subconsulta lateral. El ON true es una condición que siempre es verdadera, lo que permite que todas las filas de la tabla categories se incluyan en el resultado, incluso si no hay publicaciones correspondientes en la tabla posts.\n",
    "ORDER BY\n",
    "    c.category ASC, # Finalmente, ordenamos el resultado final por el nombre de la categoría en orden alfabético (c.category ASC), el número de vistas en orden descendente (p.views DESC) y el ID de la publicación en orden ascendente (p.id ASC).\n",
    "    p.views DESC,\n",
    "    p.id ASC;\n"
   ]
  },
  {
   "cell_type": "markdown",
   "id": "5e5948ae-bfb0-4aa7-8cc0-83970accb44a",
   "metadata": {},
   "source": [
    "## Copy your submited solution here:"
   ]
  },
  {
   "cell_type": "code",
   "execution_count": null,
   "id": "de8f88a1-897b-4b92-8c9f-e04d16cec21a",
   "metadata": {},
   "outputs": [],
   "source": [
    "SELECT\n",
    "    c.id AS category_id,\n",
    "    c.category,\n",
    "    p.title,\n",
    "    p.views,\n",
    "    p.id AS post_id\n",
    "FROM\n",
    "    categories c\n",
    "LEFT JOIN LATERAL (\n",
    "    SELECT\n",
    "        p.title,\n",
    "        p.views,\n",
    "        p.id\n",
    "    FROM\n",
    "        posts p\n",
    "    WHERE\n",
    "        p.category_id = c.id\n",
    "    ORDER BY\n",
    "        p.views DESC,\n",
    "        p.id ASC\n",
    "    LIMIT 2\n",
    ") p ON true\n",
    "ORDER BY\n",
    "    c.category ASC,\n",
    "    p.views DESC,\n",
    "    p.id ASC;\n"
   ]
  }
 ],
 "metadata": {
  "kernelspec": {
   "display_name": "Python 3 (ipykernel)",
   "language": "python",
   "name": "python3"
  },
  "language_info": {
   "codemirror_mode": {
    "name": "ipython",
    "version": 3
   },
   "file_extension": ".py",
   "mimetype": "text/x-python",
   "name": "python",
   "nbconvert_exporter": "python",
   "pygments_lexer": "ipython3",
   "version": "3.9.19"
  }
 },
 "nbformat": 4,
 "nbformat_minor": 5
}
