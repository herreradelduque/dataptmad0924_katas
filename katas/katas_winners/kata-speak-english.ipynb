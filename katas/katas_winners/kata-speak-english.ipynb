{
 "cells": [
  {
   "cell_type": "markdown",
   "id": "a447b8b5-f16b-451f-b45c-47746f721e1e",
   "metadata": {},
   "source": [
    "# Kata:"
   ]
  },
  {
   "cell_type": "markdown",
   "id": "c7379b61-1f04-4fa2-8865-bf3e2c83b39e",
   "metadata": {},
   "source": [
    "https://www.codewars.com/kata/58dbdccee5ee8fa2f9000058/train/python"
   ]
  },
  {
   "cell_type": "markdown",
   "id": "5e2a4659-1d95-44fb-b92c-4646b4da4e6f",
   "metadata": {},
   "source": [
    "## Your name or team members:"
   ]
  },
  {
   "cell_type": "code",
   "execution_count": 3,
   "id": "29ead553-d8b4-41aa-937f-7fd045595855",
   "metadata": {},
   "outputs": [
    {
     "data": {
      "text/plain": [
       "'Blanca'"
      ]
     },
     "execution_count": 3,
     "metadata": {},
     "output_type": "execute_result"
    }
   ],
   "source": [
    "\"Blanca\""
   ]
  },
  {
   "cell_type": "markdown",
   "id": "f04997cc-966d-4e06-8eb0-64ab376728f8",
   "metadata": {},
   "source": [
    "## Use the following cells to test your solution:"
   ]
  },
  {
   "cell_type": "code",
   "execution_count": 30,
   "id": "d93aa251",
   "metadata": {},
   "outputs": [
    {
     "name": "stdout",
     "output_type": "stream",
     "text": [
      "True\n",
      "False\n",
      "True\n"
     ]
    }
   ],
   "source": [
    "#Definición de la función\n",
    "def sp_eng(sentence): \n",
    "    sentence=sentence.lower()\n",
    "    \n",
    "    if \"english\" in sentence:\n",
    "        return True\n",
    "    else:\n",
    "        return False\n",
    "\n",
    "print(sp_eng(\"abcEnglishdef\"))  #Deberia ser True\n",
    "print(sp_eng(\"abcnEglishsef\"))  #Deberia ser False\n",
    "print(sp_eng(\"eNglisH\"))        #Deberia ser True"
   ]
  },
  {
   "cell_type": "code",
   "execution_count": 31,
   "id": "755ab0db",
   "metadata": {},
   "outputs": [
    {
     "name": "stdout",
     "output_type": "stream",
     "text": [
      "True\n",
      "False\n",
      "True\n",
      "False\n"
     ]
    }
   ],
   "source": [
    "#Definición de la función\n",
    "def sp_eng(sentence): \n",
    "    sentence=sentence.lower()\n",
    "    return \"english\" in sentence \n",
    "\n",
    "#Compruebo los ejemplos en el Katas\n",
    "print(sp_eng(\"abcEnglishdef\"))  #Deberia ser True\n",
    "print(sp_eng(\"abcnEglishsef\"))  #Deberia ser False\n",
    "print(sp_eng(\"eNglisH\"))        #Deberia ser True\n",
    "\n",
    "#Compruebo propio ejemplo\n",
    "print(sp_eng(\"abuedfgp\"))       #Deberia ser False"
   ]
  },
  {
   "cell_type": "code",
   "execution_count": 32,
   "id": "1c1f6098-25a1-4805-a249-b833ca4a66a0",
   "metadata": {},
   "outputs": [
    {
     "data": {
      "text/plain": [
       "'s.lower() para convertir la sentence'"
      ]
     },
     "execution_count": 32,
     "metadata": {},
     "output_type": "execute_result"
    }
   ],
   "source": [
    "#The order of characters is important\n",
    "\"\"\"contains \"english\" in sentence\n",
    "return english in sentence\"\"\"\n",
    "\n",
    "#Upper or lower case letter does not matter\n",
    "\"\"\"s.lower() para convertir la sentence\"\"\"\n",
    "\n"
   ]
  },
  {
   "cell_type": "code",
   "execution_count": null,
   "id": "73de7e79",
   "metadata": {},
   "outputs": [],
   "source": [
    "#Ejemplo de Victor en clase:"
   ]
  },
  {
   "cell_type": "code",
   "execution_count": 40,
   "id": "f3042289",
   "metadata": {},
   "outputs": [
    {
     "name": "stdout",
     "output_type": "stream",
     "text": [
      "True\n"
     ]
    }
   ],
   "source": [
    "def sp_eng(sentence): \n",
    "    if \"English\".lower() in sentence.lower():\n",
    "        return True\n",
    "    else:\n",
    "        return False\n",
    "    \n",
    "print(sp_eng(\"abcEnglishdef\"))"
   ]
  },
  {
   "cell_type": "code",
   "execution_count": 47,
   "id": "c9c29394",
   "metadata": {},
   "outputs": [
    {
     "name": "stdout",
     "output_type": "stream",
     "text": [
      "True\n"
     ]
    }
   ],
   "source": [
    "def sp_eng(sentence): \n",
    "    sentence=sentence.lower()\n",
    "    English=\"English\".lower()\n",
    "    \n",
    "    if English in sentence:\n",
    "        return True\n",
    "    else:\n",
    "        return False\n",
    "print(sp_eng(\"abcEnglishdef\"))"
   ]
  },
  {
   "cell_type": "markdown",
   "id": "5e5948ae-bfb0-4aa7-8cc0-83970accb44a",
   "metadata": {},
   "source": [
    "## Copy your submited solution here:"
   ]
  },
  {
   "cell_type": "code",
   "execution_count": 48,
   "id": "de8f88a1-897b-4b92-8c9f-e04d16cec21a",
   "metadata": {},
   "outputs": [],
   "source": [
    "def sp_eng(sentence): \n",
    "    sentence=sentence.lower()\n",
    "    \n",
    "    if \"english\" in sentence:\n",
    "        return True\n",
    "    else:\n",
    "        return False"
   ]
  },
  {
   "cell_type": "code",
   "execution_count": null,
   "id": "04662f27",
   "metadata": {},
   "outputs": [],
   "source": []
  }
 ],
 "metadata": {
  "kernelspec": {
   "display_name": "Python 3 (ipykernel)",
   "language": "python",
   "name": "python3"
  },
  "language_info": {
   "codemirror_mode": {
    "name": "ipython",
    "version": 3
   },
   "file_extension": ".py",
   "mimetype": "text/x-python",
   "name": "python",
   "nbconvert_exporter": "python",
   "pygments_lexer": "ipython3",
   "version": "3.9.19"
  }
 },
 "nbformat": 4,
 "nbformat_minor": 5
}
