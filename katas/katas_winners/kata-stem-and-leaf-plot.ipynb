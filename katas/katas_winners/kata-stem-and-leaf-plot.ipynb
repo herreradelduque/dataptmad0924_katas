{
 "cells": [
  {
   "cell_type": "markdown",
   "id": "a447b8b5-f16b-451f-b45c-47746f721e1e",
   "metadata": {},
   "source": [
    "# Kata:"
   ]
  },
  {
   "cell_type": "markdown",
   "id": "c7379b61-1f04-4fa2-8865-bf3e2c83b39e",
   "metadata": {},
   "source": [
    "https://www.codewars.com/kata/5cc80fbe701f0d001136e5eb/train/python"
   ]
  },
  {
   "cell_type": "markdown",
   "id": "5e2a4659-1d95-44fb-b92c-4646b4da4e6f",
   "metadata": {},
   "source": [
    "## Your name or team members:"
   ]
  },
  {
   "cell_type": "code",
   "execution_count": null,
   "id": "29ead553-d8b4-41aa-937f-7fd045595855",
   "metadata": {},
   "outputs": [],
   "source": [
    "Kristina"
   ]
  },
  {
   "cell_type": "markdown",
   "id": "f04997cc-966d-4e06-8eb0-64ab376728f8",
   "metadata": {},
   "source": [
    "## Use the following cells to test your solution:"
   ]
  },
  {
   "cell_type": "code",
   "execution_count": 11,
   "id": "4202edc5-f719-4068-96bd-55703a8a6c27",
   "metadata": {},
   "outputs": [],
   "source": [
    "#example\n",
    "my_list = [11, 35, 14, 9, 39, 23, 35]\n",
    "#output\n",
    "# {0: [9], 1: [1, 4], 2: [3], 3: [5, 5, 9]}"
   ]
  },
  {
   "cell_type": "code",
   "execution_count": 46,
   "id": "1c1f6098-25a1-4805-a249-b833ca4a66a0",
   "metadata": {},
   "outputs": [
    {
     "name": "stdout",
     "output_type": "stream",
     "text": [
      "{0: [9], 1: [1, 4], 2: [3], 3: [5, 5, 9]}\n"
     ]
    }
   ],
   "source": [
    "my_dict = {}\n",
    "for i in my_list:\n",
    "    if len(str(i)) == 1:\n",
    "        my_dict[0] = [i]\n",
    "    else:\n",
    "        i_str = str(i)\n",
    "        i_str_digits = []\n",
    "        for ch in i_str:\n",
    "            i_str_digits.append(int(ch))\n",
    "        i_str_digits\n",
    "        steam = i_str_digits[0]\n",
    "        leaf = i_str_digits[1]\n",
    "        if steam in my_dict.keys():\n",
    "            my_dict[steam].append(leaf)\n",
    "        else:\n",
    "            my_dict[steam] = [leaf]\n",
    "myKeys = list(my_dict.keys())\n",
    "myKeys.sort()\n",
    "sorted_dict = {k: my_dict[k] for k in myKeys}\n",
    "for key in sd:\n",
    "    sorted_dict[key].sort()\n",
    "print(sorted_dict)"
   ]
  },
  {
   "cell_type": "code",
   "execution_count": null,
   "id": "58c15e80",
   "metadata": {},
   "outputs": [],
   "source": []
  },
  {
   "cell_type": "code",
   "execution_count": 47,
   "id": "e5e975c1",
   "metadata": {},
   "outputs": [
    {
     "name": "stdout",
     "output_type": "stream",
     "text": [
      "{0: [9], 1: [1, 4], 2: [3], 3: [5, 5, 9]}\n"
     ]
    }
   ],
   "source": [
    "# now we need to order the keys and the values\n",
    "myKeys = list(my_dict.keys())\n",
    "myKeys.sort()\n",
    "sd = {i: my_dict[i] for i in myKeys}\n",
    "print(sd)"
   ]
  },
  {
   "cell_type": "code",
   "execution_count": 50,
   "id": "449ff0f0",
   "metadata": {},
   "outputs": [],
   "source": [
    "def stem_and_leaf(data):\n",
    "    my_dict = {}\n",
    "    for i in data:\n",
    "        if len(str(i)) == 1:\n",
    "            my_dict[0] = [i]\n",
    "        else:\n",
    "            i_str = str(i)\n",
    "            i_str_digits = []\n",
    "            for ch in i_str:\n",
    "                i_str_digits.append(int(ch))\n",
    "            i_str_digits\n",
    "            steam = i_str_digits[0]\n",
    "            leaf = i_str_digits[1]\n",
    "            if steam in my_dict.keys():\n",
    "                my_dict[steam].append(leaf)\n",
    "            else:\n",
    "                my_dict[steam] = [leaf]\n",
    "    myKeys = list(my_dict.keys())\n",
    "    myKeys.sort()\n",
    "    sorted_dict = {k: my_dict[k] for k in myKeys}\n",
    "    for key in sorted_dict:\n",
    "        sorted_dict[key].sort()\n",
    "    return sorted_dict"
   ]
  },
  {
   "cell_type": "code",
   "execution_count": 51,
   "id": "95e7b2b9",
   "metadata": {},
   "outputs": [
    {
     "data": {
      "text/plain": [
       "{0: [9], 1: [1, 4], 2: [3], 3: [5, 5, 9]}"
      ]
     },
     "execution_count": 51,
     "metadata": {},
     "output_type": "execute_result"
    }
   ],
   "source": [
    "stem_and_leaf(my_list)"
   ]
  },
  {
   "cell_type": "code",
   "execution_count": null,
   "id": "190400be",
   "metadata": {},
   "outputs": [],
   "source": [
    "# this doesn't work properly with 1-digit numbers"
   ]
  },
  {
   "cell_type": "code",
   "execution_count": 54,
   "id": "726bfbc1",
   "metadata": {},
   "outputs": [],
   "source": [
    "def stem_and_leaf(data):\n",
    "    my_dict = {}\n",
    "    for i in data:\n",
    "        if len(str(i)) == 1:\n",
    "            if 0 in my_dict.keys():\n",
    "                my_dict[0].append(i)\n",
    "            else:\n",
    "                my_dict[0] = [i]\n",
    "        else:\n",
    "            i_str = str(i)\n",
    "            i_str_digits = []\n",
    "            for ch in i_str:\n",
    "                i_str_digits.append(int(ch))\n",
    "            i_str_digits\n",
    "            steam = i_str_digits[0]\n",
    "            leaf = i_str_digits[1]\n",
    "            if steam in my_dict.keys():\n",
    "                my_dict[steam].append(leaf)\n",
    "            else:\n",
    "                my_dict[steam] = [leaf]\n",
    "    myKeys = list(my_dict.keys())\n",
    "    myKeys.sort()\n",
    "    sorted_dict = {k: my_dict[k] for k in myKeys}\n",
    "    for key in sorted_dict:\n",
    "        sorted_dict[key].sort()\n",
    "    return sorted_dict"
   ]
  },
  {
   "cell_type": "code",
   "execution_count": 53,
   "id": "51b6d76f",
   "metadata": {},
   "outputs": [
    {
     "ename": "NameError",
     "evalue": "name 'sorted_dictf' is not defined",
     "output_type": "error",
     "traceback": [
      "\u001b[1;31m---------------------------------------------------------------------------\u001b[0m",
      "\u001b[1;31mNameError\u001b[0m                                 Traceback (most recent call last)",
      "Cell \u001b[1;32mIn[53], line 1\u001b[0m\n\u001b[1;32m----> 1\u001b[0m \u001b[43mstem_and_leaf\u001b[49m\u001b[43m(\u001b[49m\u001b[43mmy_list\u001b[49m\u001b[43m)\u001b[49m\n",
      "Cell \u001b[1;32mIn[52], line 26\u001b[0m, in \u001b[0;36mstem_and_leaf\u001b[1;34m(data)\u001b[0m\n\u001b[0;32m     24\u001b[0m \u001b[38;5;28;01mfor\u001b[39;00m key \u001b[38;5;129;01min\u001b[39;00m sorted_dict:\n\u001b[0;32m     25\u001b[0m     sorted_dict[key]\u001b[38;5;241m.\u001b[39msort()\n\u001b[1;32m---> 26\u001b[0m \u001b[38;5;28;01mreturn\u001b[39;00m \u001b[43msorted_dictf\u001b[49m\n",
      "\u001b[1;31mNameError\u001b[0m: name 'sorted_dictf' is not defined"
     ]
    }
   ],
   "source": [
    "stem_and_leaf(my_list)"
   ]
  },
  {
   "cell_type": "markdown",
   "id": "5e5948ae-bfb0-4aa7-8cc0-83970accb44a",
   "metadata": {},
   "source": [
    "## Copy your submited solution here:"
   ]
  },
  {
   "cell_type": "code",
   "execution_count": 55,
   "id": "644c724d",
   "metadata": {},
   "outputs": [],
   "source": [
    "def stem_and_leaf(data):\n",
    "    my_dict = {}\n",
    "    for i in data:\n",
    "        if len(str(i)) == 1:\n",
    "            if 0 in my_dict.keys():\n",
    "                my_dict[0].append(i)\n",
    "            else:\n",
    "                my_dict[0] = [i]\n",
    "        else:\n",
    "            i_str = str(i)\n",
    "            i_str_digits = []\n",
    "            for ch in i_str:\n",
    "                i_str_digits.append(int(ch))\n",
    "            i_str_digits\n",
    "            steam = i_str_digits[0]\n",
    "            leaf = i_str_digits[1]\n",
    "            if steam in my_dict.keys():\n",
    "                my_dict[steam].append(leaf)\n",
    "            else:\n",
    "                my_dict[steam] = [leaf]\n",
    "    myKeys = list(my_dict.keys())\n",
    "    myKeys.sort()\n",
    "    sorted_dict = {k: my_dict[k] for k in myKeys}\n",
    "    for key in sorted_dict:\n",
    "        sorted_dict[key].sort()\n",
    "    return sorted_dict"
   ]
  },
  {
   "cell_type": "code",
   "execution_count": null,
   "id": "de8f88a1-897b-4b92-8c9f-e04d16cec21a",
   "metadata": {},
   "outputs": [],
   "source": []
  }
 ],
 "metadata": {
  "kernelspec": {
   "display_name": "Python 3 (ipykernel)",
   "language": "python",
   "name": "python3"
  },
  "language_info": {
   "codemirror_mode": {
    "name": "ipython",
    "version": 3
   },
   "file_extension": ".py",
   "mimetype": "text/x-python",
   "name": "python",
   "nbconvert_exporter": "python",
   "pygments_lexer": "ipython3",
   "version": "3.10.14"
  }
 },
 "nbformat": 4,
 "nbformat_minor": 5
}
