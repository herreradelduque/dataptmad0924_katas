{
 "cells": [
  {
   "cell_type": "markdown",
   "id": "a447b8b5-f16b-451f-b45c-47746f721e1e",
   "metadata": {},
   "source": [
    "# Kata:"
   ]
  },
  {
   "cell_type": "markdown",
   "id": "c7379b61-1f04-4fa2-8865-bf3e2c83b39e",
   "metadata": {},
   "source": [
    "https://www.codewars.com/kata/5cc80fbe701f0d001136e5eb/train/python"
   ]
  },
  {
   "cell_type": "markdown",
   "id": "5e2a4659-1d95-44fb-b92c-4646b4da4e6f",
   "metadata": {},
   "source": [
    "## Your name or team members:"
   ]
  },
  {
   "cell_type": "code",
   "execution_count": null,
   "id": "29ead553-d8b4-41aa-937f-7fd045595855",
   "metadata": {},
   "outputs": [],
   "source": [
    "Paul Correa Flores"
   ]
  },
  {
   "cell_type": "markdown",
   "id": "f04997cc-966d-4e06-8eb0-64ab376728f8",
   "metadata": {},
   "source": [
    "## Use the following cells to test your solution:"
   ]
  },
  {
   "cell_type": "code",
   "execution_count": 8,
   "id": "4202edc5-f719-4068-96bd-55703a8a6c27",
   "metadata": {},
   "outputs": [
    {
     "ename": "TypeError",
     "evalue": "unhashable type: 'dict'",
     "output_type": "error",
     "traceback": [
      "\u001b[1;31m---------------------------------------------------------------------------\u001b[0m",
      "\u001b[1;31mTypeError\u001b[0m                                 Traceback (most recent call last)",
      "Cell \u001b[1;32mIn[8], line 2\u001b[0m\n\u001b[0;32m      1\u001b[0m \u001b[38;5;66;03m# Crear un diccionario para almacenar los tallos y hojas\u001b[39;00m\n\u001b[1;32m----> 2\u001b[0m tallos_hojas \u001b[38;5;241m=\u001b[39m {{\u001b[38;5;241m0\u001b[39m: [\u001b[38;5;241m9\u001b[39m], \u001b[38;5;241m1\u001b[39m: [\u001b[38;5;241m1\u001b[39m, \u001b[38;5;241m4\u001b[39m], \u001b[38;5;241m2\u001b[39m: [\u001b[38;5;241m3\u001b[39m], \u001b[38;5;241m3\u001b[39m: [\u001b[38;5;241m5\u001b[39m, \u001b[38;5;241m5\u001b[39m, \u001b[38;5;241m9\u001b[39m]}}\n\u001b[0;32m      4\u001b[0m    \u001b[38;5;66;03m# Recorrer los datos y crear el diagrama\u001b[39;00m\n\u001b[0;32m      5\u001b[0m \u001b[38;5;28;01mfor\u001b[39;00m dato \u001b[38;5;129;01min\u001b[39;00m datos:\n",
      "\u001b[1;31mTypeError\u001b[0m: unhashable type: 'dict'"
     ]
    }
   ],
   "source": [
    " # Crear un diccionario para almacenar los tallos y hojas\n",
    "tallos_hojas = {{0: [9], 1: [1, 4], 2: [3], 3: [5, 5, 9]}}\n",
    "\n",
    "    # Recorrer los datos y crear el diagrama\n",
    "for dato in datos:\n",
    "        tallos_hojas = keys(dato)[0]  # Obtener el primer dígito como tallo\n",
    "        tallos_hojas = str(dato)[1:]  # Obtener el resto de los dígitos como hoja\n",
    "\n",
    "        # Agregar la hoja al tallo correspondiente\n",
    "        if tallo in tallos_hojas:\n",
    "            tallos_hojas[tallo].append(hoja)\n",
    "        else:\n",
    "            tallos_hojas[tallo] = [hoja]\n",
    "\n",
    "    # Imprimir el diagrama\n",
    "for tallo, hojas in tallos_hojas.items():\n",
    "        print(f\"{tallo} | {', '.join(hojas)}\")"
   ]
  },
  {
   "cell_type": "code",
   "execution_count": 15,
   "id": "1c1f6098-25a1-4805-a249-b833ca4a66a0",
   "metadata": {},
   "outputs": [],
   "source": [
    "def lista_a_diccionario(tallos_hojas):\n",
    "    tallos_hojas = {{0: [9], 1: [1, 4], 2: [3], 3: [5, 5, 9]}}\n",
    "    diccionario={}\n",
    "    for i, numero in enumerate(tallos_hojas):\n",
    "        diccionario[f\"número_{i}\"] = numero\n",
    "    return diccionario\n"
   ]
  },
  {
   "cell_type": "code",
   "execution_count": 18,
   "id": "f7b6f8c4-fdfa-49fb-a79d-e2d84b30e459",
   "metadata": {},
   "outputs": [],
   "source": [
    "def stem_and_ldef(tallos_hojas):\n",
    "    tallos_hojas = {{0: [9], 1: [1, 4], 2: [3], 3: [5, 5, 9]}}\n",
    "    for i in range(len(tallos_hojas)):\n",
    "        direccion=ast.literal_eval(tallos_hojas[value][i])   \n",
    "        latitude=direccion[1]\n",
    "        longitude=direccion[0]\n",
    "        \n",
    "        return i\n",
    "        \n",
    "        "
   ]
  },
  {
   "cell_type": "code",
   "execution_count": 38,
   "id": "5efe9f83-c072-4fa1-b8d2-7ecb30e29b14",
   "metadata": {},
   "outputs": [
    {
     "ename": "IndentationError",
     "evalue": "expected an indented block after 'for' statement on line 3 (3778872234.py, line 4)",
     "output_type": "error",
     "traceback": [
      "\u001b[1;36m  Cell \u001b[1;32mIn[38], line 4\u001b[1;36m\u001b[0m\n\u001b[1;33m    print(f\"{clave}: {valor[:]}\")\u001b[0m\n\u001b[1;37m    ^\u001b[0m\n\u001b[1;31mIndentationError\u001b[0m\u001b[1;31m:\u001b[0m expected an indented block after 'for' statement on line 3\n"
     ]
    }
   ],
   "source": [
    "def stem_and_ldef (diccionario):\n",
    "    diccionario = {0: [9], 1: [1, 4], 2: [3], 3: [5, 5, 9]}\n",
    "    for clave, valor in diccionario.items():\n",
    "    print(f\"{clave}: {valor[:]}\") \n"
   ]
  },
  {
   "cell_type": "code",
   "execution_count": 19,
   "id": "7d81666d-6a03-41ba-88ff-25ad194bc215",
   "metadata": {},
   "outputs": [
    {
     "name": "stdout",
     "output_type": "stream",
     "text": [
      "[1, 2, 3]\n"
     ]
    }
   ],
   "source": [
    "diccionario = {'clave1': [1, 2, 3], 'clave2': [4, 5, 6]}\n",
    "valor = diccionario['clave1'][:]  # Accede al primer elemento de la lista\n",
    "print(valor)  # Imprime 1"
   ]
  },
  {
   "cell_type": "code",
   "execution_count": null,
   "id": "2d3419d9-7576-448f-89bd-0ac542b9a54a",
   "metadata": {},
   "outputs": [],
   "source": [
    "def merge_clean(df_bicim,df_centrosd):\n",
    "    df_bicim=pd.DataFrame(columns=[\"name\",\"address\",\"long_start\",\"lat_start\"]) \n",
    "    for i in range(len(df_bicimad[\"address\"])):\n",
    "        lugar=df_bicimad[\"address\"][i]\n",
    "        name=df_bicimad[\"name\"][i]\n",
    "        direccion=ast.literal_eval(df_bicimad[\"geometry.coordinates\"][i])   \n",
    "        latitude=direccion[1]\n",
    "        longitude=direccion[0]\n",
    "        df_bicim.loc[i,\"address\"]=lugar\n",
    "        df_bicim.loc[i,\"long_start\"]=longitude\n",
    "        df_bicim.loc[i,\"lat_start\"]=latitude\n",
    "        df_bicim.loc[i,\"name\"]=name\n",
    "    df_bicim[\"id\"]=1"
   ]
  },
  {
   "cell_type": "markdown",
   "id": "5e5948ae-bfb0-4aa7-8cc0-83970accb44a",
   "metadata": {},
   "source": [
    "## Copy your submited solution here:"
   ]
  },
  {
   "cell_type": "code",
   "execution_count": null,
   "id": "de8f88a1-897b-4b92-8c9f-e04d16cec21a",
   "metadata": {},
   "outputs": [],
   "source": []
  }
 ],
 "metadata": {
  "kernelspec": {
   "display_name": "Python 3 (ipykernel)",
   "language": "python",
   "name": "python3"
  },
  "language_info": {
   "codemirror_mode": {
    "name": "ipython",
    "version": 3
   },
   "file_extension": ".py",
   "mimetype": "text/x-python",
   "name": "python",
   "nbconvert_exporter": "python",
   "pygments_lexer": "ipython3",
   "version": "3.12.5"
  }
 },
 "nbformat": 4,
 "nbformat_minor": 5
}
