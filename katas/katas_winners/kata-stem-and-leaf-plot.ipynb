{
 "cells": [
  {
   "cell_type": "markdown",
   "id": "a447b8b5-f16b-451f-b45c-47746f721e1e",
   "metadata": {},
   "source": [
    "# Kata:"
   ]
  },
  {
   "cell_type": "markdown",
   "id": "c7379b61-1f04-4fa2-8865-bf3e2c83b39e",
   "metadata": {},
   "source": [
    "https://www.codewars.com/kata/5cc80fbe701f0d001136e5eb/train/python"
   ]
  },
  {
   "cell_type": "markdown",
   "id": "5e2a4659-1d95-44fb-b92c-4646b4da4e6f",
   "metadata": {},
   "source": [
    "## Your name or team members:"
   ]
  },
  {
   "cell_type": "code",
   "execution_count": null,
   "id": "29ead553-d8b4-41aa-937f-7fd045595855",
   "metadata": {},
   "outputs": [],
   "source": [
    "Paul Correa"
   ]
  },
  {
   "cell_type": "markdown",
   "id": "f04997cc-966d-4e06-8eb0-64ab376728f8",
   "metadata": {},
   "source": [
    "## Use the following cells to test your solution:"
   ]
  },
  {
   "cell_type": "code",
   "execution_count": 1,
   "id": "4202edc5-f719-4068-96bd-55703a8a6c27",
   "metadata": {},
   "outputs": [
    {
     "name": "stdout",
     "output_type": "stream",
     "text": [
      "{1: [1, 4], 3: [5, 5, 9], 0: [9], 2: [3]}\n"
     ]
    }
   ],
   "source": [
    "\n",
    "data = [11, 35, 14, 9, 39, 23, 35]\n",
    "def stem_and_leaf(data):\n",
    "   \n",
    "    # Creamos un diccionario vacío para almacenar los tallos y las hojas\n",
    "    stem_leaf_dict = {}\n",
    "\n",
    "    # Recorremos cada número en el conjunto de datos\n",
    "    for num in data:\n",
    "        # Calculamos el tallo y la hoja\n",
    "        stem = num // 10\n",
    "        leaf = num % 10\n",
    "\n",
    "        # Si el tallo no está en el diccionario, lo agregamos\n",
    "        if stem not in stem_leaf_dict:\n",
    "            stem_leaf_dict[stem] = []\n",
    "\n",
    "        # Agregamos la hoja al tallo correspondiente\n",
    "        stem_leaf_dict[stem].append(leaf)\n",
    "\n",
    "    # Ordenamos las hojas para cada tallo\n",
    "    for stem in stem_leaf_dict:\n",
    "        stem_leaf_dict[stem].sort()\n",
    "\n",
    "    return stem_leaf_dict\n",
    "    "
   ]
  },
  {
   "cell_type": "code",
   "execution_count": 3,
   "id": "1c1f6098-25a1-4805-a249-b833ca4a66a0",
   "metadata": {},
   "outputs": [
    {
     "name": "stdout",
     "output_type": "stream",
     "text": [
      "{1: [1, 4], 3: [5, 5, 9], 0: [9], 2: [3]}\n"
     ]
    }
   ],
   "source": [
    "print(stem_and_leaf(data))"
   ]
  },
  {
   "cell_type": "markdown",
   "id": "5e5948ae-bfb0-4aa7-8cc0-83970accb44a",
   "metadata": {},
   "source": [
    "## Copy your submited solution here:"
   ]
  },
  {
   "cell_type": "code",
   "execution_count": 2,
   "id": "de8f88a1-897b-4b92-8c9f-e04d16cec21a",
   "metadata": {},
   "outputs": [
    {
     "name": "stdout",
     "output_type": "stream",
     "text": [
      "{1: [1, 4], 3: [5, 5, 9], 0: [9], 2: [3]}\n"
     ]
    }
   ],
   "source": [
    "data = [11, 35, 14, 9, 39, 23, 35]\n",
    "def stem_and_leaf(data):\n",
    "\n",
    "    stem_leaf_dict = {}\n",
    "\n",
    "    for num in data:\n",
    "        stem = num // 10\n",
    "        leaf = num % 10\n",
    "\n",
    "        if stem not in stem_leaf_dict:\n",
    "            stem_leaf_dict[stem] = []\n",
    "\n",
    "        stem_leaf_dict[stem].append(leaf)\n",
    "\n",
    "    for stem in stem_leaf_dict:\n",
    "        stem_leaf_dict[stem].sort()\n",
    "\n",
    "    return stem_leaf_dict\n",
    "\n",
    "print(stem_and_leaf(data))"
   ]
  }
 ],
 "metadata": {
  "kernelspec": {
   "display_name": "Python 3 (ipykernel)",
   "language": "python",
   "name": "python3"
  },
  "language_info": {
   "codemirror_mode": {
    "name": "ipython",
    "version": 3
   },
   "file_extension": ".py",
   "mimetype": "text/x-python",
   "name": "python",
   "nbconvert_exporter": "python",
   "pygments_lexer": "ipython3",
   "version": "3.12.5"
  }
 },
 "nbformat": 4,
 "nbformat_minor": 5
}
