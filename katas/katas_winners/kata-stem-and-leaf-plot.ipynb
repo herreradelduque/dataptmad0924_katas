{
 "cells": [
  {
   "cell_type": "markdown",
   "id": "a447b8b5-f16b-451f-b45c-47746f721e1e",
   "metadata": {},
   "source": [
    "# Kata:"
   ]
  },
  {
   "cell_type": "markdown",
   "id": "c7379b61-1f04-4fa2-8865-bf3e2c83b39e",
   "metadata": {},
   "source": [
    "https://www.codewars.com/kata/5cc80fbe701f0d001136e5eb/train/python"
   ]
  },
  {
   "cell_type": "markdown",
   "id": "5e2a4659-1d95-44fb-b92c-4646b4da4e6f",
   "metadata": {},
   "source": [
    "## Your name or team members:"
   ]
  },
  {
   "cell_type": "code",
   "execution_count": null,
   "id": "29ead553-d8b4-41aa-937f-7fd045595855",
   "metadata": {},
   "outputs": [],
   "source": [
    "Blanca de la Vega"
   ]
  },
  {
   "cell_type": "markdown",
   "id": "f04997cc-966d-4e06-8eb0-64ab376728f8",
   "metadata": {},
   "source": [
    "## Use the following cells to test your solution:"
   ]
  },
  {
   "cell_type": "code",
   "execution_count": null,
   "id": "4202edc5-f719-4068-96bd-55703a8a6c27",
   "metadata": {},
   "outputs": [],
   "source": [
    "#data = [11, 35, 14, 9, 39, 23, 35]\n",
    "#output = {0: [9], 1: [1, 4], 2: [3], 3: [5, 5, 9]}"
   ]
  },
  {
   "cell_type": "code",
   "execution_count": null,
   "id": "edb2843b",
   "metadata": {},
   "outputs": [],
   "source": [
    "#Solucion de victor\n",
    "\n",
    "'''\n",
    "dict vacio\n",
    "for num in my list:\n",
    "    stem = num // 10\n",
    "    leave = num % 10\n",
    "\n",
    "if steam not in dict:\n",
    "    result[stem] = leaf\n",
    "'''"
   ]
  },
  {
   "cell_type": "code",
   "execution_count": 126,
   "id": "cab70e32",
   "metadata": {},
   "outputs": [],
   "source": [
    "def stem_and_leaf(data):\n",
    "    \n",
    "    dict = {}   #Key=Stem #Value=Leaf\n",
    "    \n",
    "    for number in data:\n",
    "        \n",
    "        if number < 10:\n",
    "            stem = 0\n",
    "            leaf = number\n",
    "        \n",
    "        else:\n",
    "            number = str(number)\n",
    "            stem = int(number[0])\n",
    "            leaf = int(number[1])\n",
    "   \n",
    "        if stem not in dict:\n",
    "            dict[stem] = []\n",
    "            dict[stem].append(leaf)\n",
    "            \n",
    "    \n",
    "    return dict"
   ]
  },
  {
   "cell_type": "code",
   "execution_count": 17,
   "id": "b3dc2fcd",
   "metadata": {},
   "outputs": [
    {
     "data": {
      "text/plain": [
       "'4'"
      ]
     },
     "execution_count": 17,
     "metadata": {},
     "output_type": "execute_result"
    }
   ],
   "source": [
    "list = [4, 57, 89, 4]\n",
    "\n",
    "numero1 = str(list[0])\n",
    "numero2 = str(list[1])\n",
    "\n",
    "numero1"
   ]
  },
  {
   "cell_type": "code",
   "execution_count": 43,
   "id": "c5af54b5",
   "metadata": {},
   "outputs": [
    {
     "data": {
      "text/plain": [
       "{4: 5}"
      ]
     },
     "execution_count": 43,
     "metadata": {},
     "output_type": "execute_result"
    }
   ],
   "source": [
    "num = 45\n",
    "\n",
    "dict = {stem:leaf}\n",
    "\n",
    "num_str = str(num)\n",
    "\n",
    "stem = int(num_str[0])\n",
    "leaf = int(num_str[1])\n",
    "\n",
    "dict"
   ]
  },
  {
   "cell_type": "code",
   "execution_count": 127,
   "id": "ebc4b076",
   "metadata": {},
   "outputs": [
    {
     "data": {
      "text/plain": [
       "{1: [1], 3: [5], 0: [9], 2: [3]}"
      ]
     },
     "execution_count": 127,
     "metadata": {},
     "output_type": "execute_result"
    }
   ],
   "source": [
    "data = [11, 35, 14, 9, 39, 23, 35]\n",
    "stem_and_leaf(data)"
   ]
  },
  {
   "cell_type": "code",
   "execution_count": 116,
   "id": "0abdc0bd",
   "metadata": {},
   "outputs": [
    {
     "ename": "AttributeError",
     "evalue": "'int' object has no attribute 'append'",
     "output_type": "error",
     "traceback": [
      "\u001b[1;31m---------------------------------------------------------------------------\u001b[0m",
      "\u001b[1;31mAttributeError\u001b[0m                            Traceback (most recent call last)",
      "Cell \u001b[1;32mIn[116], line 1\u001b[0m\n\u001b[1;32m----> 1\u001b[0m \u001b[43mstem_and_leaf\u001b[49m\u001b[43m(\u001b[49m\u001b[43mdata\u001b[49m\u001b[43m)\u001b[49m\n",
      "Cell \u001b[1;32mIn[114], line 19\u001b[0m, in \u001b[0;36mstem_and_leaf\u001b[1;34m(data)\u001b[0m\n\u001b[0;32m     17\u001b[0m         \u001b[38;5;28mdict\u001b[39m[stem] \u001b[38;5;241m=\u001b[39m leaf\n\u001b[0;32m     18\u001b[0m     \u001b[38;5;28;01melse\u001b[39;00m:\n\u001b[1;32m---> 19\u001b[0m         \u001b[38;5;28;43mdict\u001b[39;49m\u001b[43m[\u001b[49m\u001b[43mstem\u001b[49m\u001b[43m]\u001b[49m\u001b[38;5;241;43m.\u001b[39;49m\u001b[43mappend\u001b[49m(leaf)\n\u001b[0;32m     21\u001b[0m \u001b[38;5;28;01mreturn\u001b[39;00m \u001b[38;5;28mdict\u001b[39m\n",
      "\u001b[1;31mAttributeError\u001b[0m: 'int' object has no attribute 'append'"
     ]
    }
   ],
   "source": [
    "stem_and_leaf(data)"
   ]
  },
  {
   "cell_type": "markdown",
   "id": "5e5948ae-bfb0-4aa7-8cc0-83970accb44a",
   "metadata": {},
   "source": [
    "## Copy your submited solution here:"
   ]
  },
  {
   "cell_type": "code",
   "execution_count": 8,
   "id": "4eeabf5e",
   "metadata": {},
   "outputs": [],
   "source": [
    "data = [3,5,6]"
   ]
  },
  {
   "cell_type": "code",
   "execution_count": 11,
   "id": "de8f88a1-897b-4b92-8c9f-e04d16cec21a",
   "metadata": {},
   "outputs": [
    {
     "name": "stdout",
     "output_type": "stream",
     "text": [
      "{}\n",
      "{}\n",
      "{}\n",
      "ok\n"
     ]
    }
   ],
   "source": [
    "stem_and_leaf(data)"
   ]
  }
 ],
 "metadata": {
  "kernelspec": {
   "display_name": "Python 3 (ipykernel)",
   "language": "python",
   "name": "python3"
  },
  "language_info": {
   "codemirror_mode": {
    "name": "ipython",
    "version": 3
   },
   "file_extension": ".py",
   "mimetype": "text/x-python",
   "name": "python",
   "nbconvert_exporter": "python",
   "pygments_lexer": "ipython3",
   "version": "3.9.20"
  }
 },
 "nbformat": 4,
 "nbformat_minor": 5
}
