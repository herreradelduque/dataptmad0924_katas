{
 "cells": [
  {
   "cell_type": "markdown",
   "id": "a447b8b5-f16b-451f-b45c-47746f721e1e",
   "metadata": {},
   "source": [
    "# Kata:"
   ]
  },
  {
   "cell_type": "markdown",
   "id": "c7379b61-1f04-4fa2-8865-bf3e2c83b39e",
   "metadata": {},
   "source": [
    "https://www.codewars.com/kata/5cc80fbe701f0d001136e5eb/train/python"
   ]
  },
  {
   "cell_type": "markdown",
   "id": "5e2a4659-1d95-44fb-b92c-4646b4da4e6f",
   "metadata": {},
   "source": [
    "## Your name or team members:"
   ]
  },
  {
   "cell_type": "markdown",
   "id": "016adf18-80d7-4c8e-9307-8c27b42ecb48",
   "metadata": {},
   "source": [
    "## Martín González"
   ]
  },
  {
   "cell_type": "markdown",
   "id": "f04997cc-966d-4e06-8eb0-64ab376728f8",
   "metadata": {},
   "source": [
    "## Use the following cells to test your solution:"
   ]
  },
  {
   "cell_type": "code",
   "execution_count": 6,
   "id": "1c1f6098-25a1-4805-a249-b833ca4a66a0",
   "metadata": {},
   "outputs": [],
   "source": [
    "# Input: list of integers from 1 to 99\n",
    "    # Output: dict: key:integer, value:list\n",
    "    # En la posicion 0 del dict pilla los valores que tienen solo 1 cifra y los mete en el valor\n",
    "    # En la posicion 1 del dict pilla los valores de 2 cifras cuya primera cifra es '1'\n",
    "    # En la posicion 2 del dict pilla los valores de 2 cifras cuya primera cifra es '2'\n",
    "    # En la posicion 2 del dict pilla los valores de 2 cifras cuya primera cifra es '3'"
   ]
  },
  {
   "cell_type": "code",
   "execution_count": 7,
   "id": "5888059f-6559-4a8d-b231-53e815007194",
   "metadata": {},
   "outputs": [
    {
     "data": {
      "text/plain": [
       "9"
      ]
     },
     "execution_count": 7,
     "metadata": {},
     "output_type": "execute_result"
    }
   ],
   "source": [
    "# Prueba append 0\n",
    "\n",
    "59 // 10\n",
    "\n",
    "59 % 10"
   ]
  },
  {
   "cell_type": "code",
   "execution_count": 8,
   "id": "728b7c70-226d-4e27-a2b1-6e6d85b8f03a",
   "metadata": {},
   "outputs": [
    {
     "data": {
      "text/plain": [
       "[0]"
      ]
     },
     "execution_count": 8,
     "metadata": {},
     "output_type": "execute_result"
    }
   ],
   "source": [
    "my_test_list = []\n",
    "my_test_list.append(0)\n",
    "my_test_list"
   ]
  },
  {
   "cell_type": "code",
   "execution_count": null,
   "id": "98d89b66-fc17-4494-ab3f-1398388c6454",
   "metadata": {},
   "outputs": [],
   "source": []
  },
  {
   "cell_type": "code",
   "execution_count": 9,
   "id": "4202edc5-f719-4068-96bd-55703a8a6c27",
   "metadata": {},
   "outputs": [],
   "source": [
    "my_list = [7, 19, 46, 73, 19, 61, 65, 58, 25, 20, 56, 26, 87, 80, 86, 96, 56, 8, 4, 78, 15, 93, 40, 62, 48, 17, 86, 83, 54, 50, 70, 8, 19, 14, 14, 79, 64, 15, 90, 51, 2, 36, 98, 10, 93, 92, 42, 42, 96, 38, 68, 3, 63, 40, 88, 17, 10, 56, 25, 66, 85, 3, 95, 93, 52, 93, 12, 52, 75, 39, 70, 92, 73, 71, 1, 99, 6, 40, 60, 44, 80, 78, 13, 55, 84, 69, 37, 73, 75, 55, 88]\n",
    "\n",
    "# my_Answer: {0: [1, 2, 3, 3, 4, 6, 7, 8, 8], 1: [0, 0, 0, 0, 2, 3, 4, 4, 5, 5, 7, 7, 9, 9, 9], 2: [0, 0, 5, 5, 6], 3: [6, 7, 8, 9], 4: [0, 0, 0, 0, 0, 0, 2, 2, 4, 6, 8], 5: [0, 0, 1, 2, 2, 4, 5, 5, 6, 6, 6, 8], 6: [0, 0, 1, 2, 3, 4, 5, 6, 8, 9], 7: [0, 0, 0, 0, 1, 3, 3, 3, 5, 5, 8, 8, 9], 8: [0, 0, 0, 0, 3, 4, 5, 6, 6, 7, 8, 8], 9: [0, 0, 2, 2, 3, 3, 3, 3, 5, 6, 6, 8, 9]}\n",
    "#my_should_answer: {0: [0, 4, 7, 8], 1: [0, 0, 2, 2, 2, 3, 6, 9, 9, 9], 2: [2, 2, 6, 6, 7, 9], 3: [0, 2, 2, 3, 5, 6, 6, 8, 9], 4: [1, 2, 3, 7, 7], 5: [2, 2, 5, 5, 5, 5, 6, 8, 9], 6: [1, 1, 1, 1, 2, 3, 4, 5, 6, 9], 7: [0, 3, 3, 5, 5, 7, 8], 8: [0, 0, 0, 2, 9, 9], 9: [0, 1, 2, 3, 3, 4, 4, 5, 7, 9, 9]}"
   ]
  },
  {
   "cell_type": "code",
   "execution_count": 10,
   "id": "9bd6f798-65ff-44e5-a142-1894c4399f10",
   "metadata": {},
   "outputs": [
    {
     "name": "stdout",
     "output_type": "stream",
     "text": [
      "{0: [7, 8, 4, 8, 2, 3, 3, 1, 6], 1: [9, 9, 5, 7, 9, 4, 4, 5, 0, 0, 7, 0, 0, 2, 3], 2: [5, 0, 0, 6, 5], 3: [6, 8, 9, 7], 4: [6, 0, 0, 8, 2, 2, 0, 0, 0, 0, 4], 5: [8, 6, 6, 4, 0, 0, 1, 6, 2, 2, 5, 5], 6: [1, 5, 2, 4, 8, 3, 6, 0, 0, 9], 7: [3, 8, 0, 0, 9, 5, 0, 0, 3, 1, 8, 3, 5], 8: [7, 0, 0, 6, 6, 3, 8, 5, 0, 0, 4, 8], 9: [6, 3, 0, 0, 8, 3, 2, 6, 5, 3, 3, 2, 9]}\n"
     ]
    }
   ],
   "source": [
    "dict_digits = {0:[],1:[],2:[],3:[],4:[],5:[],6:[],7:[],8:[],9:[]} # Final output empty\n",
    "\n",
    "for x in my_list:\n",
    "        if x < 10:\n",
    "            dict_digits[0].append(x)\n",
    "            if x == 0:\n",
    "                dict_digits[0].append(0)\n",
    "        if x >= 10 and x < 20:\n",
    "            dict_digits[1].append(x - 10)\n",
    "            if x == 10:\n",
    "                dict_digits[1].append(0)\n",
    "                \n",
    "        if x >= 20 and x < 30:\n",
    "            dict_digits[2].append(x - 20)\n",
    "            if x == 20 :\n",
    "                dict_digits[2].append(0)\n",
    "                \n",
    "        if x >= 30 and x < 40:\n",
    "            dict_digits[3].append(x - 30)\n",
    "            if x == 30:\n",
    "                dict_digits[3].append(0)\n",
    "                \n",
    "        if x >= 40 and x < 50:\n",
    "            dict_digits[4].append(x - 40)\n",
    "            if x == 40:\n",
    "                dict_digits[4].append(0)\n",
    "                \n",
    "        if x >= 50 and x < 60:\n",
    "            dict_digits[5].append(x - 50)\n",
    "            if x == 50:\n",
    "                dict_digits[5].append(0)\n",
    "            \n",
    "        if x >= 60 and x < 70:\n",
    "            dict_digits[6].append(x - 60)\n",
    "            if x == 60:\n",
    "                dict_digits[6].append(0)\n",
    "                \n",
    "        if x >= 70 and x < 80:\n",
    "            dict_digits[7].append(x - 70)\n",
    "            if x == 70:\n",
    "                dict_digits[7].append(0)\n",
    "                \n",
    "        if x >= 80 and x < 90:\n",
    "            dict_digits[8].append(x - 80)\n",
    "            if x == 80:\n",
    "                dict_digits[8].append(0)\n",
    "        if x >= 90 and x < 100:\n",
    "            dict_digits[9].append(x - 90)\n",
    "            if x == 90:\n",
    "                dict_digits[9].append(0)\n",
    "\n",
    "        \n",
    "        \n",
    "        \n",
    "print(dict_digits) # Final out put complete"
   ]
  },
  {
   "cell_type": "code",
   "execution_count": 11,
   "id": "a5aa0d89-3155-4696-8fbd-a21e827accdf",
   "metadata": {},
   "outputs": [
    {
     "name": "stdout",
     "output_type": "stream",
     "text": [
      "{0: [1, 2, 3, 3, 4, 6, 7, 8, 8], 1: [0, 0, 0, 0, 2, 3, 4, 4, 5, 5, 7, 7, 9, 9, 9], 2: [0, 0, 5, 5, 6], 3: [6, 7, 8, 9], 4: [0, 0, 0, 0, 0, 0, 2, 2, 4, 6, 8], 5: [0, 0, 1, 2, 2, 4, 5, 5, 6, 6, 6, 8], 6: [0, 0, 1, 2, 3, 4, 5, 6, 8, 9], 7: [0, 0, 0, 0, 1, 3, 3, 3, 5, 5, 8, 8, 9], 8: [0, 0, 0, 0, 3, 4, 5, 6, 6, 7, 8, 8], 9: [0, 0, 2, 2, 3, 3, 3, 3, 5, 6, 6, 8, 9]}\n"
     ]
    }
   ],
   "source": [
    "for key, value in dict_digits.items():\n",
    "    if len(value) > 1:\n",
    "        value = sorted(value)\n",
    "        dict_digits[key] = value\n",
    "print(dict_digits) # Output with ordered elements\n"
   ]
  },
  {
   "cell_type": "code",
   "execution_count": 12,
   "id": "73a2b83d-f4b8-4f25-aebc-d85b413b71ba",
   "metadata": {},
   "outputs": [
    {
     "name": "stdout",
     "output_type": "stream",
     "text": [
      "{0: [1, 2, 3, 3, 4, 6, 7, 8, 8], 1: [0, 0, 0, 0, 2, 3, 4, 4, 5, 5, 7, 7, 9, 9, 9], 2: [0, 0, 5, 5, 6], 3: [6, 7, 8, 9], 4: [0, 0, 0, 0, 0, 0, 2, 2, 4, 6, 8], 5: [0, 0, 1, 2, 2, 4, 5, 5, 6, 6, 6, 8], 6: [0, 0, 1, 2, 3, 4, 5, 6, 8, 9], 7: [0, 0, 0, 0, 1, 3, 3, 3, 5, 5, 8, 8, 9], 8: [0, 0, 0, 0, 3, 4, 5, 6, 6, 7, 8, 8], 9: [0, 0, 2, 2, 3, 3, 3, 3, 5, 6, 6, 8, 9]}\n"
     ]
    }
   ],
   "source": [
    "dict_digits_copy = dict_digits.copy()\n",
    "for key, value in dict_digits.items():\n",
    "    if len(value) == 0:\n",
    "        del dict_digits_copy[key]\n",
    "dict_digits = dict_digits_copy\n",
    "print(dict_digits)"
   ]
  },
  {
   "cell_type": "markdown",
   "id": "5e5948ae-bfb0-4aa7-8cc0-83970accb44a",
   "metadata": {},
   "source": [
    "## Copy your submited solution here:"
   ]
  },
  {
   "cell_type": "code",
   "execution_count": 13,
   "id": "de8f88a1-897b-4b92-8c9f-e04d16cec21a",
   "metadata": {},
   "outputs": [],
   "source": [
    "def stem_and_leaf(data):\n",
    "    dict_digits = {0:[],1:[],2:[],3:[],4:[],5:[],6:[],7:[],8:[],9:[]}\n",
    "    \n",
    "    for x in data:\n",
    "        if x < 10:\n",
    "            dict_digits[0].append(x)\n",
    "            if x == 0:\n",
    "                dict_digits[0].append(0)\n",
    "        if x >= 10 and x < 20:\n",
    "            dict_digits[1].append(x - 10)\n",
    "            if x == 10:\n",
    "                dict_digits[1].append(0)\n",
    "                \n",
    "        if x >= 20 and x < 30:\n",
    "            dict_digits[2].append(x - 20)\n",
    "            if x == 20 :\n",
    "                dict_digits[2].append(0)\n",
    "                \n",
    "        if x >= 30 and x < 40:\n",
    "            dict_digits[3].append(x - 30)\n",
    "            if x == 30:\n",
    "                dict_digits[3].append(0)\n",
    "                \n",
    "        if x >= 40 and x < 50:\n",
    "            dict_digits[4].append(x - 40)\n",
    "            if x == 40:\n",
    "                dict_digits[4].append(0)\n",
    "                \n",
    "        if x >= 50 and x < 60:\n",
    "            dict_digits[5].append(x - 50)\n",
    "            if x == 50:\n",
    "                dict_digits[5].append(0)\n",
    "            \n",
    "        if x >= 60 and x < 70:\n",
    "            dict_digits[6].append(x - 60)\n",
    "            if x == 60:\n",
    "                dict_digits[6].append(0)\n",
    "                \n",
    "        if x >= 70 and x < 80:\n",
    "            dict_digits[7].append(x - 70)\n",
    "            if x == 70:\n",
    "                dict_digits[7].append(0)\n",
    "                \n",
    "        if x >= 80 and x < 90:\n",
    "            dict_digits[8].append(x - 80)\n",
    "            if x == 80:\n",
    "                dict_digits[8].append(0)\n",
    "        if x >= 90 and x < 100:\n",
    "            dict_digits[9].append(x - 90)\n",
    "            if x == 90:\n",
    "                dict_digits[9].append(0)\n",
    "\n",
    "    for key, value in dict_digits.items():\n",
    "        if len(value) > 1:\n",
    "            value = sorted(value)\n",
    "            dict_digits[key] = value\n",
    "    print(dict_digits) # Output with ordered elements\n",
    "\n",
    "    dict_digits_copy = dict_digits.copy()\n",
    "    for key, value in dict_digits.items():\n",
    "        if len(value) == 0:\n",
    "            del dict_digits_copy[key] # delete empty elements \n",
    "    dict_digits = dict_digits_copy\n",
    "    return dict_digits\n",
    "\n",
    "    "
   ]
  },
  {
   "cell_type": "code",
   "execution_count": 14,
   "id": "8fde8d51-1c61-4ba2-b8f8-de4fbca1ff44",
   "metadata": {},
   "outputs": [
    {
     "name": "stdout",
     "output_type": "stream",
     "text": [
      "{0: [1, 2, 3, 3, 4, 6, 7, 8, 8], 1: [0, 0, 0, 0, 2, 3, 4, 4, 5, 5, 7, 7, 9, 9, 9], 2: [0, 0, 5, 5, 6], 3: [6, 7, 8, 9], 4: [0, 0, 0, 0, 0, 0, 2, 2, 4, 6, 8], 5: [0, 0, 1, 2, 2, 4, 5, 5, 6, 6, 6, 8], 6: [0, 0, 1, 2, 3, 4, 5, 6, 8, 9], 7: [0, 0, 0, 0, 1, 3, 3, 3, 5, 5, 8, 8, 9], 8: [0, 0, 0, 0, 3, 4, 5, 6, 6, 7, 8, 8], 9: [0, 0, 2, 2, 3, 3, 3, 3, 5, 6, 6, 8, 9]}\n"
     ]
    },
    {
     "data": {
      "text/plain": [
       "{0: [1, 2, 3, 3, 4, 6, 7, 8, 8],\n",
       " 1: [0, 0, 0, 0, 2, 3, 4, 4, 5, 5, 7, 7, 9, 9, 9],\n",
       " 2: [0, 0, 5, 5, 6],\n",
       " 3: [6, 7, 8, 9],\n",
       " 4: [0, 0, 0, 0, 0, 0, 2, 2, 4, 6, 8],\n",
       " 5: [0, 0, 1, 2, 2, 4, 5, 5, 6, 6, 6, 8],\n",
       " 6: [0, 0, 1, 2, 3, 4, 5, 6, 8, 9],\n",
       " 7: [0, 0, 0, 0, 1, 3, 3, 3, 5, 5, 8, 8, 9],\n",
       " 8: [0, 0, 0, 0, 3, 4, 5, 6, 6, 7, 8, 8],\n",
       " 9: [0, 0, 2, 2, 3, 3, 3, 3, 5, 6, 6, 8, 9]}"
      ]
     },
     "execution_count": 14,
     "metadata": {},
     "output_type": "execute_result"
    }
   ],
   "source": [
    "stem_and_leaf(my_list) # Example 1"
   ]
  },
  {
   "cell_type": "code",
   "execution_count": 15,
   "id": "e06f517a-ccb3-41a2-a78c-dd15533ed104",
   "metadata": {},
   "outputs": [
    {
     "name": "stdout",
     "output_type": "stream",
     "text": [
      "{0: [3, 5], 1: [0, 0, 2, 7, 8], 2: [0, 0, 0, 0, 2, 7], 3: [5, 8], 4: [1, 8, 9, 9], 5: [0, 0, 2, 5], 6: [0, 0, 0, 0, 2, 7], 7: [0, 0], 8: [1, 4, 8], 9: [1, 3, 4, 6]}\n"
     ]
    },
    {
     "data": {
      "text/plain": [
       "{0: [3, 5],\n",
       " 1: [0, 0, 2, 7, 8],\n",
       " 2: [0, 0, 0, 0, 2, 7],\n",
       " 3: [5, 8],\n",
       " 4: [1, 8, 9, 9],\n",
       " 5: [0, 0, 2, 5],\n",
       " 6: [0, 0, 0, 0, 2, 7],\n",
       " 7: [0, 0],\n",
       " 8: [1, 4, 8],\n",
       " 9: [1, 3, 4, 6]}"
      ]
     },
     "execution_count": 15,
     "metadata": {},
     "output_type": "execute_result"
    }
   ],
   "source": [
    "stem_and_leaf([38, 60, 88, 93, 12, 52, 5, 55, 27, 49, 48, 50, 70, 18, 84, 96, 94, 67, 49, 62, 20, 20, 81, 22, 35, 10, 60, 17, 91, 3, 41])# Example 2"
   ]
  },
  {
   "cell_type": "code",
   "execution_count": 16,
   "id": "e89d578a-b0b3-490d-bafa-534a2df9821b",
   "metadata": {},
   "outputs": [],
   "source": [
    "# My answer \n",
    "# Should ans: {0: [3, 5], 1: [0, 2, 7, 8], 2: [0, 0, 2, 7], 3: [5, 8], 4: [1, 8, 9, 9], 5: [0, 2, 5], 6: [0, 0, 2, 7], 7: [0], 8: [1, 4, 8], 9: [1, 3, 4, 6]}"
   ]
  },
  {
   "cell_type": "code",
   "execution_count": 17,
   "id": "bde4a24d-04a8-4f0b-a1a5-9d4eb17a7341",
   "metadata": {},
   "outputs": [
    {
     "name": "stdout",
     "output_type": "stream",
     "text": [
      "1\n"
     ]
    },
    {
     "ename": "TypeError",
     "evalue": "'int' object is not iterable",
     "output_type": "error",
     "traceback": [
      "\u001b[1;31m---------------------------------------------------------------------------\u001b[0m",
      "\u001b[1;31mTypeError\u001b[0m                                 Traceback (most recent call last)",
      "Cell \u001b[1;32mIn[17], line 10\u001b[0m\n\u001b[0;32m      8\u001b[0m \u001b[38;5;28;01mif\u001b[39;00m key \u001b[38;5;129;01mnot\u001b[39;00m \u001b[38;5;129;01min\u001b[39;00m my_dict:\n\u001b[0;32m      9\u001b[0m     my_dict[key] \u001b[38;5;241m=\u001b[39m value\n\u001b[1;32m---> 10\u001b[0m     value \u001b[38;5;241m=\u001b[39m \u001b[38;5;28;43mlist\u001b[39;49m\u001b[43m(\u001b[49m\u001b[43mvalue\u001b[49m\u001b[43m)\u001b[49m\n\u001b[0;32m     11\u001b[0m \u001b[38;5;28;01melse\u001b[39;00m:\n\u001b[0;32m     12\u001b[0m     my_dict[key]\u001b[38;5;241m.\u001b[39mappend(value)\n",
      "\u001b[1;31mTypeError\u001b[0m: 'int' object is not iterable"
     ]
    }
   ],
   "source": [
    "my_list = [7, 19, 46, 73, 19, 61, 65, 58, 25, 20, 56, 26, 87, 80, 86, 96, 56, 8, 4, 78, 15, 93, 40, 62, 48, 17, 86, 83, 54, 50, 70, 8, 19, 14, 14, 79, 64, 15, 90, 51, 2, 36, 98, 10, 93, 92, 42, 42, 96, 38, 68, 3, 63, 40, 88, 17, 10, 56, 25, 66, 85, 3, 95, 93, 52, 93, 12, 52, 75, 39, 70, 92, 73, 71, 1, 99, 6, 40, 60, 44, 80, 78, 13, 55, 84, 69, 37, 73, 75, 55, 88]\n",
    "my_list = sorted(my_list)\n",
    "my_dict = {}\n",
    "for x in my_list:\n",
    "    print(x)\n",
    "    key = x // 10\n",
    "    value = x % 10\n",
    "    if key not in my_dict:\n",
    "        my_dict[key] = value\n",
    "        value = list(value)\n",
    "    else:\n",
    "        my_dict[key].append(value)\n"
   ]
  },
  {
   "cell_type": "code",
   "execution_count": 18,
   "id": "751fc1eb-203d-467f-b528-27ba3a78be1e",
   "metadata": {},
   "outputs": [
    {
     "data": {
      "text/plain": [
       "7"
      ]
     },
     "execution_count": 18,
     "metadata": {},
     "output_type": "execute_result"
    }
   ],
   "source": [
    "7 // 10\n",
    "7 % 10"
   ]
  },
  {
   "cell_type": "code",
   "execution_count": 110,
   "id": "9d86455f-9be5-472f-9582-0e6726f0ea74",
   "metadata": {},
   "outputs": [
    {
     "ename": "TypeError",
     "evalue": "'list' object is not callable",
     "output_type": "error",
     "traceback": [
      "\u001b[1;31m---------------------------------------------------------------------------\u001b[0m",
      "\u001b[1;31mTypeError\u001b[0m                                 Traceback (most recent call last)",
      "Cell \u001b[1;32mIn[110], line 2\u001b[0m\n\u001b[0;32m      1\u001b[0m value \u001b[38;5;241m=\u001b[39m \u001b[38;5;241m4\u001b[39m\n\u001b[1;32m----> 2\u001b[0m value \u001b[38;5;241m=\u001b[39m \u001b[38;5;28;43mlist\u001b[39;49m\u001b[43m(\u001b[49m\u001b[43mvalue\u001b[49m\u001b[43m)\u001b[49m\n",
      "\u001b[1;31mTypeError\u001b[0m: 'list' object is not callable"
     ]
    }
   ],
   "source": [
    "value = 4\n",
    "value = list(value)"
   ]
  },
  {
   "cell_type": "code",
   "execution_count": null,
   "id": "0315ad65-c206-46e3-bdd8-3e8abd07d92a",
   "metadata": {},
   "outputs": [],
   "source": []
  }
 ],
 "metadata": {
  "kernelspec": {
   "display_name": "Python 3 (ipykernel)",
   "language": "python",
   "name": "python3"
  },
  "language_info": {
   "codemirror_mode": {
    "name": "ipython",
    "version": 3
   },
   "file_extension": ".py",
   "mimetype": "text/x-python",
   "name": "python",
   "nbconvert_exporter": "python",
   "pygments_lexer": "ipython3",
   "version": "3.10.14"
  }
 },
 "nbformat": 4,
 "nbformat_minor": 5
}
