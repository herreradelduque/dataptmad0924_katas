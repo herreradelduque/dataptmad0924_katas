{
 "cells": [
  {
   "cell_type": "markdown",
   "id": "a447b8b5-f16b-451f-b45c-47746f721e1e",
   "metadata": {},
   "source": [
    "# Kata:"
   ]
  },
  {
   "cell_type": "markdown",
   "id": "c7379b61-1f04-4fa2-8865-bf3e2c83b39e",
   "metadata": {},
   "source": [
    "https://www.codewars.com/kata/5cc80fbe701f0d001136e5eb/train/python"
   ]
  },
  {
   "cell_type": "markdown",
   "id": "5e2a4659-1d95-44fb-b92c-4646b4da4e6f",
   "metadata": {},
   "source": [
    "## Your name or team members:"
   ]
  },
  {
   "cell_type": "markdown",
   "id": "016adf18-80d7-4c8e-9307-8c27b42ecb48",
   "metadata": {},
   "source": [
    "## Martín González"
   ]
  },
  {
   "cell_type": "markdown",
   "id": "f04997cc-966d-4e06-8eb0-64ab376728f8",
   "metadata": {},
   "source": [
    "## Use the following cells to test your solution:"
   ]
  },
  {
   "cell_type": "code",
   "execution_count": 2,
   "id": "1c1f6098-25a1-4805-a249-b833ca4a66a0",
   "metadata": {},
   "outputs": [],
   "source": [
    "# Input: list of integers from 1 to 99\n",
    "    # Output: dict: key:integer, value:list\n",
    "    # En la posicion 0 del dict pilla los valores que tienen solo 1 cifra y los mete en el valor\n",
    "    # En la posicion 1 del dict pilla los valores de 2 cifras cuya primera cifra es '1'\n",
    "    # En la posicion 2 del dict pilla los valores de 2 cifras cuya primera cifra es '2'\n",
    "    # En la posicion 2 del dict pilla los valores de 2 cifras cuya primera cifra es '3'"
   ]
  },
  {
   "cell_type": "code",
   "execution_count": 3,
   "id": "4202edc5-f719-4068-96bd-55703a8a6c27",
   "metadata": {},
   "outputs": [],
   "source": [
    "list = [11, 35, 14, 9, 39, 23, 35]"
   ]
  },
  {
   "cell_type": "code",
   "execution_count": 4,
   "id": "9bd6f798-65ff-44e5-a142-1894c4399f10",
   "metadata": {},
   "outputs": [
    {
     "name": "stdout",
     "output_type": "stream",
     "text": [
      "{0: [9], 1: [], 2: [], 3: [], 4: [], 5: [], 6: [], 7: [], 8: [], 9: []}\n"
     ]
    }
   ],
   "source": [
    "dict_digits = {0:[],1:[],2:[],3:[],4:[],5:[],6:[],7:[],8:[],9:[]}\n",
    "for x in list:\n",
    "    if x < 10:\n",
    "        dict_digits[0].append(x)\n",
    "    if x > 10 and x < 20:\n",
    "        dict_digits[1].append(x - 10)\n",
    "    if x > 20 and x < 30:\n",
    "        dict_digits[2].append(x - 20)\n",
    "    if x > 30 and x < 40:\n",
    "        dict_digits.append(x - 30)\n",
    "    if x > 40 and x < 50:\n",
    "        dict_digits.append(x - 40)\n",
    "    if x > 50 and x < 60:\n",
    "        dict_digits.append(x - 50)\n",
    "    if x > 60 and x < 70:\n",
    "        dict_digits.append(x - 60)\n",
    "    if x > 70\n",
    "        \n",
    "        \n",
    "print(dict_digits)"
   ]
  },
  {
   "cell_type": "markdown",
   "id": "5e5948ae-bfb0-4aa7-8cc0-83970accb44a",
   "metadata": {},
   "source": [
    "## Copy your submited solution here:"
   ]
  },
  {
   "cell_type": "code",
   "execution_count": null,
   "id": "de8f88a1-897b-4b92-8c9f-e04d16cec21a",
   "metadata": {},
   "outputs": [],
   "source": []
  }
 ],
 "metadata": {
  "kernelspec": {
   "display_name": "Python 3 (ipykernel)",
   "language": "python",
   "name": "python3"
  },
  "language_info": {
   "codemirror_mode": {
    "name": "ipython",
    "version": 3
   },
   "file_extension": ".py",
   "mimetype": "text/x-python",
   "name": "python",
   "nbconvert_exporter": "python",
   "pygments_lexer": "ipython3",
   "version": "3.10.14"
  }
 },
 "nbformat": 4,
 "nbformat_minor": 5
}
