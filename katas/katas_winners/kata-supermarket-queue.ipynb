{
 "cells": [
  {
   "cell_type": "markdown",
   "id": "a447b8b5-f16b-451f-b45c-47746f721e1e",
   "metadata": {},
   "source": [
    "# Kata:"
   ]
  },
  {
   "cell_type": "markdown",
   "id": "c7379b61-1f04-4fa2-8865-bf3e2c83b39e",
   "metadata": {},
   "source": [
    "https://www.codewars.com/kata/57b06f90e298a7b53d000a86/train/python"
   ]
  },
  {
   "cell_type": "markdown",
   "id": "5e2a4659-1d95-44fb-b92c-4646b4da4e6f",
   "metadata": {},
   "source": [
    "## Your name or team members:"
   ]
  },
  {
   "cell_type": "code",
   "execution_count": 10,
   "id": "29ead553-d8b4-41aa-937f-7fd045595855",
   "metadata": {},
   "outputs": [],
   "source": [
    "def queue_time(customers, n):\n",
    "    cajas = []\n",
    "    cajasLibres = True\n",
    "    total = 0\n",
    "    for x in range(n):\n",
    "        list_x = []\n",
    "        cajas.append(list_x)\n",
    "    print(\"cajas: \",cajas)\n",
    "    print(\"Numero cajas: \", len(cajas))\n",
    "    print(\"Nº Clientes: \", len(customers))\n",
    "    total = max(customers)\n",
    "    if len(customers) <= len(cajas):\n",
    "        for y in range(len(customers)):\n",
    "            cajas[y].append(customers[y])\n",
    "            if y > (len(cajas)):\n",
    "                break\n",
    "        \n",
    "        print(\"Total: \", str(total))\n",
    "\n",
    "        return total\n",
    "    else:\n",
    "        \n",
    "        print(\"El cliente que más tarda tarda: \", max(customers))\n",
    "        \n",
    "        customers.sort( reverse = True )\n",
    "        \n",
    "        print(customers)\n",
    "        print(cajas)\n",
    "\n",
    "        count_cajas_libres = 0\n",
    "\n",
    "        while (count_cajas_libres < len(cajas)):  # Se llenan todas las cajas de clientes\n",
    "            cajas[count_cajas_libres].append(customers[count_cajas_libres])\n",
    "            count_cajas_libres += 1\n",
    "              \n",
    "\n",
    "        print(cajas)\n",
    "        if count_cajas_libres == len(cajas):\n",
    "            cajasLibres = False\n",
    "        print(cajasLibres)\n",
    "        \n",
    "        if cajasLibres == False:\n",
    "            print(\"Customers: \", customers)\n",
    "            print(\"Cajas: \", cajas)\n",
    "        \n",
    "            \n",
    "        for z in range(min(cajas[0])):\n",
    "            print(type(cajas[z]))# Se va el cliente que menos tarda y pasa el tiempo para los clientes que siguen\n",
    "            print(type(min(cajas)))\n",
    "            if cajas[z] > min(cajas):\n",
    "                cajas[z][0] -= 1\n",
    "                \n",
    "            else:\n",
    "                cajas[x].clear()\n",
    "                cajasVacias = True\n",
    "                \n",
    "\n",
    "        print(\"Cajas: \", cajas)\n",
    "\n",
    "        \n",
    "        \n",
    "                \n",
    "            \n",
    "            \n",
    "\n",
    "\n",
    "\n",
    "        return 0\n",
    "                    \n",
    "\n",
    "     \n",
    "    \n",
    "        \n",
    "        \n",
    "   \n",
    "   \n",
    "    \n",
    "    \n",
    "        \n"
   ]
  },
  {
   "cell_type": "code",
   "execution_count": 11,
   "id": "aa1470d8-a089-46ca-b596-0c127ac671d9",
   "metadata": {},
   "outputs": [
    {
     "name": "stdout",
     "output_type": "stream",
     "text": [
      "cajas:  [[], [], []]\n",
      "Numero cajas:  3\n",
      "Nº Clientes:  5\n",
      "El cliente que más tarda tarda:  5\n",
      "[5, 5, 4, 4, 1]\n",
      "[[], [], []]\n",
      "[[5], [5], [4]]\n",
      "False\n",
      "Customers:  [5, 5, 4, 4, 1]\n",
      "Cajas:  [[5], [5], [4]]\n",
      "<class 'list'>\n",
      "<class 'list'>\n",
      "<class 'list'>\n",
      "<class 'list'>\n",
      "<class 'list'>\n",
      "<class 'list'>\n"
     ]
    },
    {
     "ename": "IndexError",
     "evalue": "list index out of range",
     "output_type": "error",
     "traceback": [
      "\u001b[1;31m---------------------------------------------------------------------------\u001b[0m",
      "\u001b[1;31mIndexError\u001b[0m                                Traceback (most recent call last)",
      "Cell \u001b[1;32mIn[11], line 1\u001b[0m\n\u001b[1;32m----> 1\u001b[0m \u001b[43mqueue_time\u001b[49m\u001b[43m(\u001b[49m\u001b[43m[\u001b[49m\u001b[38;5;241;43m4\u001b[39;49m\u001b[43m,\u001b[49m\u001b[38;5;241;43m5\u001b[39;49m\u001b[43m,\u001b[49m\u001b[38;5;241;43m5\u001b[39;49m\u001b[43m,\u001b[49m\u001b[38;5;241;43m1\u001b[39;49m\u001b[43m,\u001b[49m\u001b[38;5;241;43m4\u001b[39;49m\u001b[43m]\u001b[49m\u001b[43m,\u001b[49m\u001b[38;5;241;43m3\u001b[39;49m\u001b[43m)\u001b[49m\n",
      "Cell \u001b[1;32mIn[10], line 48\u001b[0m, in \u001b[0;36mqueue_time\u001b[1;34m(customers, n)\u001b[0m\n\u001b[0;32m     44\u001b[0m     \u001b[38;5;28mprint\u001b[39m(\u001b[38;5;124m\"\u001b[39m\u001b[38;5;124mCajas: \u001b[39m\u001b[38;5;124m\"\u001b[39m, cajas)\n\u001b[0;32m     47\u001b[0m \u001b[38;5;28;01mfor\u001b[39;00m z \u001b[38;5;129;01min\u001b[39;00m \u001b[38;5;28mrange\u001b[39m(\u001b[38;5;28mmin\u001b[39m(cajas[\u001b[38;5;241m0\u001b[39m])):\n\u001b[1;32m---> 48\u001b[0m     \u001b[38;5;28mprint\u001b[39m(\u001b[38;5;28mtype\u001b[39m(\u001b[43mcajas\u001b[49m\u001b[43m[\u001b[49m\u001b[43mz\u001b[49m\u001b[43m]\u001b[49m))\u001b[38;5;66;03m# Se va el cliente que menos tarda y pasa el tiempo para los clientes que siguen\u001b[39;00m\n\u001b[0;32m     49\u001b[0m     \u001b[38;5;28mprint\u001b[39m(\u001b[38;5;28mtype\u001b[39m(\u001b[38;5;28mmin\u001b[39m(cajas)))\n\u001b[0;32m     50\u001b[0m     \u001b[38;5;28;01mif\u001b[39;00m cajas[z] \u001b[38;5;241m>\u001b[39m \u001b[38;5;28mmin\u001b[39m(cajas):\n",
      "\u001b[1;31mIndexError\u001b[0m: list index out of range"
     ]
    }
   ],
   "source": [
    "queue_time([4,5,5,1,4],3)"
   ]
  },
  {
   "cell_type": "markdown",
   "id": "f04997cc-966d-4e06-8eb0-64ab376728f8",
   "metadata": {},
   "source": [
    "## Use the following cells to test your solution:"
   ]
  },
  {
   "cell_type": "code",
   "execution_count": 26,
   "id": "4202edc5-f719-4068-96bd-55703a8a6c27",
   "metadata": {},
   "outputs": [
    {
     "name": "stdout",
     "output_type": "stream",
     "text": [
      "3\n",
      "3\n"
     ]
    },
    {
     "ename": "TypeError",
     "evalue": "'int' object is not iterable",
     "output_type": "error",
     "traceback": [
      "\u001b[1;31m---------------------------------------------------------------------------\u001b[0m",
      "\u001b[1;31mTypeError\u001b[0m                                 Traceback (most recent call last)",
      "Cell \u001b[1;32mIn[26], line 5\u001b[0m\n\u001b[0;32m      3\u001b[0m \u001b[38;5;28mprint\u001b[39m(cajasPrueba[\u001b[38;5;241m0\u001b[39m][\u001b[38;5;241m0\u001b[39m])\n\u001b[0;32m      4\u001b[0m \u001b[38;5;28;01mfor\u001b[39;00m x \u001b[38;5;129;01min\u001b[39;00m \u001b[38;5;28mrange\u001b[39m(\u001b[38;5;28mlen\u001b[39m(cajasPrueba)):\n\u001b[1;32m----> 5\u001b[0m     \u001b[38;5;28;01mif\u001b[39;00m cajasPrueba[x][\u001b[38;5;241m0\u001b[39m] \u001b[38;5;241m<\u001b[39m \u001b[38;5;28;43mmin\u001b[39;49m\u001b[43m(\u001b[49m\u001b[43mcajasPrueba\u001b[49m\u001b[43m[\u001b[49m\u001b[43mx\u001b[49m\u001b[43m]\u001b[49m\u001b[43m[\u001b[49m\u001b[38;5;241;43m0\u001b[39;49m\u001b[43m]\u001b[49m\u001b[43m)\u001b[49m:\n\u001b[0;32m      6\u001b[0m         \u001b[38;5;28mprint\u001b[39m(\u001b[38;5;124m\"\u001b[39m\u001b[38;5;124mYALAYUALA\u001b[39m\u001b[38;5;124m\"\u001b[39m)\n\u001b[0;32m      7\u001b[0m     \u001b[38;5;28;01melse\u001b[39;00m:\n",
      "\u001b[1;31mTypeError\u001b[0m: 'int' object is not iterable"
     ]
    }
   ],
   "source": [
    "cajasPrueba = [[3],[4],[5]]\n",
    "print(min(cajasPrueba[0]))\n",
    "print(cajasPrueba[0][0])\n",
    "for x in range(len(cajasPrueba)):\n",
    "    if cajasPrueba[x][0] < min(cajasPrueba[x][0]):\n",
    "        print(\"YALAYUALA\")\n",
    "    else:\n",
    "        print(\"ALELUYA\")\n",
    "        "
   ]
  },
  {
   "cell_type": "code",
   "execution_count": null,
   "id": "1c1f6098-25a1-4805-a249-b833ca4a66a0",
   "metadata": {},
   "outputs": [],
   "source": []
  },
  {
   "cell_type": "markdown",
   "id": "5e5948ae-bfb0-4aa7-8cc0-83970accb44a",
   "metadata": {},
   "source": [
    "## Copy your submited solution here:"
   ]
  },
  {
   "cell_type": "code",
   "execution_count": null,
   "id": "de8f88a1-897b-4b92-8c9f-e04d16cec21a",
   "metadata": {},
   "outputs": [],
   "source": []
  }
 ],
 "metadata": {
  "kernelspec": {
   "display_name": "Python 3 (ipykernel)",
   "language": "python",
   "name": "python3"
  },
  "language_info": {
   "codemirror_mode": {
    "name": "ipython",
    "version": 3
   },
   "file_extension": ".py",
   "mimetype": "text/x-python",
   "name": "python",
   "nbconvert_exporter": "python",
   "pygments_lexer": "ipython3",
   "version": "3.10.14"
  }
 },
 "nbformat": 4,
 "nbformat_minor": 5
}
