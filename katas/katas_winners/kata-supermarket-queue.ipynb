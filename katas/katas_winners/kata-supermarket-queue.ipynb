{
 "cells": [
  {
   "cell_type": "markdown",
   "id": "a447b8b5-f16b-451f-b45c-47746f721e1e",
   "metadata": {},
   "source": [
    "# Kata:"
   ]
  },
  {
   "cell_type": "markdown",
   "id": "c7379b61-1f04-4fa2-8865-bf3e2c83b39e",
   "metadata": {},
   "source": [
    "https://www.codewars.com/kata/57b06f90e298a7b53d000a86/train/python"
   ]
  },
  {
   "cell_type": "markdown",
   "id": "5e2a4659-1d95-44fb-b92c-4646b4da4e6f",
   "metadata": {},
   "source": [
    "## Your name or team members:"
   ]
  },
  {
   "cell_type": "code",
   "execution_count": null,
   "id": "29ead553-d8b4-41aa-937f-7fd045595855",
   "metadata": {},
   "outputs": [],
   "source": [
    "Kristina"
   ]
  },
  {
   "cell_type": "markdown",
   "id": "f04997cc-966d-4e06-8eb0-64ab376728f8",
   "metadata": {},
   "source": [
    "## Use the following cells to test your solution:"
   ]
  },
  {
   "cell_type": "code",
   "execution_count": 1,
   "id": "4202edc5-f719-4068-96bd-55703a8a6c27",
   "metadata": {},
   "outputs": [],
   "source": [
    "def queue_time(customers, n):\n",
    "    pass # TODO"
   ]
  },
  {
   "cell_type": "code",
   "execution_count": 2,
   "id": "1c1f6098-25a1-4805-a249-b833ca4a66a0",
   "metadata": {},
   "outputs": [
    {
     "name": "stdout",
     "output_type": "stream",
     "text": [
      "15\n"
     ]
    }
   ],
   "source": [
    "# Definimos y testamos el caso cuando sólo hay una caja:\n",
    "customers=[2,3,10]\n",
    "n=1\n",
    "if n==1:\n",
    "    print(sum(customers))\n",
    "else:\n",
    "    print(False)"
   ]
  },
  {
   "cell_type": "code",
   "execution_count": 3,
   "id": "635f1647",
   "metadata": {},
   "outputs": [
    {
     "name": "stdout",
     "output_type": "stream",
     "text": [
      "till1 2\n",
      "till2 10\n",
      "till1 17\n",
      "till2 15\n",
      "17\n",
      "15\n",
      "17\n"
     ]
    }
   ],
   "source": [
    "# Definimos y testamos el caso cuando hay dos cajas:\n",
    "# customers=[2,3,10]\n",
    "# customers=[10,2,3,5]\n",
    "customers=[2,10,15,5]\n",
    "n=2\n",
    "till1=0\n",
    "till2=0\n",
    "# step1\n",
    "till1=min(customers[0],customers[1])\n",
    "print(f'till1 {till1}')\n",
    "till2=max(customers[0],customers[1])\n",
    "print(f'till2 {till2}')\n",
    "# step2\n",
    "till1 += customers[2]\n",
    "print(f'till1 {till1}')\n",
    "if till1 < till2:\n",
    "    till1 += customers[3]\n",
    "    print(f'till1 {till1}')\n",
    "else:\n",
    "    till2 += customers[3]\n",
    "    print(f'till2 {till2}')\n",
    "print(till1)\n",
    "print(till2)\n",
    "time=max(till1, till2)\n",
    "print(time)\n",
    "# Esto funciona. Cómo hacemos una función general para todos los casos?"
   ]
  },
  {
   "cell_type": "code",
   "execution_count": 13,
   "id": "dc47be70",
   "metadata": {},
   "outputs": [
    {
     "name": "stdout",
     "output_type": "stream",
     "text": [
      "[0]\n",
      "tills is [5]\n",
      "sorted_tills is [5]\n",
      "tills is [8]\n",
      "sorted_tills is [8]\n",
      "tills is [12]\n",
      "sorted_tills is [12]\n"
     ]
    },
    {
     "data": {
      "text/plain": [
       "int"
      ]
     },
     "execution_count": 13,
     "metadata": {},
     "output_type": "execute_result"
    }
   ],
   "source": [
    "customers=[5,3,4]\n",
    "n=1\n",
    "tills=[0]*n\n",
    "print(tills)\n",
    "for customer in customers:\n",
    "    tills[0] += customer\n",
    "    print(f'tills is {tills}')\n",
    "    tills=sorted(tills)\n",
    "    print(f'sorted_tills is {tills}')\n",
    "tills[n-1]\n",
    "type(tills[n-1])"
   ]
  },
  {
   "cell_type": "code",
   "execution_count": null,
   "id": "b2085a74",
   "metadata": {},
   "outputs": [],
   "source": [
    "def queue_time(customers, n):\n",
    "    tills=[0]*n\n",
    "    for customer in customers:\n",
    "        tills[0] += customer\n",
    "        tills=sorted(tills)\n",
    "    return tills[n-1]   "
   ]
  },
  {
   "cell_type": "markdown",
   "id": "5e5948ae-bfb0-4aa7-8cc0-83970accb44a",
   "metadata": {},
   "source": [
    "## Copy your submited solution here:"
   ]
  },
  {
   "cell_type": "code",
   "execution_count": null,
   "id": "de8f88a1-897b-4b92-8c9f-e04d16cec21a",
   "metadata": {},
   "outputs": [],
   "source": [
    "def queue_time(customers, n):\n",
    "    tills=[0]*n\n",
    "    for customer in customers:\n",
    "        tills[0] += customer\n",
    "        tills=sorted(tills)\n",
    "    return tills[n-1] "
   ]
  }
 ],
 "metadata": {
  "kernelspec": {
   "display_name": "Python 3 (ipykernel)",
   "language": "python",
   "name": "python3"
  },
  "language_info": {
   "codemirror_mode": {
    "name": "ipython",
    "version": 3
   },
   "file_extension": ".py",
   "mimetype": "text/x-python",
   "name": "python",
   "nbconvert_exporter": "python",
   "pygments_lexer": "ipython3",
   "version": "3.10.14"
  }
 },
 "nbformat": 4,
 "nbformat_minor": 5
}
