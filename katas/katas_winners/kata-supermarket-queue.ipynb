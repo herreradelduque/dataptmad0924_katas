{
 "cells": [
  {
   "cell_type": "markdown",
   "id": "a447b8b5-f16b-451f-b45c-47746f721e1e",
   "metadata": {},
   "source": [
    "# Kata:"
   ]
  },
  {
   "cell_type": "markdown",
   "id": "c7379b61-1f04-4fa2-8865-bf3e2c83b39e",
   "metadata": {},
   "source": [
    "https://www.codewars.com/kata/57b06f90e298a7b53d000a86/train/python"
   ]
  },
  {
   "cell_type": "markdown",
   "id": "5e2a4659-1d95-44fb-b92c-4646b4da4e6f",
   "metadata": {},
   "source": [
    "## Your name or team members:"
   ]
  },
  {
   "cell_type": "code",
   "execution_count": null,
   "id": "29ead553-d8b4-41aa-937f-7fd045595855",
   "metadata": {},
   "outputs": [],
   "source": [
    "\"Blanca\""
   ]
  },
  {
   "cell_type": "markdown",
   "id": "f04997cc-966d-4e06-8eb0-64ab376728f8",
   "metadata": {},
   "source": [
    "## Use the following cells to test your solution:"
   ]
  },
  {
   "cell_type": "code",
   "execution_count": null,
   "id": "4202edc5-f719-4068-96bd-55703a8a6c27",
   "metadata": {},
   "outputs": [],
   "source": [
    "\"\"\"Vamos a necesitar una lista vacia para ir sumando las soluciones\"\"\""
   ]
  },
  {
   "cell_type": "code",
   "execution_count": null,
   "id": "01eedaa5",
   "metadata": {},
   "outputs": [],
   "source": [
    "queue_time([10,2,3,3], 2)"
   ]
  },
  {
   "cell_type": "code",
   "execution_count": 5,
   "id": "1c1f6098-25a1-4805-a249-b833ca4a66a0",
   "metadata": {},
   "outputs": [],
   "source": [
    "#Siempre que n sea igual a 1 el tiempo total sera la suma del array\n",
    "\n",
    "def queue_time(customers, n):\n",
    "    \n",
    "    if n == 1:\n",
    "        return sum(customers)"
   ]
  },
  {
   "cell_type": "code",
   "execution_count": 3,
   "id": "2cf33265",
   "metadata": {},
   "outputs": [
    {
     "data": {
      "text/plain": [
       "12"
      ]
     },
     "execution_count": 3,
     "metadata": {},
     "output_type": "execute_result"
    }
   ],
   "source": [
    "queue_time([5,3,4], 1)"
   ]
  },
  {
   "cell_type": "code",
   "execution_count": 9,
   "id": "eb58ea13",
   "metadata": {},
   "outputs": [],
   "source": [
    "#Siempre que n sea igual a 0 el tiempo total sera 0\n",
    "\n",
    "\n",
    "def queue_time(customers, n):\n",
    "    \n",
    "    if n == 0:\n",
    "        return 0\n",
    "    \n",
    "    elif n == 1:\n",
    "        return sum(customers)    "
   ]
  },
  {
   "cell_type": "code",
   "execution_count": 12,
   "id": "9c755754",
   "metadata": {},
   "outputs": [],
   "source": [
    "queue_time([5,3,4], 0)"
   ]
  },
  {
   "cell_type": "code",
   "execution_count": 17,
   "id": "fef90890",
   "metadata": {},
   "outputs": [
    {
     "name": "stdout",
     "output_type": "stream",
     "text": [
      "caja: []\n"
     ]
    }
   ],
   "source": [
    "#Crear una lista donde ir recogiendo el resultado cada vez que pasa el loop\n",
    "\n",
    "queue_time([5,3,4], 2)\n",
    "\n",
    "def queue_time(customers, n):\n",
    "    \n",
    "    caja = [] * n\n",
    "      "
   ]
  },
  {
   "cell_type": "markdown",
   "id": "5e5948ae-bfb0-4aa7-8cc0-83970accb44a",
   "metadata": {},
   "source": [
    "## Copy your submited solution here:"
   ]
  },
  {
   "cell_type": "code",
   "execution_count": null,
   "id": "de8f88a1-897b-4b92-8c9f-e04d16cec21a",
   "metadata": {},
   "outputs": [],
   "source": []
  }
 ],
 "metadata": {
  "kernelspec": {
   "display_name": "Python 3 (ipykernel)",
   "language": "python",
   "name": "python3"
  },
  "language_info": {
   "codemirror_mode": {
    "name": "ipython",
    "version": 3
   },
   "file_extension": ".py",
   "mimetype": "text/x-python",
   "name": "python",
   "nbconvert_exporter": "python",
   "pygments_lexer": "ipython3",
   "version": "3.9.19"
  }
 },
 "nbformat": 4,
 "nbformat_minor": 5
}
